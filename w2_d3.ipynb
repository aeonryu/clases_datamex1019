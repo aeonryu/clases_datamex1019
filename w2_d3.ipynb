{
 "cells": [
  {
   "cell_type": "code",
   "execution_count": 1,
   "metadata": {},
   "outputs": [],
   "source": [
    "# numerical python\n",
    "# intro numpy\n",
    "import numpy as np"
   ]
  },
  {
   "cell_type": "code",
   "execution_count": 2,
   "metadata": {},
   "outputs": [
    {
     "data": {
      "text/plain": [
       "array([[0.81805331, 0.00131026, 0.38445213, 0.36135483],\n",
       "       [0.02598711, 0.32775142, 0.7944947 , 0.06603137],\n",
       "       [0.86200367, 0.29047727, 0.28350181, 0.39170528],\n",
       "       [0.24803027, 0.43448069, 0.50095574, 0.65057252],\n",
       "       [0.03564857, 0.44462084, 0.51369448, 0.64486957],\n",
       "       [0.61117216, 0.03806863, 0.80877654, 0.60618041],\n",
       "       [0.52355301, 0.07983054, 0.56153577, 0.6702878 ],\n",
       "       [0.81861034, 0.06097769, 0.35633461, 0.88199294],\n",
       "       [0.99543901, 0.0487111 , 0.63938097, 0.84863154],\n",
       "       [0.29392857, 0.6100925 , 0.72360484, 0.76734773]])"
      ]
     },
     "execution_count": 2,
     "metadata": {},
     "output_type": "execute_result"
    }
   ],
   "source": [
    "a=np.random.random((10,4))\n",
    "a"
   ]
  },
  {
   "cell_type": "code",
   "execution_count": 3,
   "metadata": {},
   "outputs": [
    {
     "data": {
      "text/plain": [
       "(10, 4)"
      ]
     },
     "execution_count": 3,
     "metadata": {},
     "output_type": "execute_result"
    }
   ],
   "source": [
    "a.shape"
   ]
  },
  {
   "cell_type": "code",
   "execution_count": 4,
   "metadata": {},
   "outputs": [
    {
     "data": {
      "text/plain": [
       "40"
      ]
     },
     "execution_count": 4,
     "metadata": {},
     "output_type": "execute_result"
    }
   ],
   "source": [
    "a.size"
   ]
  },
  {
   "cell_type": "code",
   "execution_count": 5,
   "metadata": {},
   "outputs": [
    {
     "data": {
      "text/plain": [
       "array([[[0.38617133, 0.49583158],\n",
       "        [0.65556131, 0.22236554],\n",
       "        [0.81900969, 0.05993894]],\n",
       "\n",
       "       [[0.34847829, 0.02002571],\n",
       "        [0.188309  , 0.00148331],\n",
       "        [0.87704838, 0.12667634]],\n",
       "\n",
       "       [[0.27349373, 0.25877654],\n",
       "        [0.69283863, 0.91265228],\n",
       "        [0.7348062 , 0.35393443]],\n",
       "\n",
       "       [[0.50510289, 0.69811121],\n",
       "        [0.94068754, 0.19399909],\n",
       "        [0.74421527, 0.00998148]],\n",
       "\n",
       "       [[0.72090576, 0.77391406],\n",
       "        [0.64214939, 0.85171128],\n",
       "        [0.92807408, 0.58534788]]])"
      ]
     },
     "execution_count": 5,
     "metadata": {},
     "output_type": "execute_result"
    }
   ],
   "source": [
    "b=np.random.random((5,3,2))\n",
    "b"
   ]
  },
  {
   "cell_type": "code",
   "execution_count": 6,
   "metadata": {},
   "outputs": [
    {
     "data": {
      "text/plain": [
       "(5, 3, 2)"
      ]
     },
     "execution_count": 6,
     "metadata": {},
     "output_type": "execute_result"
    }
   ],
   "source": [
    "b.shape"
   ]
  },
  {
   "cell_type": "code",
   "execution_count": 7,
   "metadata": {},
   "outputs": [
    {
     "data": {
      "text/plain": [
       "30"
      ]
     },
     "execution_count": 7,
     "metadata": {},
     "output_type": "execute_result"
    }
   ],
   "source": [
    "b.size"
   ]
  },
  {
   "cell_type": "code",
   "execution_count": 8,
   "metadata": {},
   "outputs": [
    {
     "data": {
      "text/plain": [
       "array([[[[0.4319117 , 0.54720836, 0.81942646, 0.86468318, 0.64343912],\n",
       "         [0.78733071, 0.35477817, 0.61622504, 0.92651945, 0.7409542 ],\n",
       "         [0.50397198, 0.16562731, 0.48498944, 0.45011381, 0.02216435],\n",
       "         [0.07230035, 0.00708465, 0.33736293, 0.16397362, 0.72320998]],\n",
       "\n",
       "        [[0.16504132, 0.23208632, 0.8219859 , 0.2395323 , 0.99825774],\n",
       "         [0.25788903, 0.86204471, 0.13663858, 0.37540695, 0.62114172],\n",
       "         [0.52636443, 0.0598118 , 0.68594944, 0.10713766, 0.80859816],\n",
       "         [0.80819313, 0.00539469, 0.22739683, 0.89731546, 0.25666523]],\n",
       "\n",
       "        [[0.22387244, 0.7830175 , 0.31577628, 0.67193488, 0.95602027],\n",
       "         [0.66026131, 0.20679455, 0.64735723, 0.63235128, 0.44253174],\n",
       "         [0.21811835, 0.93651399, 0.0440713 , 0.107314  , 0.87280986],\n",
       "         [0.12900406, 0.93639479, 0.55405933, 0.60809647, 0.55350206]]],\n",
       "\n",
       "\n",
       "       [[[0.78610239, 0.23258523, 0.83445931, 0.95502782, 0.21256326],\n",
       "         [0.37373718, 0.26570886, 0.16744959, 0.64047826, 0.53999186],\n",
       "         [0.0525771 , 0.21965873, 0.82752951, 0.6117277 , 0.01900437],\n",
       "         [0.15957123, 0.67285616, 0.28997401, 0.12198459, 0.62184131]],\n",
       "\n",
       "        [[0.09094832, 0.97296939, 0.55740973, 0.36223865, 0.82586056],\n",
       "         [0.26012144, 0.18183821, 0.10038432, 0.39855786, 0.00749757],\n",
       "         [0.15081168, 0.8161303 , 0.52962832, 0.18342545, 0.259588  ],\n",
       "         [0.3969853 , 0.19275119, 0.62668936, 0.0403198 , 0.64452374]],\n",
       "\n",
       "        [[0.51209464, 0.9287911 , 0.72493376, 0.15635718, 0.70768161],\n",
       "         [0.9927604 , 0.05369321, 0.69230072, 0.2139759 , 0.55179432],\n",
       "         [0.33215515, 0.20648645, 0.11225379, 0.60402326, 0.94169845],\n",
       "         [0.86477003, 0.50793142, 0.67844136, 0.41283173, 0.46363874]]]])"
      ]
     },
     "execution_count": 8,
     "metadata": {},
     "output_type": "execute_result"
    }
   ],
   "source": [
    "c=np.random.random((2,3,4,5))\n",
    "c"
   ]
  },
  {
   "cell_type": "code",
   "execution_count": 9,
   "metadata": {},
   "outputs": [
    {
     "data": {
      "text/plain": [
       "array([[0.81805331, 0.00131026, 0.38445213, 0.36135483],\n",
       "       [0.02598711, 0.32775142, 0.7944947 , 0.06603137],\n",
       "       [0.86200367, 0.29047727, 0.28350181, 0.39170528],\n",
       "       [0.24803027, 0.43448069, 0.50095574, 0.65057252],\n",
       "       [0.03564857, 0.44462084, 0.51369448, 0.64486957],\n",
       "       [0.61117216, 0.03806863, 0.80877654, 0.60618041],\n",
       "       [0.52355301, 0.07983054, 0.56153577, 0.6702878 ],\n",
       "       [0.81861034, 0.06097769, 0.35633461, 0.88199294],\n",
       "       [0.99543901, 0.0487111 , 0.63938097, 0.84863154],\n",
       "       [0.29392857, 0.6100925 , 0.72360484, 0.76734773]])"
      ]
     },
     "execution_count": 9,
     "metadata": {},
     "output_type": "execute_result"
    }
   ],
   "source": [
    "a"
   ]
  },
  {
   "cell_type": "code",
   "execution_count": 10,
   "metadata": {},
   "outputs": [
    {
     "data": {
      "text/plain": [
       "array([0.81805331, 0.00131026, 0.38445213, 0.36135483])"
      ]
     },
     "execution_count": 10,
     "metadata": {},
     "output_type": "execute_result"
    }
   ],
   "source": [
    "a[0]"
   ]
  },
  {
   "cell_type": "code",
   "execution_count": 11,
   "metadata": {},
   "outputs": [
    {
     "data": {
      "text/plain": [
       "array([0.81805331, 0.02598711, 0.86200367, 0.24803027, 0.03564857,\n",
       "       0.61117216, 0.52355301, 0.81861034, 0.99543901, 0.29392857])"
      ]
     },
     "execution_count": 11,
     "metadata": {},
     "output_type": "execute_result"
    }
   ],
   "source": [
    "a[:,0]"
   ]
  },
  {
   "cell_type": "code",
   "execution_count": 12,
   "metadata": {},
   "outputs": [
    {
     "data": {
      "text/plain": [
       "0.513694481889146"
      ]
     },
     "execution_count": 12,
     "metadata": {},
     "output_type": "execute_result"
    }
   ],
   "source": [
    "a[4,2]"
   ]
  },
  {
   "cell_type": "code",
   "execution_count": 13,
   "metadata": {},
   "outputs": [
    {
     "data": {
      "text/plain": [
       "array([[[[0.4319117 , 0.54720836, 0.81942646, 0.86468318, 0.64343912],\n",
       "         [0.78733071, 0.35477817, 0.61622504, 0.92651945, 0.7409542 ],\n",
       "         [0.50397198, 0.16562731, 0.48498944, 0.45011381, 0.02216435],\n",
       "         [0.07230035, 0.00708465, 0.33736293, 0.16397362, 0.72320998]],\n",
       "\n",
       "        [[0.16504132, 0.23208632, 0.8219859 , 0.2395323 , 0.99825774],\n",
       "         [0.25788903, 0.86204471, 0.13663858, 0.37540695, 0.62114172],\n",
       "         [0.52636443, 0.0598118 , 0.68594944, 0.10713766, 0.80859816],\n",
       "         [0.80819313, 0.00539469, 0.22739683, 0.89731546, 0.25666523]],\n",
       "\n",
       "        [[0.22387244, 0.7830175 , 0.31577628, 0.67193488, 0.95602027],\n",
       "         [0.66026131, 0.20679455, 0.64735723, 0.63235128, 0.44253174],\n",
       "         [0.21811835, 0.93651399, 0.0440713 , 0.107314  , 0.87280986],\n",
       "         [0.12900406, 0.93639479, 0.55405933, 0.60809647, 0.55350206]]],\n",
       "\n",
       "\n",
       "       [[[0.78610239, 0.23258523, 0.83445931, 0.95502782, 0.21256326],\n",
       "         [0.37373718, 0.26570886, 0.16744959, 0.64047826, 0.53999186],\n",
       "         [0.0525771 , 0.21965873, 0.82752951, 0.6117277 , 0.01900437],\n",
       "         [0.15957123, 0.67285616, 0.28997401, 0.12198459, 0.62184131]],\n",
       "\n",
       "        [[0.09094832, 0.97296939, 0.55740973, 0.36223865, 0.82586056],\n",
       "         [0.26012144, 0.18183821, 0.10038432, 0.39855786, 0.00749757],\n",
       "         [0.15081168, 0.8161303 , 0.52962832, 0.18342545, 0.259588  ],\n",
       "         [0.3969853 , 0.19275119, 0.62668936, 0.0403198 , 0.64452374]],\n",
       "\n",
       "        [[0.51209464, 0.9287911 , 0.72493376, 0.15635718, 0.70768161],\n",
       "         [0.9927604 , 0.05369321, 0.69230072, 0.2139759 , 0.55179432],\n",
       "         [0.33215515, 0.20648645, 0.11225379, 0.60402326, 0.94169845],\n",
       "         [0.86477003, 0.50793142, 0.67844136, 0.41283173, 0.46363874]]]])"
      ]
     },
     "execution_count": 13,
     "metadata": {},
     "output_type": "execute_result"
    }
   ],
   "source": [
    "c"
   ]
  },
  {
   "cell_type": "code",
   "execution_count": 14,
   "metadata": {},
   "outputs": [
    {
     "data": {
      "text/plain": [
       "(2, 3, 4, 5)"
      ]
     },
     "execution_count": 14,
     "metadata": {},
     "output_type": "execute_result"
    }
   ],
   "source": [
    "c.shape"
   ]
  },
  {
   "cell_type": "code",
   "execution_count": 15,
   "metadata": {},
   "outputs": [
    {
     "data": {
      "text/plain": [
       "array([[[0.4319117 , 0.54720836, 0.81942646, 0.86468318, 0.64343912],\n",
       "        [0.78733071, 0.35477817, 0.61622504, 0.92651945, 0.7409542 ],\n",
       "        [0.50397198, 0.16562731, 0.48498944, 0.45011381, 0.02216435],\n",
       "        [0.07230035, 0.00708465, 0.33736293, 0.16397362, 0.72320998]],\n",
       "\n",
       "       [[0.16504132, 0.23208632, 0.8219859 , 0.2395323 , 0.99825774],\n",
       "        [0.25788903, 0.86204471, 0.13663858, 0.37540695, 0.62114172],\n",
       "        [0.52636443, 0.0598118 , 0.68594944, 0.10713766, 0.80859816],\n",
       "        [0.80819313, 0.00539469, 0.22739683, 0.89731546, 0.25666523]],\n",
       "\n",
       "       [[0.22387244, 0.7830175 , 0.31577628, 0.67193488, 0.95602027],\n",
       "        [0.66026131, 0.20679455, 0.64735723, 0.63235128, 0.44253174],\n",
       "        [0.21811835, 0.93651399, 0.0440713 , 0.107314  , 0.87280986],\n",
       "        [0.12900406, 0.93639479, 0.55405933, 0.60809647, 0.55350206]]])"
      ]
     },
     "execution_count": 15,
     "metadata": {},
     "output_type": "execute_result"
    }
   ],
   "source": [
    "c[0]"
   ]
  },
  {
   "cell_type": "code",
   "execution_count": 16,
   "metadata": {},
   "outputs": [
    {
     "data": {
      "text/plain": [
       "array([[0.16504132, 0.23208632, 0.8219859 , 0.2395323 , 0.99825774],\n",
       "       [0.25788903, 0.86204471, 0.13663858, 0.37540695, 0.62114172],\n",
       "       [0.52636443, 0.0598118 , 0.68594944, 0.10713766, 0.80859816],\n",
       "       [0.80819313, 0.00539469, 0.22739683, 0.89731546, 0.25666523]])"
      ]
     },
     "execution_count": 16,
     "metadata": {},
     "output_type": "execute_result"
    }
   ],
   "source": [
    "c[0,1]"
   ]
  },
  {
   "cell_type": "code",
   "execution_count": 17,
   "metadata": {},
   "outputs": [
    {
     "data": {
      "text/plain": [
       "array([0.16504132, 0.23208632, 0.8219859 , 0.2395323 , 0.99825774])"
      ]
     },
     "execution_count": 17,
     "metadata": {},
     "output_type": "execute_result"
    }
   ],
   "source": [
    "c[0,1,0]"
   ]
  },
  {
   "cell_type": "code",
   "execution_count": 18,
   "metadata": {},
   "outputs": [
    {
     "data": {
      "text/plain": [
       "0.2320863154198869"
      ]
     },
     "execution_count": 18,
     "metadata": {},
     "output_type": "execute_result"
    }
   ],
   "source": [
    "c[0,1,0,1]"
   ]
  },
  {
   "cell_type": "code",
   "execution_count": 19,
   "metadata": {},
   "outputs": [],
   "source": [
    "lst_lst=[[1,2,3], [4,5,6], [7,8,9]]"
   ]
  },
  {
   "cell_type": "code",
   "execution_count": 22,
   "metadata": {},
   "outputs": [
    {
     "data": {
      "text/plain": [
       "[1, 4, 7]"
      ]
     },
     "execution_count": 22,
     "metadata": {},
     "output_type": "execute_result"
    }
   ],
   "source": [
    "d2=[e[0] for e in lst_lst]\n",
    "d2"
   ]
  },
  {
   "cell_type": "code",
   "execution_count": 20,
   "metadata": {},
   "outputs": [
    {
     "data": {
      "text/plain": [
       "array([[1, 2, 3],\n",
       "       [4, 5, 6],\n",
       "       [7, 8, 9]])"
      ]
     },
     "execution_count": 20,
     "metadata": {},
     "output_type": "execute_result"
    }
   ],
   "source": [
    "d=np.array(lst_lst)\n",
    "d"
   ]
  },
  {
   "cell_type": "code",
   "execution_count": 21,
   "metadata": {},
   "outputs": [
    {
     "data": {
      "text/plain": [
       "array([1, 4, 7])"
      ]
     },
     "execution_count": 21,
     "metadata": {},
     "output_type": "execute_result"
    }
   ],
   "source": [
    "d[:,0]"
   ]
  },
  {
   "cell_type": "code",
   "execution_count": 24,
   "metadata": {},
   "outputs": [
    {
     "name": "stdout",
     "output_type": "stream",
     "text": [
      "[[0.81805331 0.00131026 0.38445213 0.36135483]\n",
      " [0.02598711 0.32775142 0.7944947  0.06603137]\n",
      " [0.86200367 0.29047727 0.28350181 0.39170528]\n",
      " [0.24803027 0.43448069 0.50095574 0.65057252]\n",
      " [0.03564857 0.44462084 0.51369448 0.64486957]\n",
      " [0.61117216 0.03806863 0.80877654 0.60618041]\n",
      " [0.52355301 0.07983054 0.56153577 0.6702878 ]\n",
      " [0.81861034 0.06097769 0.35633461 0.88199294]\n",
      " [0.99543901 0.0487111  0.63938097 0.84863154]\n",
      " [0.29392857 0.6100925  0.72360484 0.76734773]]\n"
     ]
    },
    {
     "data": {
      "text/plain": [
       "19.024452498101795"
      ]
     },
     "execution_count": 24,
     "metadata": {},
     "output_type": "execute_result"
    }
   ],
   "source": [
    "print (a)\n",
    "np.sum(a)"
   ]
  },
  {
   "cell_type": "code",
   "execution_count": 25,
   "metadata": {},
   "outputs": [
    {
     "data": {
      "text/plain": [
       "array([5.232426  , 2.33632093, 5.56673159, 5.88897398])"
      ]
     },
     "execution_count": 25,
     "metadata": {},
     "output_type": "execute_result"
    }
   ],
   "source": [
    "np.sum(a, axis=0)"
   ]
  },
  {
   "cell_type": "code",
   "execution_count": 26,
   "metadata": {},
   "outputs": [
    {
     "data": {
      "text/plain": [
       "array([1.56517052, 1.2142646 , 1.82768803, 1.83403921, 1.63883346,\n",
       "       2.06419773, 1.83520712, 2.11791557, 2.53216262, 2.39497364])"
      ]
     },
     "execution_count": 26,
     "metadata": {},
     "output_type": "execute_result"
    }
   ],
   "source": [
    "np.sum(a, axis=1)"
   ]
  },
  {
   "cell_type": "code",
   "execution_count": 27,
   "metadata": {},
   "outputs": [
    {
     "data": {
      "text/plain": [
       "array([[[0.38617133, 0.49583158],\n",
       "        [0.65556131, 0.22236554],\n",
       "        [0.81900969, 0.05993894]],\n",
       "\n",
       "       [[0.34847829, 0.02002571],\n",
       "        [0.188309  , 0.00148331],\n",
       "        [0.87704838, 0.12667634]],\n",
       "\n",
       "       [[0.27349373, 0.25877654],\n",
       "        [0.69283863, 0.91265228],\n",
       "        [0.7348062 , 0.35393443]],\n",
       "\n",
       "       [[0.50510289, 0.69811121],\n",
       "        [0.94068754, 0.19399909],\n",
       "        [0.74421527, 0.00998148]],\n",
       "\n",
       "       [[0.72090576, 0.77391406],\n",
       "        [0.64214939, 0.85171128],\n",
       "        [0.92807408, 0.58534788]]])"
      ]
     },
     "execution_count": 27,
     "metadata": {},
     "output_type": "execute_result"
    }
   ],
   "source": [
    "b"
   ]
  },
  {
   "cell_type": "code",
   "execution_count": 30,
   "metadata": {},
   "outputs": [
    {
     "data": {
      "text/plain": [
       "(2, 3, 2)"
      ]
     },
     "execution_count": 30,
     "metadata": {},
     "output_type": "execute_result"
    }
   ],
   "source": [
    "b[:2].shape"
   ]
  },
  {
   "cell_type": "code",
   "execution_count": 28,
   "metadata": {},
   "outputs": [
    {
     "data": {
      "text/plain": [
       "4.20089940933224"
      ]
     },
     "execution_count": 28,
     "metadata": {},
     "output_type": "execute_result"
    }
   ],
   "source": [
    "np.sum(b[:2])"
   ]
  },
  {
   "cell_type": "code",
   "execution_count": 31,
   "metadata": {},
   "outputs": [
    {
     "data": {
      "text/plain": [
       "0.47561131245254484"
      ]
     },
     "execution_count": 31,
     "metadata": {},
     "output_type": "execute_result"
    }
   ],
   "source": [
    "np.mean(a)"
   ]
  },
  {
   "cell_type": "code",
   "execution_count": 32,
   "metadata": {},
   "outputs": [
    {
     "data": {
      "text/plain": [
       "0.47561131245254484"
      ]
     },
     "execution_count": 32,
     "metadata": {},
     "output_type": "execute_result"
    }
   ],
   "source": [
    "np.sum(a)/a.size"
   ]
  },
  {
   "cell_type": "code",
   "execution_count": 33,
   "metadata": {},
   "outputs": [
    {
     "data": {
      "text/plain": [
       "array([0.5232426 , 0.23363209, 0.55667316, 0.5888974 ])"
      ]
     },
     "execution_count": 33,
     "metadata": {},
     "output_type": "execute_result"
    }
   ],
   "source": [
    "np.mean(a, axis=0)"
   ]
  },
  {
   "cell_type": "code",
   "execution_count": 34,
   "metadata": {},
   "outputs": [
    {
     "data": {
      "text/plain": [
       "array([0.39129263, 0.30356615, 0.45692201, 0.4585098 , 0.40970836,\n",
       "       0.51604943, 0.45880178, 0.52947889, 0.63304065, 0.59874341])"
      ]
     },
     "execution_count": 34,
     "metadata": {},
     "output_type": "execute_result"
    }
   ],
   "source": [
    "np.mean(a, axis=1)"
   ]
  },
  {
   "cell_type": "code",
   "execution_count": 35,
   "metadata": {},
   "outputs": [],
   "source": [
    "x=np.random.random((2,3))\n",
    "y=np.random.random((2,3))"
   ]
  },
  {
   "cell_type": "code",
   "execution_count": 36,
   "metadata": {},
   "outputs": [
    {
     "data": {
      "text/plain": [
       "array([[0.42149101, 0.51555467, 0.05789328],\n",
       "       [0.56992372, 0.44140933, 0.38511909]])"
      ]
     },
     "execution_count": 36,
     "metadata": {},
     "output_type": "execute_result"
    }
   ],
   "source": [
    "x"
   ]
  },
  {
   "cell_type": "code",
   "execution_count": 37,
   "metadata": {},
   "outputs": [
    {
     "data": {
      "text/plain": [
       "array([[0.5556223 , 0.10149137, 0.64052922],\n",
       "       [0.59902501, 0.99363723, 0.12471804]])"
      ]
     },
     "execution_count": 37,
     "metadata": {},
     "output_type": "execute_result"
    }
   ],
   "source": [
    "y"
   ]
  },
  {
   "cell_type": "code",
   "execution_count": 38,
   "metadata": {},
   "outputs": [
    {
     "data": {
      "text/plain": [
       "array([[0.9771133 , 0.61704604, 0.6984225 ],\n",
       "       [1.16894873, 1.43504656, 0.50983713]])"
      ]
     },
     "execution_count": 38,
     "metadata": {},
     "output_type": "execute_result"
    }
   ],
   "source": [
    "np.add(x,y)"
   ]
  },
  {
   "cell_type": "code",
   "execution_count": 41,
   "metadata": {},
   "outputs": [
    {
     "data": {
      "text/plain": [
       "array([[-0.13413129,  0.4140633 , -0.58263594],\n",
       "       [-0.0291013 , -0.55222789,  0.26040105]])"
      ]
     },
     "execution_count": 41,
     "metadata": {},
     "output_type": "execute_result"
    }
   ],
   "source": [
    "np.subtract(x,y)"
   ]
  },
  {
   "cell_type": "code",
   "execution_count": 42,
   "metadata": {},
   "outputs": [
    {
     "data": {
      "text/plain": [
       "array([[0.2341898 , 0.05232435, 0.03708234],\n",
       "       [0.34139856, 0.43860075, 0.0480313 ]])"
      ]
     },
     "execution_count": 42,
     "metadata": {},
     "output_type": "execute_result"
    }
   ],
   "source": [
    "np.multiply(x,y)"
   ]
  },
  {
   "cell_type": "code",
   "execution_count": 43,
   "metadata": {},
   "outputs": [
    {
     "data": {
      "text/plain": [
       "array([[0.75859269, 5.0797882 , 0.09038351],\n",
       "       [0.9514189 , 0.44423591, 3.08791809]])"
      ]
     },
     "execution_count": 43,
     "metadata": {},
     "output_type": "execute_result"
    }
   ],
   "source": [
    "np.divide(x,y)"
   ]
  },
  {
   "cell_type": "code",
   "execution_count": 44,
   "metadata": {},
   "outputs": [
    {
     "data": {
      "text/plain": [
       "0.2837741629611615"
      ]
     },
     "execution_count": 44,
     "metadata": {},
     "output_type": "execute_result"
    }
   ],
   "source": [
    "np.std(a)"
   ]
  },
  {
   "cell_type": "code",
   "execution_count": 45,
   "metadata": {},
   "outputs": [
    {
     "data": {
      "text/plain": [
       "array([0.33659373, 0.20458431, 0.17441772, 0.23730158])"
      ]
     },
     "execution_count": 45,
     "metadata": {},
     "output_type": "execute_result"
    }
   ],
   "source": [
    "np.std(a, axis=0)"
   ]
  },
  {
   "cell_type": "code",
   "execution_count": 46,
   "metadata": {},
   "outputs": [
    {
     "data": {
      "text/plain": [
       "array([0.28946243, 0.30621425, 0.23776185, 0.14454133, 0.22762552,\n",
       "       0.28780494, 0.22532895, 0.33813291, 0.36031001, 0.18510719])"
      ]
     },
     "execution_count": 46,
     "metadata": {},
     "output_type": "execute_result"
    }
   ],
   "source": [
    "np.std(a, axis=1)"
   ]
  },
  {
   "cell_type": "code",
   "execution_count": 47,
   "metadata": {},
   "outputs": [
    {
     "data": {
      "text/plain": [
       "array([ 0.81805331,  0.81936357,  1.20381569,  1.56517052,  1.59115763,\n",
       "        1.91890905,  2.71340375,  2.77943512,  3.64143879,  3.93191606,\n",
       "        4.21541787,  4.60712314,  4.85515341,  5.2896341 ,  5.79058984,\n",
       "        6.44116236,  6.47681093,  6.92143177,  7.43512625,  8.07999582,\n",
       "        8.69116797,  8.7292366 ,  9.53801314, 10.14419355, 10.66774656,\n",
       "       10.7475771 , 11.30911287, 11.97940067, 12.79801101, 12.85898869,\n",
       "       13.21532331, 14.09731624, 15.09275525, 15.14146635, 15.78084732,\n",
       "       16.62947886, 16.92340743, 17.53349992, 18.25710476, 19.0244525 ])"
      ]
     },
     "execution_count": 47,
     "metadata": {},
     "output_type": "execute_result"
    }
   ],
   "source": [
    "np.cumsum(a)"
   ]
  },
  {
   "cell_type": "code",
   "execution_count": 48,
   "metadata": {},
   "outputs": [
    {
     "data": {
      "text/plain": [
       "array([8.18053311e-01, 1.07186033e-03, 4.12078982e-04, 1.48906729e-04,\n",
       "       3.86965512e-06, 1.26828498e-06, 1.00764569e-06, 6.65362268e-08,\n",
       "       5.73544719e-08, 1.66601702e-08, 4.72318841e-09, 1.85009782e-09,\n",
       "       4.58880252e-10, 1.99374607e-10, 9.98778545e-11, 6.49777873e-11,\n",
       "       2.31636504e-12, 1.02990418e-12, 5.29056094e-13, 3.41172173e-13,\n",
       "       2.08514933e-13, 7.93787710e-15, 6.41996877e-15, 3.89165929e-15,\n",
       "       2.03748994e-15, 1.62653918e-16, 9.13359937e-17, 6.12214024e-17,\n",
       "       5.01164729e-17, 3.05598654e-18, 1.08895378e-18, 9.60449538e-19,\n",
       "       9.56068935e-19, 4.65711682e-20, 2.97767186e-20, 2.52694626e-20,\n",
       "       7.42741695e-21, 4.53141137e-21, 3.27895120e-21, 2.51609577e-21])"
      ]
     },
     "execution_count": 48,
     "metadata": {},
     "output_type": "execute_result"
    }
   ],
   "source": [
    "np.cumprod(a)"
   ]
  },
  {
   "cell_type": "code",
   "execution_count": 52,
   "metadata": {},
   "outputs": [
    {
     "data": {
      "text/plain": [
       "(10, 4)"
      ]
     },
     "execution_count": 52,
     "metadata": {},
     "output_type": "execute_result"
    }
   ],
   "source": [
    "a.shape"
   ]
  },
  {
   "cell_type": "code",
   "execution_count": 53,
   "metadata": {},
   "outputs": [
    {
     "data": {
      "text/plain": [
       "(40,)"
      ]
     },
     "execution_count": 53,
     "metadata": {},
     "output_type": "execute_result"
    }
   ],
   "source": [
    "a.flatten().shape"
   ]
  },
  {
   "cell_type": "code",
   "execution_count": 55,
   "metadata": {},
   "outputs": [
    {
     "data": {
      "text/plain": [
       "(2, 3, 4, 5)"
      ]
     },
     "execution_count": 55,
     "metadata": {},
     "output_type": "execute_result"
    }
   ],
   "source": [
    "c.shape"
   ]
  },
  {
   "cell_type": "code",
   "execution_count": 54,
   "metadata": {},
   "outputs": [
    {
     "data": {
      "text/plain": [
       "(120,)"
      ]
     },
     "execution_count": 54,
     "metadata": {},
     "output_type": "execute_result"
    }
   ],
   "source": [
    "c.flatten().shape"
   ]
  },
  {
   "cell_type": "code",
   "execution_count": 56,
   "metadata": {},
   "outputs": [
    {
     "data": {
      "text/plain": [
       "0.9954390075374463"
      ]
     },
     "execution_count": 56,
     "metadata": {},
     "output_type": "execute_result"
    }
   ],
   "source": [
    "a.max()"
   ]
  },
  {
   "cell_type": "code",
   "execution_count": 57,
   "metadata": {},
   "outputs": [
    {
     "data": {
      "text/plain": [
       "0.0013102573081298363"
      ]
     },
     "execution_count": 57,
     "metadata": {},
     "output_type": "execute_result"
    }
   ],
   "source": [
    "a.min()"
   ]
  },
  {
   "cell_type": "code",
   "execution_count": 58,
   "metadata": {},
   "outputs": [
    {
     "data": {
      "text/plain": [
       "array([[[[0.4319117 , 0.54720836, 0.81942646],\n",
       "         [0.86468318, 0.64343912, 0.78733071]],\n",
       "\n",
       "        [[0.35477817, 0.61622504, 0.92651945],\n",
       "         [0.7409542 , 0.50397198, 0.16562731]],\n",
       "\n",
       "        [[0.48498944, 0.45011381, 0.02216435],\n",
       "         [0.07230035, 0.00708465, 0.33736293]],\n",
       "\n",
       "        [[0.16397362, 0.72320998, 0.16504132],\n",
       "         [0.23208632, 0.8219859 , 0.2395323 ]],\n",
       "\n",
       "        [[0.99825774, 0.25788903, 0.86204471],\n",
       "         [0.13663858, 0.37540695, 0.62114172]]],\n",
       "\n",
       "\n",
       "       [[[0.52636443, 0.0598118 , 0.68594944],\n",
       "         [0.10713766, 0.80859816, 0.80819313]],\n",
       "\n",
       "        [[0.00539469, 0.22739683, 0.89731546],\n",
       "         [0.25666523, 0.22387244, 0.7830175 ]],\n",
       "\n",
       "        [[0.31577628, 0.67193488, 0.95602027],\n",
       "         [0.66026131, 0.20679455, 0.64735723]],\n",
       "\n",
       "        [[0.63235128, 0.44253174, 0.21811835],\n",
       "         [0.93651399, 0.0440713 , 0.107314  ]],\n",
       "\n",
       "        [[0.87280986, 0.12900406, 0.93639479],\n",
       "         [0.55405933, 0.60809647, 0.55350206]]],\n",
       "\n",
       "\n",
       "       [[[0.78610239, 0.23258523, 0.83445931],\n",
       "         [0.95502782, 0.21256326, 0.37373718]],\n",
       "\n",
       "        [[0.26570886, 0.16744959, 0.64047826],\n",
       "         [0.53999186, 0.0525771 , 0.21965873]],\n",
       "\n",
       "        [[0.82752951, 0.6117277 , 0.01900437],\n",
       "         [0.15957123, 0.67285616, 0.28997401]],\n",
       "\n",
       "        [[0.12198459, 0.62184131, 0.09094832],\n",
       "         [0.97296939, 0.55740973, 0.36223865]],\n",
       "\n",
       "        [[0.82586056, 0.26012144, 0.18183821],\n",
       "         [0.10038432, 0.39855786, 0.00749757]]],\n",
       "\n",
       "\n",
       "       [[[0.15081168, 0.8161303 , 0.52962832],\n",
       "         [0.18342545, 0.259588  , 0.3969853 ]],\n",
       "\n",
       "        [[0.19275119, 0.62668936, 0.0403198 ],\n",
       "         [0.64452374, 0.51209464, 0.9287911 ]],\n",
       "\n",
       "        [[0.72493376, 0.15635718, 0.70768161],\n",
       "         [0.9927604 , 0.05369321, 0.69230072]],\n",
       "\n",
       "        [[0.2139759 , 0.55179432, 0.33215515],\n",
       "         [0.20648645, 0.11225379, 0.60402326]],\n",
       "\n",
       "        [[0.94169845, 0.86477003, 0.50793142],\n",
       "         [0.67844136, 0.41283173, 0.46363874]]]])"
      ]
     },
     "execution_count": 58,
     "metadata": {},
     "output_type": "execute_result"
    }
   ],
   "source": [
    "c.reshape((4,5,2,3))"
   ]
  },
  {
   "cell_type": "code",
   "execution_count": 60,
   "metadata": {},
   "outputs": [
    {
     "data": {
      "text/plain": [
       "numpy.ndarray"
      ]
     },
     "execution_count": 60,
     "metadata": {},
     "output_type": "execute_result"
    }
   ],
   "source": [
    "type(a)"
   ]
  },
  {
   "cell_type": "code",
   "execution_count": 61,
   "metadata": {},
   "outputs": [
    {
     "data": {
      "text/plain": [
       "list"
      ]
     },
     "execution_count": 61,
     "metadata": {},
     "output_type": "execute_result"
    }
   ],
   "source": [
    "type(a.tolist())"
   ]
  },
  {
   "cell_type": "code",
   "execution_count": 64,
   "metadata": {},
   "outputs": [
    {
     "data": {
      "text/plain": [
       "(array([0.42149101, 0.51555467, 0.05789328]),\n",
       " array([0.5556223 , 0.10149137, 0.64052922]))"
      ]
     },
     "execution_count": 64,
     "metadata": {},
     "output_type": "execute_result"
    }
   ],
   "source": [
    "(x[0], y[0])"
   ]
  },
  {
   "cell_type": "code",
   "execution_count": 63,
   "metadata": {},
   "outputs": [
    {
     "data": {
      "text/plain": [
       "0.323596489499722"
      ]
     },
     "execution_count": 63,
     "metadata": {},
     "output_type": "execute_result"
    }
   ],
   "source": [
    "np.dot(x[0], y[0])"
   ]
  },
  {
   "cell_type": "code",
   "execution_count": 66,
   "metadata": {},
   "outputs": [
    {
     "data": {
      "text/plain": [
       "array([[0.32359649, 0.77197831],\n",
       "       [0.60814159, 0.8280306 ]])"
      ]
     },
     "execution_count": 66,
     "metadata": {},
     "output_type": "execute_result"
    }
   ],
   "source": [
    "np.matmul(x,y.T)"
   ]
  },
  {
   "cell_type": "code",
   "execution_count": 70,
   "metadata": {},
   "outputs": [
    {
     "data": {
      "text/plain": [
       "array([[0.42149101, 0.51555467, 0.05789328],\n",
       "       [0.56992372, 0.44140933, 0.38511909]])"
      ]
     },
     "execution_count": 70,
     "metadata": {},
     "output_type": "execute_result"
    }
   ],
   "source": [
    "x"
   ]
  },
  {
   "cell_type": "code",
   "execution_count": 71,
   "metadata": {},
   "outputs": [
    {
     "data": {
      "text/plain": [
       "array([[0.42149101, 0.56992372],\n",
       "       [0.51555467, 0.44140933],\n",
       "       [0.05789328, 0.38511909]])"
      ]
     },
     "execution_count": 71,
     "metadata": {},
     "output_type": "execute_result"
    }
   ],
   "source": [
    "x.T"
   ]
  },
  {
   "cell_type": "code",
   "execution_count": 72,
   "metadata": {},
   "outputs": [
    {
     "data": {
      "text/plain": [
       "array([[0.42149101, 0.56992372],\n",
       "       [0.51555467, 0.44140933],\n",
       "       [0.05789328, 0.38511909]])"
      ]
     },
     "execution_count": 72,
     "metadata": {},
     "output_type": "execute_result"
    }
   ],
   "source": [
    "x.transpose()"
   ]
  },
  {
   "cell_type": "code",
   "execution_count": 73,
   "metadata": {},
   "outputs": [
    {
     "data": {
      "text/plain": [
       "(2, 3, 4, 5)"
      ]
     },
     "execution_count": 73,
     "metadata": {},
     "output_type": "execute_result"
    }
   ],
   "source": [
    "c.shape"
   ]
  },
  {
   "cell_type": "code",
   "execution_count": 74,
   "metadata": {},
   "outputs": [
    {
     "data": {
      "text/plain": [
       "(5, 4, 3, 2)"
      ]
     },
     "execution_count": 74,
     "metadata": {},
     "output_type": "execute_result"
    }
   ],
   "source": [
    "c.T.shape"
   ]
  },
  {
   "cell_type": "code",
   "execution_count": 75,
   "metadata": {},
   "outputs": [
    {
     "data": {
      "text/plain": [
       "0.08052777556430782"
      ]
     },
     "execution_count": 75,
     "metadata": {},
     "output_type": "execute_result"
    }
   ],
   "source": [
    "np.var(a)"
   ]
  },
  {
   "cell_type": "code",
   "execution_count": 81,
   "metadata": {},
   "outputs": [],
   "source": [
    "z=np.random.random((3,3,3))"
   ]
  },
  {
   "cell_type": "code",
   "execution_count": 82,
   "metadata": {},
   "outputs": [
    {
     "data": {
      "text/plain": [
       "array([ 0.30865043,  0.08375861, -0.28404425])"
      ]
     },
     "execution_count": 82,
     "metadata": {},
     "output_type": "execute_result"
    }
   ],
   "source": [
    "np.linalg.det(z)"
   ]
  },
  {
   "cell_type": "code",
   "execution_count": 83,
   "metadata": {},
   "outputs": [],
   "source": [
    "# https://docs.scipy.org/doc/numpy-1.14.0/reference/generated/numpy.ndarray.html"
   ]
  },
  {
   "cell_type": "code",
   "execution_count": 84,
   "metadata": {},
   "outputs": [
    {
     "data": {
      "text/plain": [
       "array([[0., 0.],\n",
       "       [0., 0.]])"
      ]
     },
     "execution_count": 84,
     "metadata": {},
     "output_type": "execute_result"
    }
   ],
   "source": [
    "np.zeros((2,2))"
   ]
  },
  {
   "cell_type": "code",
   "execution_count": 86,
   "metadata": {},
   "outputs": [
    {
     "data": {
      "text/plain": [
       "array([[1., 1.],\n",
       "       [1., 1.]])"
      ]
     },
     "execution_count": 86,
     "metadata": {},
     "output_type": "execute_result"
    }
   ],
   "source": [
    "np.ones((2,2))"
   ]
  },
  {
   "cell_type": "code",
   "execution_count": 89,
   "metadata": {},
   "outputs": [
    {
     "data": {
      "text/plain": [
       "array([[1., 0., 0., 0.],\n",
       "       [0., 1., 0., 0.],\n",
       "       [0., 0., 1., 0.],\n",
       "       [0., 0., 0., 1.]])"
      ]
     },
     "execution_count": 89,
     "metadata": {},
     "output_type": "execute_result"
    }
   ],
   "source": [
    "np.eye(4)"
   ]
  },
  {
   "cell_type": "code",
   "execution_count": null,
   "metadata": {},
   "outputs": [],
   "source": []
  }
 ],
 "metadata": {
  "kernelspec": {
   "display_name": "Python 3",
   "language": "python",
   "name": "python3"
  },
  "language_info": {
   "codemirror_mode": {
    "name": "ipython",
    "version": 3
   },
   "file_extension": ".py",
   "mimetype": "text/x-python",
   "name": "python",
   "nbconvert_exporter": "python",
   "pygments_lexer": "ipython3",
   "version": "3.7.4"
  }
 },
 "nbformat": 4,
 "nbformat_minor": 2
}
