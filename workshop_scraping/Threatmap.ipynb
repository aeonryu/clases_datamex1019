{
 "cells": [
  {
   "cell_type": "markdown",
   "metadata": {},
   "source": [
    "# Threatmap scrap\n",
    "\n",
    "\n",
    "Scraping from https://threatmap.checkpoint.com/ThreatPortal/livemap.html"
   ]
  },
  {
   "cell_type": "code",
   "execution_count": 1,
   "metadata": {},
   "outputs": [],
   "source": [
    "# libraries\n",
    "\n",
    "from selenium import webdriver\n",
    "from pyvirtualdisplay import Display\n",
    "import time"
   ]
  },
  {
   "cell_type": "code",
   "execution_count": 2,
   "metadata": {},
   "outputs": [],
   "source": [
    "# url\n",
    "\n",
    "url='https://threatmap.checkpoint.com/ThreatPortal/livemap.html'"
   ]
  },
  {
   "cell_type": "code",
   "execution_count": 3,
   "metadata": {},
   "outputs": [
    {
     "data": {
      "text/plain": [
       "<Display cmd_param=['Xvfb', '-br', '-nolisten', 'tcp', '-screen', '0', '1024x768x24', ':1028'] cmd=['Xvfb', '-br', '-nolisten', 'tcp', '-screen', '0', '1024x768x24', ':1028'] oserror=None return_code=None stdout=\"None\" stderr=\"None\" timeout_happened=False>"
      ]
     },
     "execution_count": 3,
     "metadata": {},
     "output_type": "execute_result"
    }
   ],
   "source": [
    "# remove pictures and display\n",
    "\n",
    "display=Display(visible=0)\n",
    "display.start()"
   ]
  },
  {
   "cell_type": "code",
   "execution_count": 4,
   "metadata": {},
   "outputs": [],
   "source": [
    "# Selenium Firefox driver\n",
    "\n",
    "driver=webdriver.Firefox()\n",
    "driver.get(url)"
   ]
  },
  {
   "cell_type": "code",
   "execution_count": null,
   "metadata": {},
   "outputs": [
    {
     "name": "stdout",
     "output_type": "stream",
     "text": [
      "{'Time': '16:04:39', 'Attack': 'Phorpiex.TC.buqg', 'Source': 'Portugal', 'Target': 'USA'}\n",
      "{'Time': '16:04:39', 'Attack': 'Phorpiex.TC.cztg', 'Source': 'Portugal', 'Target': 'USA'}\n",
      "{'Time': '16:04:39', 'Attack': 'Phorpiex.TC.cztg', 'Source': 'Portugal', 'Target': 'USA'}\n",
      "{'Time': '16:04:39', 'Attack': 'StartPage.TC.bk', 'Source': 'VA,USA', 'Target': 'NY,USA'}\n",
      "{'Time': '16:04:39', 'Attack': 'StartPage.TC.bk', 'Source': 'VA,USA', 'Target': 'USA'}\n",
      "{'Time': '16:04:40', 'Attack': 'Phorpiex.TC.cztg', 'Source': 'Portugal', 'Target': 'USA'}\n",
      "{'Time': '16:04:40', 'Attack': 'Backdoor.Win32.Kirts.A', 'Source': 'CA,USA', 'Target': 'USA'}\n",
      "{'Time': '16:04:40', 'Attack': 'Trojan.WIN32.XMRig.T', 'Source': 'Netherlands', 'Target': 'Colombia'}\n",
      "{'Time': '16:04:40', 'Attack': 'Trojan.WIN32.XMRig.T', 'Source': 'Netherlands', 'Target': 'Colombia'}\n",
      "{'Time': '16:04:40', 'Attack': 'Trojan.WIN32.XMRig.T', 'Source': 'Netherlands', 'Target': 'Colombia'}\n",
      "{'Time': '16:04:41', 'Attack': 'Trojan.WIN32.XMRig.T', 'Source': 'Netherlands', 'Target': 'Colombia'}\n",
      "{'Time': '16:04:41', 'Attack': 'Trojan.WIN32.XMRig.T', 'Source': 'France', 'Target': 'Colombia'}\n",
      "{'Time': '16:04:41', 'Attack': 'Trojan.WIN32.XMRig.T', 'Source': 'France', 'Target': 'Colombia'}\n",
      "{'Time': '16:04:41', 'Attack': 'Trojan.WIN32.XMRig.T', 'Source': 'France', 'Target': 'Colombia'}\n",
      "{'Time': '16:04:41', 'Attack': 'Trojan.WIN32.XMRig.T', 'Source': 'Netherlands', 'Target': 'Colombia'}\n",
      "{'Time': '16:04:42', 'Attack': 'Trojan.WIN32.XMRig.T', 'Source': 'France', 'Target': 'Colombia'}\n",
      "{'Time': '16:04:42', 'Attack': 'Trojan.WIN32.XMRig.T', 'Source': 'China', 'Target': 'China'}\n",
      "{'Time': '16:04:42', 'Attack': 'Trojan.Win32.Kuaizip.E', 'Source': 'China', 'Target': 'China'}\n",
      "{'Time': '16:04:42', 'Attack': 'Kuaizip.TC.gp', 'Source': 'China', 'Target': 'China'}\n",
      "{'Time': '16:04:42', 'Attack': 'Trojan.Win32.Kuaizip.E', 'Source': 'China', 'Target': 'China'}\n",
      "{'Time': '16:04:42', 'Attack': 'Kuaizip.TC.gp', 'Source': 'China', 'Target': 'China'}\n",
      "{'Time': '16:04:43', 'Attack': 'Kuaizip.TC.gp', 'Source': 'China', 'Target': 'China'}\n",
      "{'Time': '16:04:43', 'Attack': 'Kuaizip.TC.gp', 'Source': 'China', 'Target': 'China'}\n",
      "{'Time': '16:04:43', 'Attack': 'Trojan.Win32.Kuaizip.E', 'Source': 'China', 'Target': 'China'}\n",
      "{'Time': '16:04:43', 'Attack': 'Trojan.WIN32.XMRig.T', 'Source': 'Netherlands', 'Target': 'Colombia'}\n",
      "{'Time': '16:04:43', 'Attack': 'Trojan.WIN32.XMRig.T', 'Source': 'Netherlands', 'Target': 'Colombia'}\n",
      "{'Time': '16:04:43', 'Attack': 'Trojan.WIN32.XMRig.T', 'Source': 'Netherlands', 'Target': 'Colombia'}\n",
      "{'Time': '16:04:44', 'Attack': 'Trojan.WIN32.XMRig.T', 'Source': 'Netherlands', 'Target': 'Colombia'}\n",
      "{'Time': '16:04:44', 'Attack': 'Trojan.WIN32.XMRig.T', 'Source': 'Netherlands', 'Target': 'Colombia'}\n",
      "{'Time': '16:04:44', 'Attack': 'Trojan.WIN32.XMRig.T', 'Source': 'Netherlands', 'Target': 'Colombia'}\n",
      "{'Time': '16:04:44', 'Attack': 'Trojan.WIN32.XMRig.T', 'Source': 'Netherlands', 'Target': 'Colombia'}\n",
      "{'Time': '16:04:44', 'Attack': 'Trojan.WIN32.XMRig.T', 'Source': 'Netherlands', 'Target': 'Colombia'}\n",
      "{'Time': '16:04:44', 'Attack': 'Trojan.WIN32.XMRig.T', 'Source': 'France', 'Target': 'Colombia'}\n",
      "{'Time': '16:04:45', 'Attack': 'Trojan.WIN32.XMRig.T', 'Source': 'TX,USA', 'Target': 'Chile'}\n",
      "{'Time': '16:04:45', 'Attack': 'Trojan.Win32.Fuerboos.C', 'Source': 'TX,USA', 'Target': 'Chile'}\n",
      "{'Time': '16:04:45', 'Attack': 'Trojan.Win32.Fuerboos.C', 'Source': 'TX,USA', 'Target': 'Chile'}\n",
      "{'Time': '16:04:45', 'Attack': 'Trojan.Win32.Fuerboos.C', 'Source': 'TX,USA', 'Target': 'Chile'}\n",
      "{'Time': '16:04:46', 'Attack': 'Trojan.Win32.Fuerboos.C', 'Source': 'TX,USA', 'Target': 'Chile'}\n",
      "{'Time': '16:04:46', 'Attack': 'Trojan.Win32.Fuerboos.C', 'Source': 'TX,USA', 'Target': 'Chile'}\n",
      "{'Time': '16:04:46', 'Attack': 'Trojan.Win32.Fuerboos.C', 'Source': 'TX,USA', 'Target': 'Chile'}\n",
      "{'Time': '16:04:46', 'Attack': 'Trojan.Win32.Fuerboos.C', 'Source': 'TX,USA', 'Target': 'Chile'}\n",
      "{'Time': '16:04:46', 'Attack': 'Trojan.Win32.Fuerboos.C', 'Source': 'TX,USA', 'Target': 'Chile'}\n",
      "{'Time': '16:04:46', 'Attack': 'Trojan.Win32.Fuerboos.C', 'Source': 'TX,USA', 'Target': 'Chile'}\n",
      "{'Time': '16:04:47', 'Attack': 'Trojan.Win32.Fuerboos.C', 'Source': 'TX,USA', 'Target': 'Chile'}\n",
      "{'Time': '16:04:47', 'Attack': 'Trojan.Win32.Fuerboos.C', 'Source': 'TX,USA', 'Target': 'Chile'}\n",
      "{'Time': '16:04:47', 'Attack': 'Trojan.Win32.Fuerboos.C', 'Source': 'TX,USA', 'Target': 'Chile'}\n",
      "{'Time': '16:04:47', 'Attack': 'Trojan.Win32.Fuerboos.C', 'Source': 'TX,USA', 'Target': 'Chile'}\n",
      "{'Time': '16:04:47', 'Attack': 'Trojan.Win32.Fuerboos.C', 'Source': 'TX,USA', 'Target': 'Chile'}\n",
      "{'Time': '16:04:48', 'Attack': 'Trojan.Win32.Fuerboos.C', 'Source': 'TX,USA', 'Target': 'Chile'}\n",
      "{'Time': '16:04:48', 'Attack': 'Trojan.Win32.Fuerboos.C', 'Source': 'TX,USA', 'Target': 'Chile'}\n",
      "{'Time': '16:04:48', 'Attack': 'Trojan.Win32.Fuerboos.C', 'Source': 'TX,USA', 'Target': 'Chile'}\n",
      "{'Time': '16:04:48', 'Attack': 'Trojan.Win32.Fuerboos.C', 'Source': 'TX,USA', 'Target': 'Chile'}\n",
      "{'Time': '16:04:48', 'Attack': 'Genieo.TC.a', 'Source': 'USA', 'Target': 'Italy'}\n",
      "{'Time': '16:04:48', 'Attack': 'Genieo.TC.a', 'Source': 'USA', 'Target': 'Italy'}\n",
      "{'Time': '16:04:49', 'Attack': 'Trojan.Win32.Fuerboos.C', 'Source': 'TX,USA', 'Target': 'Chile'}\n",
      "{'Time': '16:04:49', 'Attack': 'Trojan.Win32.Fuerboos.C', 'Source': 'TX,USA', 'Target': 'Chile'}\n",
      "{'Time': '16:04:49', 'Attack': 'Trojan.Win32.Fuerboos.C', 'Source': 'TX,USA', 'Target': 'Chile'}\n",
      "{'Time': '16:04:49', 'Attack': 'Trojan.Win32.Fuerboos.C', 'Source': 'TX,USA', 'Target': 'Chile'}\n",
      "{'Time': '16:04:49', 'Attack': 'Trojan.Win32.Fuerboos.C', 'Source': 'TX,USA', 'Target': 'Chile'}\n",
      "{'Time': '16:04:49', 'Attack': 'Infecting URL.RS.TC.lzo', 'Source': 'USA', 'Target': 'Brazil'}\n",
      "{'Time': '16:04:50', 'Attack': 'Bujobot.TC.o', 'Source': 'VA,USA', 'Target': 'Brazil'}\n",
      "{'Time': '16:04:50', 'Attack': 'Bujobot.TC.o', 'Source': 'VA,USA', 'Target': 'Brazil'}\n",
      "{'Time': '16:04:50', 'Attack': 'Bujobot.TC.o', 'Source': 'VA,USA', 'Target': 'Brazil'}\n",
      "{'Time': '16:04:50', 'Attack': 'ArrkiiSDK.TC.b', 'Source': 'CA,USA', 'Target': 'Russia'}\n",
      "{'Time': '16:04:51', 'Attack': 'ArrkiiSDK.TC.b', 'Source': 'CA,USA', 'Target': 'Russia'}\n",
      "{'Time': '16:04:51', 'Attack': 'Trojan.Win32.Fuerboos.C', 'Source': 'TX,USA', 'Target': 'Chile'}\n",
      "{'Time': '16:04:51', 'Attack': 'Trojan.Win32.Fuerboos.C', 'Source': 'TX,USA', 'Target': 'Chile'}\n",
      "{'Time': '16:04:51', 'Attack': 'Trojan.Win32.Fuerboos.C', 'Source': 'TX,USA', 'Target': 'Chile'}\n",
      "{'Time': '16:04:51', 'Attack': 'Trojan.Win32.Fuerboos.C', 'Source': 'TX,USA', 'Target': 'Chile'}\n",
      "{'Time': '16:04:51', 'Attack': 'Trojan.Win32.Fuerboos.C', 'Source': 'TX,USA', 'Target': 'Chile'}\n",
      "{'Time': '16:04:52', 'Attack': 'TS_PUP.Win32.CoreInstaller.TC.gpm', 'Source': 'WA,USA', 'Target': 'Mexico'}\n",
      "{'Time': '16:04:52', 'Attack': 'Trojan.Win32.Fuerboos.C', 'Source': 'TX,USA', 'Target': 'Chile'}\n",
      "{'Time': '16:04:52', 'Attack': 'Trojan.Win32.Fuerboos.C', 'Source': 'TX,USA', 'Target': 'Chile'}\n",
      "{'Time': '16:04:52', 'Attack': 'REP.imcxzp', 'Source': 'Netherlands', 'Target': 'Chile'}\n",
      "{'Time': '16:04:52', 'Attack': 'REP.imcxzp', 'Source': 'VA,USA', 'Target': 'Australia'}\n",
      "{'Time': '16:04:52', 'Attack': 'REP.TC.pegjb', 'Source': 'VA,USA', 'Target': 'Australia'}\n",
      "{'Time': '16:04:53', 'Attack': 'Infecting URL.TC.aqqnu', 'Source': 'Germany', 'Target': 'Australia'}\n",
      "{'Time': '16:04:53', 'Attack': 'Ramnit.TC.dyb', 'Source': 'USA', 'Target': 'Australia'}\n",
      "{'Time': '16:04:53', 'Attack': 'Trojan.Win32.Fuerboos.C', 'Source': 'TX,USA', 'Target': 'Chile'}\n",
      "{'Time': '16:04:53', 'Attack': 'REP.TC.qeoyx', 'Source': 'Turkey', 'Target': 'Australia'}\n",
      "{'Time': '16:04:53', 'Attack': 'REP.imcxzp', 'Source': 'Netherlands', 'Target': 'Chile'}\n",
      "{'Time': '16:04:53', 'Attack': 'REP.imcxzp', 'Source': 'Japan', 'Target': 'Turkey'}\n",
      "{'Time': '16:04:54', 'Attack': 'Andromeda.TC.bvz', 'Source': 'Japan', 'Target': 'Turkey'}\n",
      "{'Time': '16:04:54', 'Attack': 'Andromeda.TC.bvz', 'Source': 'Japan', 'Target': 'Turkey'}\n",
      "{'Time': '16:04:54', 'Attack': 'Andromeda.TC.bvz', 'Source': 'Japan', 'Target': 'Turkey'}\n",
      "{'Time': '16:04:54', 'Attack': 'Andromeda.TC.bvz', 'Source': 'Japan', 'Target': 'Turkey'}\n",
      "{'Time': '16:04:54', 'Attack': 'Andromeda.TC.bvz', 'Source': 'Japan', 'Target': 'Turkey'}\n"
     ]
    },
    {
     "name": "stdout",
     "output_type": "stream",
     "text": [
      "{'Time': '16:04:55', 'Attack': 'Andromeda.TC.bvz', 'Source': 'Japan', 'Target': 'Turkey'}\n",
      "{'Time': '16:04:55', 'Attack': 'Infecting URL.TC.aojdn', 'Source': 'OR,USA', 'Target': 'India'}\n",
      "{'Time': '16:04:55', 'Attack': 'Andromeda.TC.bvz', 'Source': 'Japan', 'Target': 'Turkey'}\n",
      "{'Time': '16:04:55', 'Attack': 'Andromeda.TC.bvz', 'Source': 'Japan', 'Target': 'Turkey'}\n",
      "{'Time': '16:04:55', 'Attack': 'Andromeda.TC.bvz', 'Source': 'Japan', 'Target': 'Turkey'}\n",
      "{'Time': '16:04:56', 'Attack': 'Andromeda.TC.bvz', 'Source': 'Japan', 'Target': 'Turkey'}\n",
      "{'Time': '16:04:56', 'Attack': 'Andromeda.TC.bvz', 'Source': 'Japan', 'Target': 'Turkey'}\n",
      "{'Time': '16:04:56', 'Attack': 'Andromeda.TC.bvz', 'Source': 'Japan', 'Target': 'Turkey'}\n",
      "{'Time': '16:04:56', 'Attack': 'Andromeda.TC.bvz', 'Source': 'Japan', 'Target': 'Turkey'}\n",
      "{'Time': '16:04:56', 'Attack': 'Andromeda.TC.bvz', 'Source': 'Japan', 'Target': 'Turkey'}\n",
      "{'Time': '16:04:56', 'Attack': 'Andromeda.TC.bvz', 'Source': 'Japan', 'Target': 'Turkey'}\n",
      "{'Time': '16:04:57', 'Attack': 'Phishing_website.TC.crrov', 'Source': 'Portugal', 'Target': 'Israel'}\n",
      "{'Time': '16:04:57', 'Attack': 'Phishing_website.TC.crrov', 'Source': 'Portugal', 'Target': 'Israel'}\n",
      "{'Time': '16:04:57', 'Attack': 'Phishing_website.TC.crrov', 'Source': 'Portugal', 'Target': 'Israel'}\n",
      "{'Time': '16:04:57', 'Attack': 'Phishing_website.TC.crrov', 'Source': 'Portugal', 'Target': 'Israel'}\n",
      "{'Time': '16:04:57', 'Attack': 'Phishing_website.TC.crrov', 'Source': 'Portugal', 'Target': 'Israel'}\n",
      "{'Time': '16:04:57', 'Attack': 'Phishing_website.TC.crrov', 'Source': 'Portugal', 'Target': 'Israel'}\n",
      "{'Time': '16:04:58', 'Attack': 'Phishing_website.TC.crrov', 'Source': 'Portugal', 'Target': 'Israel'}\n",
      "{'Time': '16:04:58', 'Attack': 'Conficker.TC.bgj', 'Source': 'CA,USA', 'Target': 'Portugal'}\n",
      "{'Time': '16:04:58', 'Attack': 'Conficker.TC.auzq', 'Source': 'USA', 'Target': 'Portugal'}\n",
      "{'Time': '16:04:58', 'Attack': 'Conficker.TC.auzq', 'Source': 'USA', 'Target': 'Portugal'}\n",
      "{'Time': '16:04:58', 'Attack': 'Conficker.TC.bgj', 'Source': 'CA,USA', 'Target': 'Portugal'}\n",
      "{'Time': '16:04:59', 'Attack': 'Conficker.TC.bgj', 'Source': 'CA,USA', 'Target': 'Portugal'}\n",
      "{'Time': '16:04:59', 'Attack': 'Conficker.TC.bgj', 'Source': 'CA,USA', 'Target': 'Portugal'}\n",
      "{'Time': '16:04:59', 'Attack': 'Conficker.TC.bgj', 'Source': 'CA,USA', 'Target': 'Portugal'}\n",
      "{'Time': '16:04:59', 'Attack': 'Conficker.TC.auzq', 'Source': 'USA', 'Target': 'Portugal'}\n",
      "{'Time': '16:04:59', 'Attack': 'Kuaizip.TC.gp', 'Source': 'China', 'Target': 'China'}\n",
      "{'Time': '16:05:00', 'Attack': 'Phishing_website.TC.crrov', 'Source': 'Portugal', 'Target': 'Israel'}\n",
      "{'Time': '16:05:00', 'Attack': 'Phishing_website.TC.crrov', 'Source': 'Portugal', 'Target': 'Israel'}\n",
      "{'Time': '16:05:00', 'Attack': 'Phishing_website.TC.crrov', 'Source': 'Portugal', 'Target': 'Malaysia'}\n",
      "{'Time': '16:05:00', 'Attack': 'Trojan.Win32.Vkdj.A', 'Source': 'Netherlands', 'Target': 'Malaysia'}\n",
      "{'Time': '16:05:00', 'Attack': 'Hiddenapp.RS.TC.b', 'Source': 'Netherlands', 'Target': 'Malaysia'}\n",
      "{'Time': '16:05:01', 'Attack': 'Phishing_website.TC.crrov', 'Source': 'Portugal', 'Target': 'Malaysia'}\n",
      "{'Time': '16:05:01', 'Attack': 'Trojan.Win32.Vkdj.A', 'Source': 'Poland', 'Target': 'Malaysia'}\n",
      "{'Time': '16:05:01', 'Attack': 'Trojan.Win32.Vkdj.A', 'Source': 'Germany', 'Target': 'Malaysia'}\n",
      "{'Time': '16:05:01', 'Attack': 'REP.TC.qnlta', 'Source': 'Germany', 'Target': 'Malaysia'}\n",
      "{'Time': '16:05:01', 'Attack': 'Trojan.Win32.LokiBot.A', 'Source': 'USA', 'Target': 'Kazakhstan'}\n",
      "{'Time': '16:05:02', 'Attack': 'LokiBot.TC.ggr', 'Source': 'USA', 'Target': 'Kazakhstan'}\n"
     ]
    }
   ],
   "source": [
    "# wait for webpage\n",
    "time.sleep(4)\n",
    "\n",
    "\n",
    "\n",
    "\n",
    "# start scrap\n",
    "while 1:\n",
    "    \n",
    "    #element=driver.find_element_by_id('tableContainer')\n",
    "    ti=driver.find_element_by_class_name('timeCol')\n",
    "    a=driver.find_element_by_class_name('attackCol')\n",
    "    s=driver.find_element_by_class_name('sourceCol')\n",
    "    ta=driver.find_element_by_class_name('destCol')\n",
    "    print ({'Time': ti.text, 'Attack': a.text, 'Source': s.text, 'Target': ta.text})\n"
   ]
  },
  {
   "cell_type": "code",
   "execution_count": null,
   "metadata": {},
   "outputs": [],
   "source": []
  }
 ],
 "metadata": {
  "kernelspec": {
   "display_name": "Python 3",
   "language": "python",
   "name": "python3"
  },
  "language_info": {
   "codemirror_mode": {
    "name": "ipython",
    "version": 3
   },
   "file_extension": ".py",
   "mimetype": "text/x-python",
   "name": "python",
   "nbconvert_exporter": "python",
   "pygments_lexer": "ipython3",
   "version": "3.7.2"
  }
 },
 "nbformat": 4,
 "nbformat_minor": 2
}
