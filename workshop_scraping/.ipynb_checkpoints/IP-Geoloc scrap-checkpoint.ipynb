{
 "cells": [
  {
   "cell_type": "markdown",
   "metadata": {},
   "source": [
    "# IP-Geoloc scrap\n",
    "\n",
    "Scrap from https://tools.keycdn.com/geo"
   ]
  },
  {
   "cell_type": "code",
   "execution_count": null,
   "metadata": {},
   "outputs": [],
   "source": [
    "# libraries\n",
    "\n",
    "import requests\n",
    "from bs4 import BeautifulSoup as bs\n",
    "import pymongo \n",
    "import re"
   ]
  },
  {
   "cell_type": "code",
   "execution_count": null,
   "metadata": {},
   "outputs": [],
   "source": [
    "# reading from mongo\n",
    "\n",
    "client=pymongo.MongoClient()\n",
    "db=client.geo_attack\n",
    "\n",
    "geo=list(db.geo.find())"
   ]
  },
  {
   "cell_type": "code",
   "execution_count": null,
   "metadata": {},
   "outputs": [],
   "source": [
    "# predator ip list\n",
    "\n",
    "list_ip=[e['ip_pred'] for e in geo]"
   ]
  },
  {
   "cell_type": "code",
   "execution_count": null,
   "metadata": {},
   "outputs": [],
   "source": [
    "# get\n",
    "\n",
    "res=requests.get('https://tools.keycdn.com/geo?host={}'.format(list_ip[0])).content\n",
    "print (res)\n",
    "print (type(res))"
   ]
  },
  {
   "cell_type": "code",
   "execution_count": null,
   "metadata": {},
   "outputs": [],
   "source": [
    "# bs4\n",
    "\n",
    "soup=bs(res, features='lxml')\n",
    "print (soup)\n",
    "print (type(soup))"
   ]
  },
  {
   "cell_type": "code",
   "execution_count": null,
   "metadata": {},
   "outputs": [],
   "source": [
    "# find element\n",
    "\n",
    "elem=soup.find_all('dd', {'class': 'col-8 text-monospace'})\n",
    "print (elem)\n",
    "print (type(elem))"
   ]
  },
  {
   "cell_type": "code",
   "execution_count": null,
   "metadata": {},
   "outputs": [],
   "source": [
    "# start scrap\n",
    "\n",
    "\n",
    "for i in range(0, len(list_ip), 50):\n",
    "\n",
    "    try:\n",
    "        res=requests.get('https://tools.keycdn.com/geo?host={}'.format(list_ip[i])).content\n",
    "\n",
    "        soup=bs(res, features='lxml')\n",
    "\n",
    "        elem=soup.find_all('dd', {'class': 'col-8 text-monospace'})\n",
    "\n",
    "\n",
    "        for f in elem:\n",
    "            F=str(f)\n",
    "            if 'lat' in F: \n",
    "                lat=re.findall('-?\\d+.\\d+',F.split('/')[0])[0]\n",
    "                lng=re.findall('-?\\d+.\\d+',F.split('/')[1])[0]\n",
    "                \n",
    "                print ('')\n",
    "                print ('Ip : {}'.format(list_ip[i]))\n",
    "                print ({'latitude': lat, 'longitude': lng})\n",
    "                \n",
    "    except:\n",
    "        continue"
   ]
  },
  {
   "cell_type": "code",
   "execution_count": null,
   "metadata": {},
   "outputs": [],
   "source": []
  }
 ],
 "metadata": {
  "kernelspec": {
   "display_name": "Python 3",
   "language": "python",
   "name": "python3"
  },
  "language_info": {
   "codemirror_mode": {
    "name": "ipython",
    "version": 3
   },
   "file_extension": ".py",
   "mimetype": "text/x-python",
   "name": "python",
   "nbconvert_exporter": "python",
   "pygments_lexer": "ipython3",
   "version": "3.7.2"
  }
 },
 "nbformat": 4,
 "nbformat_minor": 2
}
