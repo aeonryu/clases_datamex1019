{
 "cells": [
  {
   "cell_type": "markdown",
   "metadata": {},
   "source": [
    "# Threatmap scrap\n",
    "\n",
    "\n",
    "Scraping from https://threatmap.checkpoint.com/ThreatPortal/livemap.html"
   ]
  },
  {
   "cell_type": "code",
   "execution_count": null,
   "metadata": {},
   "outputs": [],
   "source": [
    "# libraries\n",
    "\n",
    "from selenium import webdriver\n",
    "from pyvirtualdisplay import Display\n",
    "import time"
   ]
  },
  {
   "cell_type": "code",
   "execution_count": null,
   "metadata": {},
   "outputs": [],
   "source": [
    "# url\n",
    "\n",
    "url='https://threatmap.checkpoint.com/ThreatPortal/livemap.html'"
   ]
  },
  {
   "cell_type": "code",
   "execution_count": null,
   "metadata": {},
   "outputs": [],
   "source": [
    "# remove pictures and display\n",
    "\n",
    "display=Display(visible=0)\n",
    "display.start()"
   ]
  },
  {
   "cell_type": "code",
   "execution_count": null,
   "metadata": {},
   "outputs": [],
   "source": [
    "# Selenium Firefox driver\n",
    "\n",
    "driver=webdriver.Firefox()\n",
    "driver.get(url)"
   ]
  },
  {
   "cell_type": "code",
   "execution_count": null,
   "metadata": {},
   "outputs": [],
   "source": [
    "# wait for webpage\n",
    "time.sleep(4)\n",
    "\n",
    "\n",
    "\n",
    "\n",
    "# start scrap\n",
    "while 1:\n",
    "    \n",
    "    #element=driver.find_element_by_id('tableContainer')\n",
    "    ti=driver.find_element_by_class_name('timeCol')\n",
    "    a=driver.find_element_by_class_name('attackCol')\n",
    "    s=driver.find_element_by_class_name('sourceCol')\n",
    "    ta=driver.find_element_by_class_name('destCol')\n",
    "    print ({'Time': ti.text, 'Attack': a.text, 'Source': s.text, 'Target': ta.text})\n"
   ]
  },
  {
   "cell_type": "code",
   "execution_count": null,
   "metadata": {},
   "outputs": [],
   "source": []
  }
 ],
 "metadata": {
  "kernelspec": {
   "display_name": "Python 3",
   "language": "python",
   "name": "python3"
  },
  "language_info": {
   "codemirror_mode": {
    "name": "ipython",
    "version": 3
   },
   "file_extension": ".py",
   "mimetype": "text/x-python",
   "name": "python",
   "nbconvert_exporter": "python",
   "pygments_lexer": "ipython3",
   "version": "3.7.2"
  }
 },
 "nbformat": 4,
 "nbformat_minor": 2
}
