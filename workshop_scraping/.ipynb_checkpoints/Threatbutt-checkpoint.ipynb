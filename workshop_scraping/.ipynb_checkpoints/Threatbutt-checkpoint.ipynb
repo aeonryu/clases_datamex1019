{
 "cells": [
  {
   "cell_type": "markdown",
   "metadata": {},
   "source": [
    "# Threatbutt\n",
    "\n",
    "Scrap from https://threatbutt.com/map/"
   ]
  },
  {
   "cell_type": "code",
   "execution_count": null,
   "metadata": {},
   "outputs": [],
   "source": [
    "# libraries\n",
    "\n",
    "from selenium import webdriver\n",
    "from pyvirtualdisplay import Display\n",
    "import time\n",
    "import pymongo "
   ]
  },
  {
   "cell_type": "code",
   "execution_count": null,
   "metadata": {},
   "outputs": [],
   "source": [
    "# reading from mongo\n",
    "\n",
    "client=pymongo.MongoClient()\n",
    "db=client.geo_attack"
   ]
  },
  {
   "cell_type": "code",
   "execution_count": null,
   "metadata": {},
   "outputs": [],
   "source": [
    "# url\n",
    "\n",
    "url='https://threatbutt.com/map/'"
   ]
  },
  {
   "cell_type": "code",
   "execution_count": null,
   "metadata": {},
   "outputs": [],
   "source": [
    "# remove pictures and display\n",
    "\n",
    "display=Display(visible=0)\n",
    "display.start()"
   ]
  },
  {
   "cell_type": "code",
   "execution_count": null,
   "metadata": {},
   "outputs": [],
   "source": [
    "# Selenium Firefox driver\n",
    "\n",
    "driver=webdriver.Firefox()"
   ]
  },
  {
   "cell_type": "code",
   "execution_count": null,
   "metadata": {},
   "outputs": [],
   "source": [
    "# start scrap\n",
    "\n",
    "while 1:\n",
    "\n",
    "    driver.get(url)\n",
    "\n",
    "    time.sleep(2)\n",
    "\n",
    "    count=0\n",
    "    while count<300:\n",
    "\n",
    "        elemento=driver.find_element_by_id('attackdiv')\n",
    "        t=elemento.text.split('\\n')[-1]\n",
    "\n",
    "        \n",
    "        predator=(t.split('('))[0]\n",
    "        ip_pred=(t.split('('))[1].split(')')[0]\n",
    "        \n",
    "        prey=(t.split('('))[1].split(')')[1][-4:]\n",
    "        ip_prey=(t.split('('))[2].split(')')[0]\n",
    "        \n",
    "        print({'timestamp':time.time(), 'predator': predator, 'ip_pred': ip_pred,\n",
    "               'prey': prey, 'ip_prey': ip_prey})\n",
    "        \n",
    "        db.geo.insert_one({'timestamp':time.time(), 'predator': predator, 'ip_pred': ip_pred,\n",
    "                           'prey': prey, 'ip_prey': ip_prey})\n",
    "        \n",
    "        count+=1"
   ]
  },
  {
   "cell_type": "code",
   "execution_count": null,
   "metadata": {},
   "outputs": [],
   "source": []
  }
 ],
 "metadata": {
  "kernelspec": {
   "display_name": "Python 3",
   "language": "python",
   "name": "python3"
  },
  "language_info": {
   "codemirror_mode": {
    "name": "ipython",
    "version": 3
   },
   "file_extension": ".py",
   "mimetype": "text/x-python",
   "name": "python",
   "nbconvert_exporter": "python",
   "pygments_lexer": "ipython3",
   "version": "3.7.2"
  }
 },
 "nbformat": 4,
 "nbformat_minor": 2
}
