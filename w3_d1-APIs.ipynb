{
 "cells": [
  {
   "cell_type": "code",
   "execution_count": 1,
   "metadata": {},
   "outputs": [],
   "source": [
    "# APIs\n",
    "\n",
    "import pandas as pd\n",
    "import json\n",
    "import requests"
   ]
  },
  {
   "cell_type": "code",
   "execution_count": 2,
   "metadata": {},
   "outputs": [
    {
     "data": {
      "text/plain": [
       "<Response [200]>"
      ]
     },
     "execution_count": 2,
     "metadata": {},
     "output_type": "execute_result"
    }
   ],
   "source": [
    "URL='https://jsonplaceholder.typicode.com/todos'\n",
    "res=requests.get(URL)\n",
    "res\n",
    "\n",
    "#https://en.wikipedia.org/wiki/List_of_HTTP_status_codes"
   ]
  },
  {
   "cell_type": "code",
   "execution_count": 6,
   "metadata": {},
   "outputs": [
    {
     "data": {
      "text/plain": [
       "{'userId': 1, 'id': 1, 'title': 'delectus aut autem', 'completed': False}"
      ]
     },
     "execution_count": 6,
     "metadata": {},
     "output_type": "execute_result"
    }
   ],
   "source": [
    "results=res.json()\n",
    "results[0]"
   ]
  },
  {
   "cell_type": "code",
   "execution_count": 4,
   "metadata": {},
   "outputs": [
    {
     "data": {
      "text/html": [
       "<div>\n",
       "<style scoped>\n",
       "    .dataframe tbody tr th:only-of-type {\n",
       "        vertical-align: middle;\n",
       "    }\n",
       "\n",
       "    .dataframe tbody tr th {\n",
       "        vertical-align: top;\n",
       "    }\n",
       "\n",
       "    .dataframe thead th {\n",
       "        text-align: right;\n",
       "    }\n",
       "</style>\n",
       "<table border=\"1\" class=\"dataframe\">\n",
       "  <thead>\n",
       "    <tr style=\"text-align: right;\">\n",
       "      <th></th>\n",
       "      <th>userId</th>\n",
       "      <th>id</th>\n",
       "      <th>title</th>\n",
       "      <th>completed</th>\n",
       "    </tr>\n",
       "  </thead>\n",
       "  <tbody>\n",
       "    <tr>\n",
       "      <td>0</td>\n",
       "      <td>1</td>\n",
       "      <td>1</td>\n",
       "      <td>delectus aut autem</td>\n",
       "      <td>False</td>\n",
       "    </tr>\n",
       "    <tr>\n",
       "      <td>1</td>\n",
       "      <td>1</td>\n",
       "      <td>2</td>\n",
       "      <td>quis ut nam facilis et officia qui</td>\n",
       "      <td>False</td>\n",
       "    </tr>\n",
       "    <tr>\n",
       "      <td>2</td>\n",
       "      <td>1</td>\n",
       "      <td>3</td>\n",
       "      <td>fugiat veniam minus</td>\n",
       "      <td>False</td>\n",
       "    </tr>\n",
       "    <tr>\n",
       "      <td>3</td>\n",
       "      <td>1</td>\n",
       "      <td>4</td>\n",
       "      <td>et porro tempora</td>\n",
       "      <td>True</td>\n",
       "    </tr>\n",
       "    <tr>\n",
       "      <td>4</td>\n",
       "      <td>1</td>\n",
       "      <td>5</td>\n",
       "      <td>laboriosam mollitia et enim quasi adipisci qui...</td>\n",
       "      <td>False</td>\n",
       "    </tr>\n",
       "  </tbody>\n",
       "</table>\n",
       "</div>"
      ],
      "text/plain": [
       "   userId  id                                              title  completed\n",
       "0       1   1                                 delectus aut autem      False\n",
       "1       1   2                 quis ut nam facilis et officia qui      False\n",
       "2       1   3                                fugiat veniam minus      False\n",
       "3       1   4                                   et porro tempora       True\n",
       "4       1   5  laboriosam mollitia et enim quasi adipisci qui...      False"
      ]
     },
     "execution_count": 4,
     "metadata": {},
     "output_type": "execute_result"
    }
   ],
   "source": [
    "data=pd.DataFrame(results)\n",
    "data.head()"
   ]
  },
  {
   "cell_type": "code",
   "execution_count": 7,
   "metadata": {},
   "outputs": [
    {
     "data": {
      "text/plain": [
       "<Response [200]>"
      ]
     },
     "execution_count": 7,
     "metadata": {},
     "output_type": "execute_result"
    }
   ],
   "source": [
    "# Api github\n",
    "URL='https://api.github.com/events'\n",
    "resp=requests.get(URL)\n",
    "resp"
   ]
  },
  {
   "cell_type": "code",
   "execution_count": 9,
   "metadata": {},
   "outputs": [
    {
     "data": {
      "text/html": [
       "<div>\n",
       "<style scoped>\n",
       "    .dataframe tbody tr th:only-of-type {\n",
       "        vertical-align: middle;\n",
       "    }\n",
       "\n",
       "    .dataframe tbody tr th {\n",
       "        vertical-align: top;\n",
       "    }\n",
       "\n",
       "    .dataframe thead th {\n",
       "        text-align: right;\n",
       "    }\n",
       "</style>\n",
       "<table border=\"1\" class=\"dataframe\">\n",
       "  <thead>\n",
       "    <tr style=\"text-align: right;\">\n",
       "      <th></th>\n",
       "      <th>id</th>\n",
       "      <th>type</th>\n",
       "      <th>actor</th>\n",
       "      <th>repo</th>\n",
       "      <th>payload</th>\n",
       "      <th>public</th>\n",
       "      <th>created_at</th>\n",
       "      <th>org</th>\n",
       "    </tr>\n",
       "  </thead>\n",
       "  <tbody>\n",
       "    <tr>\n",
       "      <td>0</td>\n",
       "      <td>10782508713</td>\n",
       "      <td>IssuesEvent</td>\n",
       "      <td>{'id': 5891788, 'login': 'mpgn', 'display_logi...</td>\n",
       "      <td>{'id': 36927613, 'name': 'nelenkov/keystore-de...</td>\n",
       "      <td>{'action': 'opened', 'issue': {'url': 'https:/...</td>\n",
       "      <td>True</td>\n",
       "      <td>2019-11-04T16:48:45Z</td>\n",
       "      <td>NaN</td>\n",
       "    </tr>\n",
       "    <tr>\n",
       "      <td>1</td>\n",
       "      <td>10782508704</td>\n",
       "      <td>DeleteEvent</td>\n",
       "      <td>{'id': 18226415, 'login': 'manzoorwanijk', 'di...</td>\n",
       "      <td>{'id': 7252233, 'name': 'eventespresso/event-e...</td>\n",
       "      <td>{'ref': 'EDTR/refactor-fix-parseInfinity', 're...</td>\n",
       "      <td>True</td>\n",
       "      <td>2019-11-04T16:48:45Z</td>\n",
       "      <td>{'id': 3077278, 'login': 'eventespresso', 'gra...</td>\n",
       "    </tr>\n",
       "    <tr>\n",
       "      <td>2</td>\n",
       "      <td>10782508701</td>\n",
       "      <td>CreateEvent</td>\n",
       "      <td>{'id': 1845185, 'login': 'kkroo', 'display_log...</td>\n",
       "      <td>{'id': 219550095, 'name': 'Blockcast/landing',...</td>\n",
       "      <td>{'ref': None, 'ref_type': 'repository', 'maste...</td>\n",
       "      <td>True</td>\n",
       "      <td>2019-11-04T16:48:45Z</td>\n",
       "      <td>{'id': 57363972, 'login': 'Blockcast', 'gravat...</td>\n",
       "    </tr>\n",
       "    <tr>\n",
       "      <td>3</td>\n",
       "      <td>10782508698</td>\n",
       "      <td>PullRequestEvent</td>\n",
       "      <td>{'id': 20354819, 'login': 'Danzelot', 'display...</td>\n",
       "      <td>{'id': 43127667, 'name': 'uit-no/hpc-doc', 'ur...</td>\n",
       "      <td>{'action': 'opened', 'number': 70, 'pull_reque...</td>\n",
       "      <td>True</td>\n",
       "      <td>2019-11-04T16:48:45Z</td>\n",
       "      <td>{'id': 9962660, 'login': 'uit-no', 'gravatar_i...</td>\n",
       "    </tr>\n",
       "    <tr>\n",
       "      <td>4</td>\n",
       "      <td>10782508688</td>\n",
       "      <td>PushEvent</td>\n",
       "      <td>{'id': 226640, 'login': 'EvHaus', 'display_log...</td>\n",
       "      <td>{'id': 137302958, 'name': 'GlobexDesignsInc/gl...</td>\n",
       "      <td>{'push_id': 4231613522, 'size': 1, 'distinct_s...</td>\n",
       "      <td>True</td>\n",
       "      <td>2019-11-04T16:48:45Z</td>\n",
       "      <td>{'id': 13499792, 'login': 'GlobexDesignsInc', ...</td>\n",
       "    </tr>\n",
       "  </tbody>\n",
       "</table>\n",
       "</div>"
      ],
      "text/plain": [
       "            id              type  \\\n",
       "0  10782508713       IssuesEvent   \n",
       "1  10782508704       DeleteEvent   \n",
       "2  10782508701       CreateEvent   \n",
       "3  10782508698  PullRequestEvent   \n",
       "4  10782508688         PushEvent   \n",
       "\n",
       "                                               actor  \\\n",
       "0  {'id': 5891788, 'login': 'mpgn', 'display_logi...   \n",
       "1  {'id': 18226415, 'login': 'manzoorwanijk', 'di...   \n",
       "2  {'id': 1845185, 'login': 'kkroo', 'display_log...   \n",
       "3  {'id': 20354819, 'login': 'Danzelot', 'display...   \n",
       "4  {'id': 226640, 'login': 'EvHaus', 'display_log...   \n",
       "\n",
       "                                                repo  \\\n",
       "0  {'id': 36927613, 'name': 'nelenkov/keystore-de...   \n",
       "1  {'id': 7252233, 'name': 'eventespresso/event-e...   \n",
       "2  {'id': 219550095, 'name': 'Blockcast/landing',...   \n",
       "3  {'id': 43127667, 'name': 'uit-no/hpc-doc', 'ur...   \n",
       "4  {'id': 137302958, 'name': 'GlobexDesignsInc/gl...   \n",
       "\n",
       "                                             payload  public  \\\n",
       "0  {'action': 'opened', 'issue': {'url': 'https:/...    True   \n",
       "1  {'ref': 'EDTR/refactor-fix-parseInfinity', 're...    True   \n",
       "2  {'ref': None, 'ref_type': 'repository', 'maste...    True   \n",
       "3  {'action': 'opened', 'number': 70, 'pull_reque...    True   \n",
       "4  {'push_id': 4231613522, 'size': 1, 'distinct_s...    True   \n",
       "\n",
       "             created_at                                                org  \n",
       "0  2019-11-04T16:48:45Z                                                NaN  \n",
       "1  2019-11-04T16:48:45Z  {'id': 3077278, 'login': 'eventespresso', 'gra...  \n",
       "2  2019-11-04T16:48:45Z  {'id': 57363972, 'login': 'Blockcast', 'gravat...  \n",
       "3  2019-11-04T16:48:45Z  {'id': 9962660, 'login': 'uit-no', 'gravatar_i...  \n",
       "4  2019-11-04T16:48:45Z  {'id': 13499792, 'login': 'GlobexDesignsInc', ...  "
      ]
     },
     "execution_count": 9,
     "metadata": {},
     "output_type": "execute_result"
    }
   ],
   "source": [
    "data=pd.DataFrame(resp.json())\n",
    "data.head()"
   ]
  },
  {
   "cell_type": "code",
   "execution_count": 11,
   "metadata": {},
   "outputs": [],
   "source": [
    "def flatten(data, col):\n",
    "    for c in col:\n",
    "        fl=pd.DataFrame(dict(data[c])).T\n",
    "        cols=[str(col) for col in fl.columns]\n",
    "        fl.columns=[c+'-'+name for name in cols]\n",
    "        data=pd.concat([data, fl], axis=1)\n",
    "        data=data.drop(c, axis=1)\n",
    "    return data"
   ]
  },
  {
   "cell_type": "code",
   "execution_count": 12,
   "metadata": {},
   "outputs": [
    {
     "data": {
      "text/html": [
       "<div>\n",
       "<style scoped>\n",
       "    .dataframe tbody tr th:only-of-type {\n",
       "        vertical-align: middle;\n",
       "    }\n",
       "\n",
       "    .dataframe tbody tr th {\n",
       "        vertical-align: top;\n",
       "    }\n",
       "\n",
       "    .dataframe thead th {\n",
       "        text-align: right;\n",
       "    }\n",
       "</style>\n",
       "<table border=\"1\" class=\"dataframe\">\n",
       "  <thead>\n",
       "    <tr style=\"text-align: right;\">\n",
       "      <th></th>\n",
       "      <th>id</th>\n",
       "      <th>type</th>\n",
       "      <th>public</th>\n",
       "      <th>created_at</th>\n",
       "      <th>actor-id</th>\n",
       "      <th>actor-login</th>\n",
       "      <th>actor-display_login</th>\n",
       "      <th>actor-gravatar_id</th>\n",
       "      <th>actor-url</th>\n",
       "      <th>actor-avatar_url</th>\n",
       "      <th>...</th>\n",
       "      <th>payload-description</th>\n",
       "      <th>payload-number</th>\n",
       "      <th>payload-pull_request</th>\n",
       "      <th>payload-push_id</th>\n",
       "      <th>payload-size</th>\n",
       "      <th>payload-distinct_size</th>\n",
       "      <th>payload-head</th>\n",
       "      <th>payload-before</th>\n",
       "      <th>payload-commits</th>\n",
       "      <th>payload-comment</th>\n",
       "    </tr>\n",
       "  </thead>\n",
       "  <tbody>\n",
       "    <tr>\n",
       "      <td>0</td>\n",
       "      <td>10782508713</td>\n",
       "      <td>IssuesEvent</td>\n",
       "      <td>True</td>\n",
       "      <td>2019-11-04T16:48:45Z</td>\n",
       "      <td>5891788</td>\n",
       "      <td>mpgn</td>\n",
       "      <td>mpgn</td>\n",
       "      <td></td>\n",
       "      <td>https://api.github.com/users/mpgn</td>\n",
       "      <td>https://avatars.githubusercontent.com/u/5891788?</td>\n",
       "      <td>...</td>\n",
       "      <td>NaN</td>\n",
       "      <td>NaN</td>\n",
       "      <td>NaN</td>\n",
       "      <td>NaN</td>\n",
       "      <td>NaN</td>\n",
       "      <td>NaN</td>\n",
       "      <td>NaN</td>\n",
       "      <td>NaN</td>\n",
       "      <td>NaN</td>\n",
       "      <td>NaN</td>\n",
       "    </tr>\n",
       "    <tr>\n",
       "      <td>1</td>\n",
       "      <td>10782508704</td>\n",
       "      <td>DeleteEvent</td>\n",
       "      <td>True</td>\n",
       "      <td>2019-11-04T16:48:45Z</td>\n",
       "      <td>18226415</td>\n",
       "      <td>manzoorwanijk</td>\n",
       "      <td>manzoorwanijk</td>\n",
       "      <td></td>\n",
       "      <td>https://api.github.com/users/manzoorwanijk</td>\n",
       "      <td>https://avatars.githubusercontent.com/u/18226415?</td>\n",
       "      <td>...</td>\n",
       "      <td>NaN</td>\n",
       "      <td>NaN</td>\n",
       "      <td>NaN</td>\n",
       "      <td>NaN</td>\n",
       "      <td>NaN</td>\n",
       "      <td>NaN</td>\n",
       "      <td>NaN</td>\n",
       "      <td>NaN</td>\n",
       "      <td>NaN</td>\n",
       "      <td>NaN</td>\n",
       "    </tr>\n",
       "    <tr>\n",
       "      <td>2</td>\n",
       "      <td>10782508701</td>\n",
       "      <td>CreateEvent</td>\n",
       "      <td>True</td>\n",
       "      <td>2019-11-04T16:48:45Z</td>\n",
       "      <td>1845185</td>\n",
       "      <td>kkroo</td>\n",
       "      <td>kkroo</td>\n",
       "      <td></td>\n",
       "      <td>https://api.github.com/users/kkroo</td>\n",
       "      <td>https://avatars.githubusercontent.com/u/1845185?</td>\n",
       "      <td>...</td>\n",
       "      <td>Landing page</td>\n",
       "      <td>NaN</td>\n",
       "      <td>NaN</td>\n",
       "      <td>NaN</td>\n",
       "      <td>NaN</td>\n",
       "      <td>NaN</td>\n",
       "      <td>NaN</td>\n",
       "      <td>NaN</td>\n",
       "      <td>NaN</td>\n",
       "      <td>NaN</td>\n",
       "    </tr>\n",
       "    <tr>\n",
       "      <td>3</td>\n",
       "      <td>10782508698</td>\n",
       "      <td>PullRequestEvent</td>\n",
       "      <td>True</td>\n",
       "      <td>2019-11-04T16:48:45Z</td>\n",
       "      <td>20354819</td>\n",
       "      <td>Danzelot</td>\n",
       "      <td>Danzelot</td>\n",
       "      <td></td>\n",
       "      <td>https://api.github.com/users/Danzelot</td>\n",
       "      <td>https://avatars.githubusercontent.com/u/20354819?</td>\n",
       "      <td>...</td>\n",
       "      <td>NaN</td>\n",
       "      <td>70</td>\n",
       "      <td>{'url': 'https://api.github.com/repos/uit-no/h...</td>\n",
       "      <td>NaN</td>\n",
       "      <td>NaN</td>\n",
       "      <td>NaN</td>\n",
       "      <td>NaN</td>\n",
       "      <td>NaN</td>\n",
       "      <td>NaN</td>\n",
       "      <td>NaN</td>\n",
       "    </tr>\n",
       "    <tr>\n",
       "      <td>4</td>\n",
       "      <td>10782508688</td>\n",
       "      <td>PushEvent</td>\n",
       "      <td>True</td>\n",
       "      <td>2019-11-04T16:48:45Z</td>\n",
       "      <td>226640</td>\n",
       "      <td>EvHaus</td>\n",
       "      <td>EvHaus</td>\n",
       "      <td></td>\n",
       "      <td>https://api.github.com/users/EvHaus</td>\n",
       "      <td>https://avatars.githubusercontent.com/u/226640?</td>\n",
       "      <td>...</td>\n",
       "      <td>NaN</td>\n",
       "      <td>NaN</td>\n",
       "      <td>NaN</td>\n",
       "      <td>4231613522</td>\n",
       "      <td>1</td>\n",
       "      <td>1</td>\n",
       "      <td>67d1a590210c0308c02fc72bad260d0d78278dc9</td>\n",
       "      <td>50c4795ec1a1db34c37ae5b971bccbd37bda59c8</td>\n",
       "      <td>[{'sha': '67d1a590210c0308c02fc72bad260d0d7827...</td>\n",
       "      <td>NaN</td>\n",
       "    </tr>\n",
       "  </tbody>\n",
       "</table>\n",
       "<p>5 rows × 34 columns</p>\n",
       "</div>"
      ],
      "text/plain": [
       "            id              type  public            created_at  actor-id  \\\n",
       "0  10782508713       IssuesEvent    True  2019-11-04T16:48:45Z   5891788   \n",
       "1  10782508704       DeleteEvent    True  2019-11-04T16:48:45Z  18226415   \n",
       "2  10782508701       CreateEvent    True  2019-11-04T16:48:45Z   1845185   \n",
       "3  10782508698  PullRequestEvent    True  2019-11-04T16:48:45Z  20354819   \n",
       "4  10782508688         PushEvent    True  2019-11-04T16:48:45Z    226640   \n",
       "\n",
       "     actor-login actor-display_login actor-gravatar_id  \\\n",
       "0           mpgn                mpgn                     \n",
       "1  manzoorwanijk       manzoorwanijk                     \n",
       "2          kkroo               kkroo                     \n",
       "3       Danzelot            Danzelot                     \n",
       "4         EvHaus              EvHaus                     \n",
       "\n",
       "                                    actor-url  \\\n",
       "0           https://api.github.com/users/mpgn   \n",
       "1  https://api.github.com/users/manzoorwanijk   \n",
       "2          https://api.github.com/users/kkroo   \n",
       "3       https://api.github.com/users/Danzelot   \n",
       "4         https://api.github.com/users/EvHaus   \n",
       "\n",
       "                                    actor-avatar_url  ... payload-description  \\\n",
       "0   https://avatars.githubusercontent.com/u/5891788?  ...                 NaN   \n",
       "1  https://avatars.githubusercontent.com/u/18226415?  ...                 NaN   \n",
       "2   https://avatars.githubusercontent.com/u/1845185?  ...        Landing page   \n",
       "3  https://avatars.githubusercontent.com/u/20354819?  ...                 NaN   \n",
       "4    https://avatars.githubusercontent.com/u/226640?  ...                 NaN   \n",
       "\n",
       "  payload-number                               payload-pull_request  \\\n",
       "0            NaN                                                NaN   \n",
       "1            NaN                                                NaN   \n",
       "2            NaN                                                NaN   \n",
       "3             70  {'url': 'https://api.github.com/repos/uit-no/h...   \n",
       "4            NaN                                                NaN   \n",
       "\n",
       "  payload-push_id payload-size payload-distinct_size  \\\n",
       "0             NaN          NaN                   NaN   \n",
       "1             NaN          NaN                   NaN   \n",
       "2             NaN          NaN                   NaN   \n",
       "3             NaN          NaN                   NaN   \n",
       "4      4231613522            1                     1   \n",
       "\n",
       "                               payload-head  \\\n",
       "0                                       NaN   \n",
       "1                                       NaN   \n",
       "2                                       NaN   \n",
       "3                                       NaN   \n",
       "4  67d1a590210c0308c02fc72bad260d0d78278dc9   \n",
       "\n",
       "                             payload-before  \\\n",
       "0                                       NaN   \n",
       "1                                       NaN   \n",
       "2                                       NaN   \n",
       "3                                       NaN   \n",
       "4  50c4795ec1a1db34c37ae5b971bccbd37bda59c8   \n",
       "\n",
       "                                     payload-commits payload-comment  \n",
       "0                                                NaN             NaN  \n",
       "1                                                NaN             NaN  \n",
       "2                                                NaN             NaN  \n",
       "3                                                NaN             NaN  \n",
       "4  [{'sha': '67d1a590210c0308c02fc72bad260d0d7827...             NaN  \n",
       "\n",
       "[5 rows x 34 columns]"
      ]
     },
     "execution_count": 12,
     "metadata": {},
     "output_type": "execute_result"
    }
   ],
   "source": [
    "nested_cols=['actor', 'org', 'repo', 'payload']\n",
    "flat=flatten(data, nested_cols)\n",
    "flat.head()"
   ]
  },
  {
   "cell_type": "code",
   "execution_count": 13,
   "metadata": {},
   "outputs": [
    {
     "data": {
      "text/html": [
       "<div>\n",
       "<style scoped>\n",
       "    .dataframe tbody tr th:only-of-type {\n",
       "        vertical-align: middle;\n",
       "    }\n",
       "\n",
       "    .dataframe tbody tr th {\n",
       "        vertical-align: top;\n",
       "    }\n",
       "\n",
       "    .dataframe thead th {\n",
       "        text-align: right;\n",
       "    }\n",
       "</style>\n",
       "<table border=\"1\" class=\"dataframe\">\n",
       "  <thead>\n",
       "    <tr style=\"text-align: right;\">\n",
       "      <th></th>\n",
       "      <th>id</th>\n",
       "      <th>type</th>\n",
       "      <th>public</th>\n",
       "      <th>created_at</th>\n",
       "      <th>actor.id</th>\n",
       "      <th>actor.login</th>\n",
       "      <th>actor.display_login</th>\n",
       "      <th>actor.gravatar_id</th>\n",
       "      <th>actor.url</th>\n",
       "      <th>actor.avatar_url</th>\n",
       "      <th>...</th>\n",
       "      <th>payload.pull_request.merged_by.following_url</th>\n",
       "      <th>payload.pull_request.merged_by.gists_url</th>\n",
       "      <th>payload.pull_request.merged_by.starred_url</th>\n",
       "      <th>payload.pull_request.merged_by.subscriptions_url</th>\n",
       "      <th>payload.pull_request.merged_by.organizations_url</th>\n",
       "      <th>payload.pull_request.merged_by.repos_url</th>\n",
       "      <th>payload.pull_request.merged_by.events_url</th>\n",
       "      <th>payload.pull_request.merged_by.received_events_url</th>\n",
       "      <th>payload.pull_request.merged_by.type</th>\n",
       "      <th>payload.pull_request.merged_by.site_admin</th>\n",
       "    </tr>\n",
       "  </thead>\n",
       "  <tbody>\n",
       "    <tr>\n",
       "      <td>0</td>\n",
       "      <td>10782508713</td>\n",
       "      <td>IssuesEvent</td>\n",
       "      <td>True</td>\n",
       "      <td>2019-11-04T16:48:45Z</td>\n",
       "      <td>5891788</td>\n",
       "      <td>mpgn</td>\n",
       "      <td>mpgn</td>\n",
       "      <td></td>\n",
       "      <td>https://api.github.com/users/mpgn</td>\n",
       "      <td>https://avatars.githubusercontent.com/u/5891788?</td>\n",
       "      <td>...</td>\n",
       "      <td>NaN</td>\n",
       "      <td>NaN</td>\n",
       "      <td>NaN</td>\n",
       "      <td>NaN</td>\n",
       "      <td>NaN</td>\n",
       "      <td>NaN</td>\n",
       "      <td>NaN</td>\n",
       "      <td>NaN</td>\n",
       "      <td>NaN</td>\n",
       "      <td>NaN</td>\n",
       "    </tr>\n",
       "    <tr>\n",
       "      <td>1</td>\n",
       "      <td>10782508704</td>\n",
       "      <td>DeleteEvent</td>\n",
       "      <td>True</td>\n",
       "      <td>2019-11-04T16:48:45Z</td>\n",
       "      <td>18226415</td>\n",
       "      <td>manzoorwanijk</td>\n",
       "      <td>manzoorwanijk</td>\n",
       "      <td></td>\n",
       "      <td>https://api.github.com/users/manzoorwanijk</td>\n",
       "      <td>https://avatars.githubusercontent.com/u/18226415?</td>\n",
       "      <td>...</td>\n",
       "      <td>NaN</td>\n",
       "      <td>NaN</td>\n",
       "      <td>NaN</td>\n",
       "      <td>NaN</td>\n",
       "      <td>NaN</td>\n",
       "      <td>NaN</td>\n",
       "      <td>NaN</td>\n",
       "      <td>NaN</td>\n",
       "      <td>NaN</td>\n",
       "      <td>NaN</td>\n",
       "    </tr>\n",
       "    <tr>\n",
       "      <td>2</td>\n",
       "      <td>10782508701</td>\n",
       "      <td>CreateEvent</td>\n",
       "      <td>True</td>\n",
       "      <td>2019-11-04T16:48:45Z</td>\n",
       "      <td>1845185</td>\n",
       "      <td>kkroo</td>\n",
       "      <td>kkroo</td>\n",
       "      <td></td>\n",
       "      <td>https://api.github.com/users/kkroo</td>\n",
       "      <td>https://avatars.githubusercontent.com/u/1845185?</td>\n",
       "      <td>...</td>\n",
       "      <td>NaN</td>\n",
       "      <td>NaN</td>\n",
       "      <td>NaN</td>\n",
       "      <td>NaN</td>\n",
       "      <td>NaN</td>\n",
       "      <td>NaN</td>\n",
       "      <td>NaN</td>\n",
       "      <td>NaN</td>\n",
       "      <td>NaN</td>\n",
       "      <td>NaN</td>\n",
       "    </tr>\n",
       "    <tr>\n",
       "      <td>3</td>\n",
       "      <td>10782508698</td>\n",
       "      <td>PullRequestEvent</td>\n",
       "      <td>True</td>\n",
       "      <td>2019-11-04T16:48:45Z</td>\n",
       "      <td>20354819</td>\n",
       "      <td>Danzelot</td>\n",
       "      <td>Danzelot</td>\n",
       "      <td></td>\n",
       "      <td>https://api.github.com/users/Danzelot</td>\n",
       "      <td>https://avatars.githubusercontent.com/u/20354819?</td>\n",
       "      <td>...</td>\n",
       "      <td>NaN</td>\n",
       "      <td>NaN</td>\n",
       "      <td>NaN</td>\n",
       "      <td>NaN</td>\n",
       "      <td>NaN</td>\n",
       "      <td>NaN</td>\n",
       "      <td>NaN</td>\n",
       "      <td>NaN</td>\n",
       "      <td>NaN</td>\n",
       "      <td>NaN</td>\n",
       "    </tr>\n",
       "    <tr>\n",
       "      <td>4</td>\n",
       "      <td>10782508688</td>\n",
       "      <td>PushEvent</td>\n",
       "      <td>True</td>\n",
       "      <td>2019-11-04T16:48:45Z</td>\n",
       "      <td>226640</td>\n",
       "      <td>EvHaus</td>\n",
       "      <td>EvHaus</td>\n",
       "      <td></td>\n",
       "      <td>https://api.github.com/users/EvHaus</td>\n",
       "      <td>https://avatars.githubusercontent.com/u/226640?</td>\n",
       "      <td>...</td>\n",
       "      <td>NaN</td>\n",
       "      <td>NaN</td>\n",
       "      <td>NaN</td>\n",
       "      <td>NaN</td>\n",
       "      <td>NaN</td>\n",
       "      <td>NaN</td>\n",
       "      <td>NaN</td>\n",
       "      <td>NaN</td>\n",
       "      <td>NaN</td>\n",
       "      <td>NaN</td>\n",
       "    </tr>\n",
       "  </tbody>\n",
       "</table>\n",
       "<p>5 rows × 482 columns</p>\n",
       "</div>"
      ],
      "text/plain": [
       "            id              type  public            created_at  actor.id  \\\n",
       "0  10782508713       IssuesEvent    True  2019-11-04T16:48:45Z   5891788   \n",
       "1  10782508704       DeleteEvent    True  2019-11-04T16:48:45Z  18226415   \n",
       "2  10782508701       CreateEvent    True  2019-11-04T16:48:45Z   1845185   \n",
       "3  10782508698  PullRequestEvent    True  2019-11-04T16:48:45Z  20354819   \n",
       "4  10782508688         PushEvent    True  2019-11-04T16:48:45Z    226640   \n",
       "\n",
       "     actor.login actor.display_login actor.gravatar_id  \\\n",
       "0           mpgn                mpgn                     \n",
       "1  manzoorwanijk       manzoorwanijk                     \n",
       "2          kkroo               kkroo                     \n",
       "3       Danzelot            Danzelot                     \n",
       "4         EvHaus              EvHaus                     \n",
       "\n",
       "                                    actor.url  \\\n",
       "0           https://api.github.com/users/mpgn   \n",
       "1  https://api.github.com/users/manzoorwanijk   \n",
       "2          https://api.github.com/users/kkroo   \n",
       "3       https://api.github.com/users/Danzelot   \n",
       "4         https://api.github.com/users/EvHaus   \n",
       "\n",
       "                                    actor.avatar_url  ...  \\\n",
       "0   https://avatars.githubusercontent.com/u/5891788?  ...   \n",
       "1  https://avatars.githubusercontent.com/u/18226415?  ...   \n",
       "2   https://avatars.githubusercontent.com/u/1845185?  ...   \n",
       "3  https://avatars.githubusercontent.com/u/20354819?  ...   \n",
       "4    https://avatars.githubusercontent.com/u/226640?  ...   \n",
       "\n",
       "   payload.pull_request.merged_by.following_url  \\\n",
       "0                                           NaN   \n",
       "1                                           NaN   \n",
       "2                                           NaN   \n",
       "3                                           NaN   \n",
       "4                                           NaN   \n",
       "\n",
       "  payload.pull_request.merged_by.gists_url  \\\n",
       "0                                      NaN   \n",
       "1                                      NaN   \n",
       "2                                      NaN   \n",
       "3                                      NaN   \n",
       "4                                      NaN   \n",
       "\n",
       "  payload.pull_request.merged_by.starred_url  \\\n",
       "0                                        NaN   \n",
       "1                                        NaN   \n",
       "2                                        NaN   \n",
       "3                                        NaN   \n",
       "4                                        NaN   \n",
       "\n",
       "  payload.pull_request.merged_by.subscriptions_url  \\\n",
       "0                                              NaN   \n",
       "1                                              NaN   \n",
       "2                                              NaN   \n",
       "3                                              NaN   \n",
       "4                                              NaN   \n",
       "\n",
       "  payload.pull_request.merged_by.organizations_url  \\\n",
       "0                                              NaN   \n",
       "1                                              NaN   \n",
       "2                                              NaN   \n",
       "3                                              NaN   \n",
       "4                                              NaN   \n",
       "\n",
       "  payload.pull_request.merged_by.repos_url  \\\n",
       "0                                      NaN   \n",
       "1                                      NaN   \n",
       "2                                      NaN   \n",
       "3                                      NaN   \n",
       "4                                      NaN   \n",
       "\n",
       "  payload.pull_request.merged_by.events_url  \\\n",
       "0                                       NaN   \n",
       "1                                       NaN   \n",
       "2                                       NaN   \n",
       "3                                       NaN   \n",
       "4                                       NaN   \n",
       "\n",
       "  payload.pull_request.merged_by.received_events_url  \\\n",
       "0                                                NaN   \n",
       "1                                                NaN   \n",
       "2                                                NaN   \n",
       "3                                                NaN   \n",
       "4                                                NaN   \n",
       "\n",
       "  payload.pull_request.merged_by.type  \\\n",
       "0                                 NaN   \n",
       "1                                 NaN   \n",
       "2                                 NaN   \n",
       "3                                 NaN   \n",
       "4                                 NaN   \n",
       "\n",
       "  payload.pull_request.merged_by.site_admin  \n",
       "0                                       NaN  \n",
       "1                                       NaN  \n",
       "2                                       NaN  \n",
       "3                                       NaN  \n",
       "4                                       NaN  \n",
       "\n",
       "[5 rows x 482 columns]"
      ]
     },
     "execution_count": 13,
     "metadata": {},
     "output_type": "execute_result"
    }
   ],
   "source": [
    "from pandas.io.json import json_normalize\n",
    "\n",
    "flattened=json_normalize(resp.json())\n",
    "flattened.head()"
   ]
  },
  {
   "cell_type": "code",
   "execution_count": 14,
   "metadata": {},
   "outputs": [
    {
     "name": "stdout",
     "output_type": "stream",
     "text": [
      "Requirement already satisfied: tweepy in /Users/data/Library/Python/3.7/lib/python/site-packages (3.8.0)\r\n",
      "Requirement already satisfied: requests-oauthlib>=0.7.0 in /Users/data/Library/Python/3.7/lib/python/site-packages (from tweepy) (1.2.0)\r\n",
      "Requirement already satisfied: six>=1.10.0 in /usr/local/Cellar/ipython/7.8.0/libexec/vendor/lib/python3.7/site-packages (from tweepy) (1.12.0)\r\n",
      "Requirement already satisfied: requests>=2.11.1 in /Users/data/Library/Python/3.7/lib/python/site-packages (from tweepy) (2.22.0)\r\n",
      "Requirement already satisfied: PySocks>=1.5.7 in /Users/data/Library/Python/3.7/lib/python/site-packages (from tweepy) (1.7.1)\r\n",
      "Requirement already satisfied: oauthlib>=3.0.0 in /Users/data/Library/Python/3.7/lib/python/site-packages (from requests-oauthlib>=0.7.0->tweepy) (3.1.0)\r\n",
      "Requirement already satisfied: idna<2.9,>=2.5 in /Users/data/Library/Python/3.7/lib/python/site-packages (from requests>=2.11.1->tweepy) (2.8)\r\n",
      "Requirement already satisfied: certifi>=2017.4.17 in /Users/data/Library/Python/3.7/lib/python/site-packages (from requests>=2.11.1->tweepy) (2019.6.16)\r\n",
      "Requirement already satisfied: chardet<3.1.0,>=3.0.2 in /Users/data/Library/Python/3.7/lib/python/site-packages (from requests>=2.11.1->tweepy) (3.0.4)\r\n",
      "Requirement already satisfied: urllib3!=1.25.0,!=1.25.1,<1.26,>=1.21.1 in /Users/data/Library/Python/3.7/lib/python/site-packages (from requests>=2.11.1->tweepy) (1.25.3)\r\n"
     ]
    }
   ],
   "source": [
    "# tweeter\n",
    "# https://developer.twitter.com/en/apply-for-access.html\n",
    "\n",
    "!pip3 install tweepy"
   ]
  },
  {
   "cell_type": "code",
   "execution_count": 17,
   "metadata": {},
   "outputs": [
    {
     "data": {
      "text/plain": [
       "<tweepy.api.API at 0x1179d6ed0>"
      ]
     },
     "execution_count": 17,
     "metadata": {},
     "output_type": "execute_result"
    }
   ],
   "source": [
    "import tweepy\n",
    "\n",
    "API_KEY='APIKey'\n",
    "API_SECRET='APISecret'\n",
    "ACCESS_TOKEN='AccessToken'\n",
    "SECRET_TOKEN='SecretToken'\n",
    "\n",
    "auth=tweepy.OAuthHandler(API_KEY, API_SECRET)\n",
    "auth.set_access_token(ACCESS_TOKEN, SECRET_TOKEN)\n",
    "\n",
    "api=tweepy.API(auth)\n",
    "api"
   ]
  },
  {
   "cell_type": "code",
   "execution_count": 16,
   "metadata": {},
   "outputs": [],
   "source": [
    "def get_followers(user, count=100):\n",
    "    results=api.followers(user, count=count)\n",
    "    followers=[pd.Series(follower.json()) for follower in results]\n",
    "    df=pd.DataFrame(followers)\n",
    "    return df"
   ]
  },
  {
   "cell_type": "code",
   "execution_count": 19,
   "metadata": {},
   "outputs": [
    {
     "ename": "TweepError",
     "evalue": "[{'code': 89, 'message': 'Invalid or expired token.'}]",
     "output_type": "error",
     "traceback": [
      "\u001b[0;31m---------------------------------------------------------------------------\u001b[0m",
      "\u001b[0;31mTweepError\u001b[0m                                Traceback (most recent call last)",
      "\u001b[0;32m<ipython-input-19-cc577336eedd>\u001b[0m in \u001b[0;36m<module>\u001b[0;34m\u001b[0m\n\u001b[0;32m----> 1\u001b[0;31m \u001b[0mironhack\u001b[0m\u001b[0;34m=\u001b[0m\u001b[0mget_followers\u001b[0m\u001b[0;34m(\u001b[0m\u001b[0;34m'ironhack'\u001b[0m\u001b[0;34m)\u001b[0m\u001b[0;34m\u001b[0m\u001b[0;34m\u001b[0m\u001b[0m\n\u001b[0m\u001b[1;32m      2\u001b[0m \u001b[0mironhack\u001b[0m\u001b[0;34m.\u001b[0m\u001b[0mhead\u001b[0m\u001b[0;34m(\u001b[0m\u001b[0;34m)\u001b[0m\u001b[0;34m\u001b[0m\u001b[0;34m\u001b[0m\u001b[0m\n",
      "\u001b[0;32m<ipython-input-16-d5ebf70f5eb4>\u001b[0m in \u001b[0;36mget_followers\u001b[0;34m(user, count)\u001b[0m\n\u001b[1;32m      1\u001b[0m \u001b[0;32mdef\u001b[0m \u001b[0mget_followers\u001b[0m\u001b[0;34m(\u001b[0m\u001b[0muser\u001b[0m\u001b[0;34m,\u001b[0m \u001b[0mcount\u001b[0m\u001b[0;34m=\u001b[0m\u001b[0;36m100\u001b[0m\u001b[0;34m)\u001b[0m\u001b[0;34m:\u001b[0m\u001b[0;34m\u001b[0m\u001b[0;34m\u001b[0m\u001b[0m\n\u001b[0;32m----> 2\u001b[0;31m     \u001b[0mresults\u001b[0m\u001b[0;34m=\u001b[0m\u001b[0mapi\u001b[0m\u001b[0;34m.\u001b[0m\u001b[0mfollowers\u001b[0m\u001b[0;34m(\u001b[0m\u001b[0muser\u001b[0m\u001b[0;34m,\u001b[0m \u001b[0mcount\u001b[0m\u001b[0;34m=\u001b[0m\u001b[0mcount\u001b[0m\u001b[0;34m)\u001b[0m\u001b[0;34m\u001b[0m\u001b[0;34m\u001b[0m\u001b[0m\n\u001b[0m\u001b[1;32m      3\u001b[0m     \u001b[0mfollowers\u001b[0m\u001b[0;34m=\u001b[0m\u001b[0;34m[\u001b[0m\u001b[0mpd\u001b[0m\u001b[0;34m.\u001b[0m\u001b[0mSeries\u001b[0m\u001b[0;34m(\u001b[0m\u001b[0mfollower\u001b[0m\u001b[0;34m.\u001b[0m\u001b[0mjson\u001b[0m\u001b[0;34m(\u001b[0m\u001b[0;34m)\u001b[0m\u001b[0;34m)\u001b[0m \u001b[0;32mfor\u001b[0m \u001b[0mfollower\u001b[0m \u001b[0;32min\u001b[0m \u001b[0mresults\u001b[0m\u001b[0;34m]\u001b[0m\u001b[0;34m\u001b[0m\u001b[0;34m\u001b[0m\u001b[0m\n\u001b[1;32m      4\u001b[0m     \u001b[0mdf\u001b[0m\u001b[0;34m=\u001b[0m\u001b[0mpd\u001b[0m\u001b[0;34m.\u001b[0m\u001b[0mDataFrame\u001b[0m\u001b[0;34m(\u001b[0m\u001b[0mfollowers\u001b[0m\u001b[0;34m)\u001b[0m\u001b[0;34m\u001b[0m\u001b[0;34m\u001b[0m\u001b[0m\n\u001b[1;32m      5\u001b[0m     \u001b[0;32mreturn\u001b[0m \u001b[0mdf\u001b[0m\u001b[0;34m\u001b[0m\u001b[0;34m\u001b[0m\u001b[0m\n",
      "\u001b[0;32m~/Library/Python/3.7/lib/python/site-packages/tweepy/binder.py\u001b[0m in \u001b[0;36m_call\u001b[0;34m(*args, **kwargs)\u001b[0m\n\u001b[1;32m    248\u001b[0m                 \u001b[0;32mreturn\u001b[0m \u001b[0mmethod\u001b[0m\u001b[0;34m\u001b[0m\u001b[0;34m\u001b[0m\u001b[0m\n\u001b[1;32m    249\u001b[0m             \u001b[0;32melse\u001b[0m\u001b[0;34m:\u001b[0m\u001b[0;34m\u001b[0m\u001b[0;34m\u001b[0m\u001b[0m\n\u001b[0;32m--> 250\u001b[0;31m                 \u001b[0;32mreturn\u001b[0m \u001b[0mmethod\u001b[0m\u001b[0;34m.\u001b[0m\u001b[0mexecute\u001b[0m\u001b[0;34m(\u001b[0m\u001b[0;34m)\u001b[0m\u001b[0;34m\u001b[0m\u001b[0;34m\u001b[0m\u001b[0m\n\u001b[0m\u001b[1;32m    251\u001b[0m         \u001b[0;32mfinally\u001b[0m\u001b[0;34m:\u001b[0m\u001b[0;34m\u001b[0m\u001b[0;34m\u001b[0m\u001b[0m\n\u001b[1;32m    252\u001b[0m             \u001b[0mmethod\u001b[0m\u001b[0;34m.\u001b[0m\u001b[0msession\u001b[0m\u001b[0;34m.\u001b[0m\u001b[0mclose\u001b[0m\u001b[0;34m(\u001b[0m\u001b[0;34m)\u001b[0m\u001b[0;34m\u001b[0m\u001b[0;34m\u001b[0m\u001b[0m\n",
      "\u001b[0;32m~/Library/Python/3.7/lib/python/site-packages/tweepy/binder.py\u001b[0m in \u001b[0;36mexecute\u001b[0;34m(self)\u001b[0m\n\u001b[1;32m    231\u001b[0m                     \u001b[0;32mraise\u001b[0m \u001b[0mRateLimitError\u001b[0m\u001b[0;34m(\u001b[0m\u001b[0merror_msg\u001b[0m\u001b[0;34m,\u001b[0m \u001b[0mresp\u001b[0m\u001b[0;34m)\u001b[0m\u001b[0;34m\u001b[0m\u001b[0;34m\u001b[0m\u001b[0m\n\u001b[1;32m    232\u001b[0m                 \u001b[0;32melse\u001b[0m\u001b[0;34m:\u001b[0m\u001b[0;34m\u001b[0m\u001b[0;34m\u001b[0m\u001b[0m\n\u001b[0;32m--> 233\u001b[0;31m                     \u001b[0;32mraise\u001b[0m \u001b[0mTweepError\u001b[0m\u001b[0;34m(\u001b[0m\u001b[0merror_msg\u001b[0m\u001b[0;34m,\u001b[0m \u001b[0mresp\u001b[0m\u001b[0;34m,\u001b[0m \u001b[0mapi_code\u001b[0m\u001b[0;34m=\u001b[0m\u001b[0mapi_error_code\u001b[0m\u001b[0;34m)\u001b[0m\u001b[0;34m\u001b[0m\u001b[0;34m\u001b[0m\u001b[0m\n\u001b[0m\u001b[1;32m    234\u001b[0m \u001b[0;34m\u001b[0m\u001b[0m\n\u001b[1;32m    235\u001b[0m             \u001b[0;31m# Parse the response payload\u001b[0m\u001b[0;34m\u001b[0m\u001b[0;34m\u001b[0m\u001b[0;34m\u001b[0m\u001b[0m\n",
      "\u001b[0;31mTweepError\u001b[0m: [{'code': 89, 'message': 'Invalid or expired token.'}]"
     ]
    }
   ],
   "source": [
    "ironhack=get_followers('ironhack')\n",
    "ironhack.head()"
   ]
  },
  {
   "cell_type": "code",
   "execution_count": 20,
   "metadata": {},
   "outputs": [
    {
     "data": {
      "text/plain": [
       "200"
      ]
     },
     "execution_count": 20,
     "metadata": {},
     "output_type": "execute_result"
    }
   ],
   "source": [
    "# pokeapi\n",
    "\n",
    "res=requests.get('https://pokeapi.co/api/v2/pokemon/25')\n",
    "res.status_code"
   ]
  },
  {
   "cell_type": "code",
   "execution_count": 22,
   "metadata": {},
   "outputs": [
    {
     "data": {
      "text/plain": [
       "str"
      ]
     },
     "execution_count": 22,
     "metadata": {},
     "output_type": "execute_result"
    }
   ],
   "source": [
    "type(res.text)"
   ]
  },
  {
   "cell_type": "code",
   "execution_count": 23,
   "metadata": {},
   "outputs": [
    {
     "data": {
      "text/plain": [
       "dict"
      ]
     },
     "execution_count": 23,
     "metadata": {},
     "output_type": "execute_result"
    }
   ],
   "source": [
    "type(res.json())"
   ]
  },
  {
   "cell_type": "code",
   "execution_count": 25,
   "metadata": {},
   "outputs": [
    {
     "data": {
      "text/plain": [
       "'pikachu'"
      ]
     },
     "execution_count": 25,
     "metadata": {},
     "output_type": "execute_result"
    }
   ],
   "source": [
    "data=res.json()\n",
    "data['name']"
   ]
  },
  {
   "cell_type": "code",
   "execution_count": 26,
   "metadata": {},
   "outputs": [],
   "source": [
    "def get_pokemon(num):\n",
    "    res=requests.get('https://pokeapi.co/api/v2/pokemon/{}'.format(num))\n",
    "    data=res.json()\n",
    "    return {'name':data['name'], 'image':data['sprites']['front_default']}"
   ]
  },
  {
   "cell_type": "code",
   "execution_count": 28,
   "metadata": {},
   "outputs": [
    {
     "name": "stdout",
     "output_type": "stream",
     "text": [
      "{'name': 'bulbasaur', 'image': 'https://raw.githubusercontent.com/PokeAPI/sprites/master/sprites/pokemon/1.png'}\n",
      "{'name': 'ivysaur', 'image': 'https://raw.githubusercontent.com/PokeAPI/sprites/master/sprites/pokemon/2.png'}\n",
      "{'name': 'venusaur', 'image': 'https://raw.githubusercontent.com/PokeAPI/sprites/master/sprites/pokemon/3.png'}\n",
      "{'name': 'charmander', 'image': 'https://raw.githubusercontent.com/PokeAPI/sprites/master/sprites/pokemon/4.png'}\n",
      "{'name': 'charmeleon', 'image': 'https://raw.githubusercontent.com/PokeAPI/sprites/master/sprites/pokemon/5.png'}\n",
      "{'name': 'charizard', 'image': 'https://raw.githubusercontent.com/PokeAPI/sprites/master/sprites/pokemon/6.png'}\n",
      "{'name': 'squirtle', 'image': 'https://raw.githubusercontent.com/PokeAPI/sprites/master/sprites/pokemon/7.png'}\n",
      "{'name': 'wartortle', 'image': 'https://raw.githubusercontent.com/PokeAPI/sprites/master/sprites/pokemon/8.png'}\n",
      "{'name': 'blastoise', 'image': 'https://raw.githubusercontent.com/PokeAPI/sprites/master/sprites/pokemon/9.png'}\n"
     ]
    }
   ],
   "source": [
    "for i in range(9):\n",
    "    print (get_pokemon(i+1))"
   ]
  },
  {
   "cell_type": "code",
   "execution_count": 29,
   "metadata": {},
   "outputs": [
    {
     "data": {
      "text/html": [
       "<img src=\"https://raw.githubusercontent.com/PokeAPI/sprites/master/sprites/pokemon/1.png\"/>"
      ],
      "text/plain": [
       "<IPython.core.display.Image object>"
      ]
     },
     "metadata": {},
     "output_type": "display_data"
    },
    {
     "data": {
      "text/html": [
       "<img src=\"https://raw.githubusercontent.com/PokeAPI/sprites/master/sprites/pokemon/2.png\"/>"
      ],
      "text/plain": [
       "<IPython.core.display.Image object>"
      ]
     },
     "metadata": {},
     "output_type": "display_data"
    },
    {
     "data": {
      "text/html": [
       "<img src=\"https://raw.githubusercontent.com/PokeAPI/sprites/master/sprites/pokemon/3.png\"/>"
      ],
      "text/plain": [
       "<IPython.core.display.Image object>"
      ]
     },
     "metadata": {},
     "output_type": "display_data"
    },
    {
     "data": {
      "text/html": [
       "<img src=\"https://raw.githubusercontent.com/PokeAPI/sprites/master/sprites/pokemon/4.png\"/>"
      ],
      "text/plain": [
       "<IPython.core.display.Image object>"
      ]
     },
     "metadata": {},
     "output_type": "display_data"
    },
    {
     "data": {
      "text/html": [
       "<img src=\"https://raw.githubusercontent.com/PokeAPI/sprites/master/sprites/pokemon/5.png\"/>"
      ],
      "text/plain": [
       "<IPython.core.display.Image object>"
      ]
     },
     "metadata": {},
     "output_type": "display_data"
    },
    {
     "data": {
      "text/html": [
       "<img src=\"https://raw.githubusercontent.com/PokeAPI/sprites/master/sprites/pokemon/6.png\"/>"
      ],
      "text/plain": [
       "<IPython.core.display.Image object>"
      ]
     },
     "metadata": {},
     "output_type": "display_data"
    },
    {
     "data": {
      "text/html": [
       "<img src=\"https://raw.githubusercontent.com/PokeAPI/sprites/master/sprites/pokemon/7.png\"/>"
      ],
      "text/plain": [
       "<IPython.core.display.Image object>"
      ]
     },
     "metadata": {},
     "output_type": "display_data"
    },
    {
     "data": {
      "text/html": [
       "<img src=\"https://raw.githubusercontent.com/PokeAPI/sprites/master/sprites/pokemon/8.png\"/>"
      ],
      "text/plain": [
       "<IPython.core.display.Image object>"
      ]
     },
     "metadata": {},
     "output_type": "display_data"
    },
    {
     "data": {
      "text/html": [
       "<img src=\"https://raw.githubusercontent.com/PokeAPI/sprites/master/sprites/pokemon/9.png\"/>"
      ],
      "text/plain": [
       "<IPython.core.display.Image object>"
      ]
     },
     "metadata": {},
     "output_type": "display_data"
    }
   ],
   "source": [
    "from IPython.display import Image, display_html\n",
    "from IPython.core.display import HTML\n",
    "\n",
    "for i in range(9):\n",
    "    poke=get_pokemon(i+1)\n",
    "    display(Image(url=poke['image']))"
   ]
  },
  {
   "cell_type": "code",
   "execution_count": 30,
   "metadata": {},
   "outputs": [
    {
     "data": {
      "text/html": [
       "<img src=\"https://raw.githubusercontent.com/PokeAPI/sprites/master/sprites/pokemon/1.png\" style=\"display:inline_block\"><img src=\"https://raw.githubusercontent.com/PokeAPI/sprites/master/sprites/pokemon/2.png\" style=\"display:inline_block\"><img src=\"https://raw.githubusercontent.com/PokeAPI/sprites/master/sprites/pokemon/3.png\" style=\"display:inline_block\"><img src=\"https://raw.githubusercontent.com/PokeAPI/sprites/master/sprites/pokemon/4.png\" style=\"display:inline_block\"><img src=\"https://raw.githubusercontent.com/PokeAPI/sprites/master/sprites/pokemon/5.png\" style=\"display:inline_block\"><img src=\"https://raw.githubusercontent.com/PokeAPI/sprites/master/sprites/pokemon/6.png\" style=\"display:inline_block\"><img src=\"https://raw.githubusercontent.com/PokeAPI/sprites/master/sprites/pokemon/7.png\" style=\"display:inline_block\"><img src=\"https://raw.githubusercontent.com/PokeAPI/sprites/master/sprites/pokemon/8.png\" style=\"display:inline_block\"><img src=\"https://raw.githubusercontent.com/PokeAPI/sprites/master/sprites/pokemon/9.png\" style=\"display:inline_block\">"
      ],
      "text/plain": [
       "<IPython.core.display.HTML object>"
      ]
     },
     "metadata": {},
     "output_type": "display_data"
    }
   ],
   "source": [
    "display(HTML(''.join(map(lambda x: '<img src=\"{}\" style=\"display:inline_block\">'.format(x['image']), map(get_pokemon, range(1,10))))))"
   ]
  },
  {
   "cell_type": "code",
   "execution_count": 31,
   "metadata": {},
   "outputs": [
    {
     "data": {
      "text/plain": [
       "{'count': 964,\n",
       " 'next': 'https://pokeapi.co/api/v2/pokemon?offset=4&limit=3',\n",
       " 'previous': 'https://pokeapi.co/api/v2/pokemon?offset=0&limit=1',\n",
       " 'results': [{'name': 'ivysaur',\n",
       "   'url': 'https://pokeapi.co/api/v2/pokemon/2/'},\n",
       "  {'name': 'venusaur', 'url': 'https://pokeapi.co/api/v2/pokemon/3/'},\n",
       "  {'name': 'charmander', 'url': 'https://pokeapi.co/api/v2/pokemon/4/'}]}"
      ]
     },
     "execution_count": 31,
     "metadata": {},
     "output_type": "execute_result"
    }
   ],
   "source": [
    "res=requests.get('https://pokeapi.co/api/v2/pokemon?limit=3&offset=1')\n",
    "res.json()"
   ]
  },
  {
   "cell_type": "code",
   "execution_count": 32,
   "metadata": {},
   "outputs": [
    {
     "data": {
      "text/plain": [
       "{'count': 964,\n",
       " 'next': 'https://pokeapi.co/api/v2/pokemon?offset=4&limit=3',\n",
       " 'previous': 'https://pokeapi.co/api/v2/pokemon?offset=0&limit=1',\n",
       " 'results': [{'name': 'ivysaur',\n",
       "   'url': 'https://pokeapi.co/api/v2/pokemon/2/'},\n",
       "  {'name': 'venusaur', 'url': 'https://pokeapi.co/api/v2/pokemon/3/'},\n",
       "  {'name': 'charmander', 'url': 'https://pokeapi.co/api/v2/pokemon/4/'}]}"
      ]
     },
     "execution_count": 32,
     "metadata": {},
     "output_type": "execute_result"
    }
   ],
   "source": [
    "query={'limit':3, 'offset':1}\n",
    "res=requests.get('https://pokeapi.co/api/v2/pokemon', params=query)\n",
    "res.json()"
   ]
  },
  {
   "cell_type": "code",
   "execution_count": null,
   "metadata": {},
   "outputs": [],
   "source": []
  }
 ],
 "metadata": {
  "kernelspec": {
   "display_name": "Python 3",
   "language": "python",
   "name": "python3"
  },
  "language_info": {
   "codemirror_mode": {
    "name": "ipython",
    "version": 3
   },
   "file_extension": ".py",
   "mimetype": "text/x-python",
   "name": "python",
   "nbconvert_exporter": "python",
   "pygments_lexer": "ipython3",
   "version": "3.7.5"
  }
 },
 "nbformat": 4,
 "nbformat_minor": 2
}
