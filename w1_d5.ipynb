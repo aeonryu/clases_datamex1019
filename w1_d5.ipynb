{
 "cells": [
  {
   "cell_type": "code",
   "execution_count": 3,
   "metadata": {},
   "outputs": [],
   "source": [
    "# decoradores\n",
    "# https://www.datacamp.com/community/tutorials/decorators-python\n",
    "\n",
    "\n",
    "def debug(fn):\n",
    "    def wrap(*args, **kwargs):\n",
    "        print ('Args:', args)\n",
    "        print ('Kwargs', kwargs)\n",
    "        print ('Return:', fn(*args, **kwargs))\n",
    "        return fn(*args, **kwargs)\n",
    "    return wrap"
   ]
  },
  {
   "cell_type": "code",
   "execution_count": 8,
   "metadata": {},
   "outputs": [],
   "source": [
    "@debug\n",
    "def suma(a,b):\n",
    "    return a+b"
   ]
  },
  {
   "cell_type": "code",
   "execution_count": 9,
   "metadata": {},
   "outputs": [
    {
     "name": "stdout",
     "output_type": "stream",
     "text": [
      "Args: (4, 50)\n",
      "Kwargs {}\n",
      "Return: 54\n"
     ]
    },
    {
     "data": {
      "text/plain": [
       "54"
      ]
     },
     "execution_count": 9,
     "metadata": {},
     "output_type": "execute_result"
    }
   ],
   "source": [
    "suma(4,50)"
   ]
  },
  {
   "cell_type": "code",
   "execution_count": 10,
   "metadata": {},
   "outputs": [],
   "source": [
    "@debug\n",
    "def multi(n):\n",
    "    return [n]*10"
   ]
  },
  {
   "cell_type": "code",
   "execution_count": 11,
   "metadata": {},
   "outputs": [
    {
     "name": "stdout",
     "output_type": "stream",
     "text": [
      "Args: (8,)\n",
      "Kwargs {}\n",
      "Return: [8, 8, 8, 8, 8, 8, 8, 8, 8, 8]\n"
     ]
    },
    {
     "data": {
      "text/plain": [
       "[8, 8, 8, 8, 8, 8, 8, 8, 8, 8]"
      ]
     },
     "execution_count": 11,
     "metadata": {},
     "output_type": "execute_result"
    }
   ],
   "source": [
    "multi(8)"
   ]
  },
  {
   "cell_type": "code",
   "execution_count": 12,
   "metadata": {},
   "outputs": [
    {
     "name": "stdout",
     "output_type": "stream",
     "text": [
      "Args: ('hola',)\n",
      "Kwargs {}\n",
      "Return: ['hola', 'hola', 'hola', 'hola', 'hola', 'hola', 'hola', 'hola', 'hola', 'hola']\n"
     ]
    },
    {
     "data": {
      "text/plain": [
       "['hola',\n",
       " 'hola',\n",
       " 'hola',\n",
       " 'hola',\n",
       " 'hola',\n",
       " 'hola',\n",
       " 'hola',\n",
       " 'hola',\n",
       " 'hola',\n",
       " 'hola']"
      ]
     },
     "execution_count": 12,
     "metadata": {},
     "output_type": "execute_result"
    }
   ],
   "source": [
    "multi('hola')"
   ]
  },
  {
   "cell_type": "code",
   "execution_count": 13,
   "metadata": {},
   "outputs": [],
   "source": [
    "def twice(fn):\n",
    "    def wrap(*args, **kwargs):\n",
    "        return [fn(*args, **kwargs)]*2\n",
    "    return wrap"
   ]
  },
  {
   "cell_type": "code",
   "execution_count": 14,
   "metadata": {},
   "outputs": [],
   "source": [
    "@twice\n",
    "@debug\n",
    "def multi(n):\n",
    "    return [n]*10"
   ]
  },
  {
   "cell_type": "code",
   "execution_count": 15,
   "metadata": {},
   "outputs": [
    {
     "name": "stdout",
     "output_type": "stream",
     "text": [
      "Args: (8,)\n",
      "Kwargs {}\n",
      "Return: [8, 8, 8, 8, 8, 8, 8, 8, 8, 8]\n"
     ]
    },
    {
     "data": {
      "text/plain": [
       "[[8, 8, 8, 8, 8, 8, 8, 8, 8, 8], [8, 8, 8, 8, 8, 8, 8, 8, 8, 8]]"
      ]
     },
     "execution_count": 15,
     "metadata": {},
     "output_type": "execute_result"
    }
   ],
   "source": [
    "multi(8)"
   ]
  },
  {
   "cell_type": "code",
   "execution_count": 16,
   "metadata": {},
   "outputs": [
    {
     "name": "stdout",
     "output_type": "stream",
     "text": [
      "Requirement already satisfied: numba in /Users/data/Library/Python/3.7/lib/python/site-packages (0.46.0)\r\n",
      "Requirement already satisfied: llvmlite>=0.30.0dev0 in /Users/data/Library/Python/3.7/lib/python/site-packages (from numba) (0.30.0)\r\n",
      "Requirement already satisfied: numpy in /Users/data/Library/Python/3.7/lib/python/site-packages (from numba) (1.17.2)\r\n"
     ]
    }
   ],
   "source": [
    "!pip3 install numba"
   ]
  },
  {
   "cell_type": "code",
   "execution_count": 17,
   "metadata": {},
   "outputs": [],
   "source": [
    "from numba import jit"
   ]
  },
  {
   "cell_type": "code",
   "execution_count": 19,
   "metadata": {},
   "outputs": [
    {
     "name": "stdout",
     "output_type": "stream",
     "text": [
      "CPU times: user 2 µs, sys: 0 ns, total: 2 µs\n",
      "Wall time: 5.96 µs\n"
     ]
    },
    {
     "data": {
      "text/plain": [
       "771.7647058823529"
      ]
     },
     "execution_count": 19,
     "metadata": {},
     "output_type": "execute_result"
    }
   ],
   "source": [
    "%time\n",
    "\n",
    "@jit\n",
    "def fn(a,b,c,d):\n",
    "    return a*b**2/c+d\n",
    "\n",
    "fn(4,78,34,56)"
   ]
  },
  {
   "cell_type": "code",
   "execution_count": 20,
   "metadata": {},
   "outputs": [
    {
     "name": "stdout",
     "output_type": "stream",
     "text": [
      "CPU times: user 3 µs, sys: 0 ns, total: 3 µs\n",
      "Wall time: 6.2 µs\n"
     ]
    },
    {
     "data": {
      "text/plain": [
       "771.7647058823529"
      ]
     },
     "execution_count": 20,
     "metadata": {},
     "output_type": "execute_result"
    }
   ],
   "source": [
    "%time\n",
    "\n",
    "def fn(a,b,c,d):\n",
    "    return a*b**2/c+d\n",
    "\n",
    "fn(4,78,34,56)"
   ]
  },
  {
   "cell_type": "code",
   "execution_count": 26,
   "metadata": {},
   "outputs": [],
   "source": [
    "# Scripting(pipelines)\n",
    "\n",
    "import funciones"
   ]
  },
  {
   "cell_type": "code",
   "execution_count": 27,
   "metadata": {},
   "outputs": [
    {
     "name": "stdout",
     "output_type": "stream",
     "text": [
      "Help on module funciones:\n",
      "\n",
      "NAME\n",
      "    funciones\n",
      "\n",
      "FILE\n",
      "    /Users/data/Desktop/clases_datamex1019/funciones.py\n",
      "\n",
      "\n"
     ]
    }
   ],
   "source": [
    "help(funciones)"
   ]
  },
  {
   "cell_type": "code",
   "execution_count": null,
   "metadata": {},
   "outputs": [],
   "source": []
  }
 ],
 "metadata": {
  "kernelspec": {
   "display_name": "Python 3",
   "language": "python",
   "name": "python3"
  },
  "language_info": {
   "codemirror_mode": {
    "name": "ipython",
    "version": 3
   },
   "file_extension": ".py",
   "mimetype": "text/x-python",
   "name": "python",
   "nbconvert_exporter": "python",
   "pygments_lexer": "ipython3",
   "version": "3.7.4"
  }
 },
 "nbformat": 4,
 "nbformat_minor": 2
}
