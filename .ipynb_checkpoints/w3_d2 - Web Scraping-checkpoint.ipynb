{
 "cells": [
  {
   "cell_type": "code",
<<<<<<< HEAD
   "execution_count": null,
   "metadata": {},
   "outputs": [],
   "source": []
  },
  {
   "cell_type": "code",
   "execution_count": null,
   "metadata": {},
   "outputs": [],
   "source": []
  },
  {
   "cell_type": "code",
   "execution_count": null,
   "metadata": {},
   "outputs": [],
   "source": []
=======
   "execution_count": 1,
   "metadata": {},
   "outputs": [
    {
     "name": "stdout",
     "output_type": "stream",
     "text": [
      "YonatanRA 4f2d8e444491fe44e0fd3c9410f8ff970ec53e72\n"
     ]
    }
   ],
   "source": [
    "with open ('../Token.txt', 'r') as f:\n",
    "    acceso=str(f.readlines()[0]).split('=')\n",
    "    \n",
    "\n",
    "user=acceso[0].strip()\n",
    "key=acceso[1].rstrip('\\n')\n",
    "\n",
    "print (user, key)"
   ]
>>>>>>> 123921ecbe42ffab2481ace762a55fadea4ea25d
  },
  {
   "cell_type": "code",
   "execution_count": null,
   "metadata": {},
   "outputs": [],
   "source": []
  }
 ],
 "metadata": {
  "kernelspec": {
   "display_name": "Python 3",
   "language": "python",
   "name": "python3"
  },
  "language_info": {
   "codemirror_mode": {
    "name": "ipython",
    "version": 3
   },
   "file_extension": ".py",
   "mimetype": "text/x-python",
   "name": "python",
   "nbconvert_exporter": "python",
   "pygments_lexer": "ipython3",
   "version": "3.7.5"
  }
 },
 "nbformat": 4,
 "nbformat_minor": 2
}
