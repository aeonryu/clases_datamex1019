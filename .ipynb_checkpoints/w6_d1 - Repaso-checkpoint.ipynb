{
 "cells": [
  {
   "cell_type": "code",
   "execution_count": 1,
   "metadata": {},
   "outputs": [
    {
     "data": {
      "text/html": [
       "<div>\n",
       "<style scoped>\n",
       "    .dataframe tbody tr th:only-of-type {\n",
       "        vertical-align: middle;\n",
       "    }\n",
       "\n",
       "    .dataframe tbody tr th {\n",
       "        vertical-align: top;\n",
       "    }\n",
       "\n",
       "    .dataframe thead th {\n",
       "        text-align: right;\n",
       "    }\n",
       "</style>\n",
       "<table border=\"1\" class=\"dataframe\">\n",
       "  <thead>\n",
       "    <tr style=\"text-align: right;\">\n",
       "      <th></th>\n",
       "      <th>name</th>\n",
       "      <th>rounds</th>\n",
       "    </tr>\n",
       "  </thead>\n",
       "  <tbody>\n",
       "    <tr>\n",
       "      <td>0</td>\n",
       "      <td>English Premier League 2019/20</td>\n",
       "      <td>{'name': 'Matchday 1', 'matches': [{'date': '2...</td>\n",
       "    </tr>\n",
       "    <tr>\n",
       "      <td>1</td>\n",
       "      <td>English Premier League 2019/20</td>\n",
       "      <td>{'name': 'Matchday 2', 'matches': [{'date': '2...</td>\n",
       "    </tr>\n",
       "    <tr>\n",
       "      <td>2</td>\n",
       "      <td>English Premier League 2019/20</td>\n",
       "      <td>{'name': 'Matchday 3', 'matches': [{'date': '2...</td>\n",
       "    </tr>\n",
       "    <tr>\n",
       "      <td>3</td>\n",
       "      <td>English Premier League 2019/20</td>\n",
       "      <td>{'name': 'Matchday 4', 'matches': [{'date': '2...</td>\n",
       "    </tr>\n",
       "    <tr>\n",
       "      <td>4</td>\n",
       "      <td>English Premier League 2019/20</td>\n",
       "      <td>{'name': 'Matchday 5', 'matches': [{'date': '2...</td>\n",
       "    </tr>\n",
       "  </tbody>\n",
       "</table>\n",
       "</div>"
      ],
      "text/plain": [
       "                             name  \\\n",
       "0  English Premier League 2019/20   \n",
       "1  English Premier League 2019/20   \n",
       "2  English Premier League 2019/20   \n",
       "3  English Premier League 2019/20   \n",
       "4  English Premier League 2019/20   \n",
       "\n",
       "                                              rounds  \n",
       "0  {'name': 'Matchday 1', 'matches': [{'date': '2...  \n",
       "1  {'name': 'Matchday 2', 'matches': [{'date': '2...  \n",
       "2  {'name': 'Matchday 3', 'matches': [{'date': '2...  \n",
       "3  {'name': 'Matchday 4', 'matches': [{'date': '2...  \n",
       "4  {'name': 'Matchday 5', 'matches': [{'date': '2...  "
      ]
     },
     "execution_count": 1,
     "metadata": {},
     "output_type": "execute_result"
    }
   ],
   "source": [
    "# json\n",
    "\n",
    "import pandas as pd\n",
    "\n",
    "df=pd.read_json('https://raw.githubusercontent.com/openfootball/football.json/master/2019-20/en.1.json')\n",
    "df.head()"
   ]
  },
  {
   "cell_type": "code",
   "execution_count": 21,
   "metadata": {},
   "outputs": [
    {
     "data": {
      "text/html": [
       "<div>\n",
       "<style scoped>\n",
       "    .dataframe tbody tr th:only-of-type {\n",
       "        vertical-align: middle;\n",
       "    }\n",
       "\n",
       "    .dataframe tbody tr th {\n",
       "        vertical-align: top;\n",
       "    }\n",
       "\n",
       "    .dataframe thead th {\n",
       "        text-align: right;\n",
       "    }\n",
       "</style>\n",
       "<table border=\"1\" class=\"dataframe\">\n",
       "  <thead>\n",
       "    <tr style=\"text-align: right;\">\n",
       "      <th></th>\n",
       "      <th>name</th>\n",
       "      <th>matches</th>\n",
       "    </tr>\n",
       "  </thead>\n",
       "  <tbody>\n",
       "    <tr>\n",
       "      <td>0</td>\n",
       "      <td>Matchday 1</td>\n",
       "      <td>[{'date': '2019-08-09', 'team1': {'key': 'live...</td>\n",
       "    </tr>\n",
       "    <tr>\n",
       "      <td>1</td>\n",
       "      <td>Matchday 2</td>\n",
       "      <td>[{'date': '2019-08-17', 'team1': {'key': 'arse...</td>\n",
       "    </tr>\n",
       "    <tr>\n",
       "      <td>2</td>\n",
       "      <td>Matchday 3</td>\n",
       "      <td>[{'date': '2019-08-23', 'team1': {'key': 'asto...</td>\n",
       "    </tr>\n",
       "    <tr>\n",
       "      <td>3</td>\n",
       "      <td>Matchday 4</td>\n",
       "      <td>[{'date': '2019-08-31', 'team1': {'key': 'chel...</td>\n",
       "    </tr>\n",
       "    <tr>\n",
       "      <td>4</td>\n",
       "      <td>Matchday 5</td>\n",
       "      <td>[{'date': '2019-09-14', 'team1': {'key': 'live...</td>\n",
       "    </tr>\n",
       "  </tbody>\n",
       "</table>\n",
       "</div>"
      ],
      "text/plain": [
       "         name                                            matches\n",
       "0  Matchday 1  [{'date': '2019-08-09', 'team1': {'key': 'live...\n",
       "1  Matchday 2  [{'date': '2019-08-17', 'team1': {'key': 'arse...\n",
       "2  Matchday 3  [{'date': '2019-08-23', 'team1': {'key': 'asto...\n",
       "3  Matchday 4  [{'date': '2019-08-31', 'team1': {'key': 'chel...\n",
       "4  Matchday 5  [{'date': '2019-09-14', 'team1': {'key': 'live..."
      ]
     },
     "metadata": {},
     "output_type": "display_data"
    },
    {
     "data": {
      "text/plain": [
       "{'date': '2019-08-09',\n",
       " 'team1': {'key': 'liverpool', 'name': 'Liverpool FC', 'code': 'LIV'},\n",
       " 'team2': {'key': 'norwich', 'name': 'Norwich City FC', 'code': 'NOR'},\n",
       " 'score1': 4,\n",
       " 'score2': 1}"
      ]
     },
     "execution_count": 21,
     "metadata": {},
     "output_type": "execute_result"
    }
   ],
   "source": [
    "from pandas.io.json import json_normalize\n",
    "\n",
    "df2=json_normalize(df.rounds)\n",
    "display(df2.head())\n",
    "df2.matches[0][0]"
   ]
  },
  {
   "cell_type": "code",
   "execution_count": 10,
   "metadata": {},
   "outputs": [
    {
     "data": {
      "text/plain": [
       "[{'date': '2019-08-09',\n",
       "  'team1': {'key': 'liverpool', 'name': 'Liverpool FC', 'code': 'LIV'},\n",
       "  'team2': {'key': 'norwich', 'name': 'Norwich City FC', 'code': 'NOR'},\n",
       "  'score1': 4,\n",
       "  'score2': 1},\n",
       " {'date': '2019-08-10',\n",
       "  'team1': {'key': 'westham', 'name': 'West Ham United FC', 'code': 'WHU'},\n",
       "  'team2': {'key': 'mancity', 'name': 'Manchester City FC', 'code': 'MCI'},\n",
       "  'score1': 0,\n",
       "  'score2': 5},\n",
       " {'date': '2019-08-10',\n",
       "  'team1': {'key': 'crystalpalace',\n",
       "   'name': 'Crystal Palace FC',\n",
       "   'code': 'CRY'},\n",
       "  'team2': {'key': 'everton', 'name': 'Everton FC', 'code': 'EVE'},\n",
       "  'score1': 0,\n",
       "  'score2': 0},\n",
       " {'date': '2019-08-10',\n",
       "  'team1': {'key': 'watford', 'name': 'Watford FC', 'code': 'WAT'},\n",
       "  'team2': {'key': 'brightonhovealbionfc',\n",
       "   'name': 'Brighton & Hove Albion FC',\n",
       "   'code': None},\n",
       "  'score1': 0,\n",
       "  'score2': 3},\n",
       " {'date': '2019-08-10',\n",
       "  'team1': {'key': 'burnley', 'name': 'Burnley FC', 'code': 'BUR'},\n",
       "  'team2': {'key': 'southampton', 'name': 'Southampton FC', 'code': 'SOU'},\n",
       "  'score1': 3,\n",
       "  'score2': 0},\n",
       " {'date': '2019-08-10',\n",
       "  'team1': {'key': 'bournemouth', 'name': 'AFC Bournemouth', 'code': 'BOU'},\n",
       "  'team2': {'key': 'sheffieldunitedfc',\n",
       "   'name': 'Sheffield United FC',\n",
       "   'code': None},\n",
       "  'score1': 3,\n",
       "  'score2': 0},\n",
       " {'date': '2019-08-10',\n",
       "  'team1': {'key': 'tottenham', 'name': 'Tottenham Hotspur FC', 'code': 'TOT'},\n",
       "  'team2': {'key': 'astonvilla', 'name': 'Aston Villa FC', 'code': 'AVL'},\n",
       "  'score1': 3,\n",
       "  'score2': 1},\n",
       " {'date': '2019-08-11',\n",
       "  'team1': {'key': 'newcastle', 'name': 'Newcastle United FC', 'code': 'NEW'},\n",
       "  'team2': {'key': 'arsenal', 'name': 'Arsenal FC', 'code': 'ARS'},\n",
       "  'score1': 0,\n",
       "  'score2': 1},\n",
       " {'date': '2019-08-11',\n",
       "  'team1': {'key': 'manutd', 'name': 'Manchester United FC', 'code': 'MUN'},\n",
       "  'team2': {'key': 'chelsea', 'name': 'Chelsea FC', 'code': 'CHE'},\n",
       "  'score1': 4,\n",
       "  'score2': 0},\n",
       " {'date': '2019-08-11',\n",
       "  'team1': {'key': 'leicester', 'name': 'Leicester City FC', 'code': 'LEI'},\n",
       "  'team2': {'key': 'wolverhamptonwanderersfc',\n",
       "   'name': 'Wolverhampton Wanderers FC',\n",
       "   'code': None},\n",
       "  'score1': 0,\n",
       "  'score2': 0}]"
      ]
     },
     "execution_count": 10,
     "metadata": {},
     "output_type": "execute_result"
    }
   ],
   "source": [
    "df2.matches[0]"
   ]
  },
  {
   "cell_type": "code",
   "execution_count": 19,
   "metadata": {},
   "outputs": [],
   "source": [
    "def nor_json(lst):\n",
    "    n_df=pd.DataFrame(columns=lst[0].keys())\n",
    "    for e in lst:\n",
    "        n_df=n_df.append(e, ignore_index=True)\n",
    "    return n_df\n",
    "            "
   ]
  },
  {
   "cell_type": "code",
   "execution_count": 23,
   "metadata": {},
   "outputs": [
    {
     "data": {
      "text/html": [
       "<div>\n",
       "<style scoped>\n",
       "    .dataframe tbody tr th:only-of-type {\n",
       "        vertical-align: middle;\n",
       "    }\n",
       "\n",
       "    .dataframe tbody tr th {\n",
       "        vertical-align: top;\n",
       "    }\n",
       "\n",
       "    .dataframe thead th {\n",
       "        text-align: right;\n",
       "    }\n",
       "</style>\n",
       "<table border=\"1\" class=\"dataframe\">\n",
       "  <thead>\n",
       "    <tr style=\"text-align: right;\">\n",
       "      <th></th>\n",
       "      <th>key</th>\n",
       "      <th>name</th>\n",
       "      <th>code</th>\n",
       "    </tr>\n",
       "  </thead>\n",
       "  <tbody>\n",
       "    <tr>\n",
       "      <td>0</td>\n",
       "      <td>liverpool</td>\n",
       "      <td>Liverpool FC</td>\n",
       "      <td>LIV</td>\n",
       "    </tr>\n",
       "    <tr>\n",
       "      <td>1</td>\n",
       "      <td>westham</td>\n",
       "      <td>West Ham United FC</td>\n",
       "      <td>WHU</td>\n",
       "    </tr>\n",
       "    <tr>\n",
       "      <td>2</td>\n",
       "      <td>crystalpalace</td>\n",
       "      <td>Crystal Palace FC</td>\n",
       "      <td>CRY</td>\n",
       "    </tr>\n",
       "    <tr>\n",
       "      <td>3</td>\n",
       "      <td>watford</td>\n",
       "      <td>Watford FC</td>\n",
       "      <td>WAT</td>\n",
       "    </tr>\n",
       "    <tr>\n",
       "      <td>4</td>\n",
       "      <td>burnley</td>\n",
       "      <td>Burnley FC</td>\n",
       "      <td>BUR</td>\n",
       "    </tr>\n",
       "    <tr>\n",
       "      <td>5</td>\n",
       "      <td>bournemouth</td>\n",
       "      <td>AFC Bournemouth</td>\n",
       "      <td>BOU</td>\n",
       "    </tr>\n",
       "    <tr>\n",
       "      <td>6</td>\n",
       "      <td>tottenham</td>\n",
       "      <td>Tottenham Hotspur FC</td>\n",
       "      <td>TOT</td>\n",
       "    </tr>\n",
       "    <tr>\n",
       "      <td>7</td>\n",
       "      <td>newcastle</td>\n",
       "      <td>Newcastle United FC</td>\n",
       "      <td>NEW</td>\n",
       "    </tr>\n",
       "    <tr>\n",
       "      <td>8</td>\n",
       "      <td>manutd</td>\n",
       "      <td>Manchester United FC</td>\n",
       "      <td>MUN</td>\n",
       "    </tr>\n",
       "    <tr>\n",
       "      <td>9</td>\n",
       "      <td>leicester</td>\n",
       "      <td>Leicester City FC</td>\n",
       "      <td>LEI</td>\n",
       "    </tr>\n",
       "  </tbody>\n",
       "</table>\n",
       "</div>"
      ],
      "text/plain": [
       "             key                  name code\n",
       "0      liverpool          Liverpool FC  LIV\n",
       "1        westham    West Ham United FC  WHU\n",
       "2  crystalpalace     Crystal Palace FC  CRY\n",
       "3        watford            Watford FC  WAT\n",
       "4        burnley            Burnley FC  BUR\n",
       "5    bournemouth       AFC Bournemouth  BOU\n",
       "6      tottenham  Tottenham Hotspur FC  TOT\n",
       "7      newcastle   Newcastle United FC  NEW\n",
       "8         manutd  Manchester United FC  MUN\n",
       "9      leicester     Leicester City FC  LEI"
      ]
     },
     "execution_count": 23,
     "metadata": {},
     "output_type": "execute_result"
    }
   ],
   "source": [
    "nor_json(nor_json(df2.matches[0]).team1)"
   ]
  },
  {
   "cell_type": "code",
   "execution_count": 10,
   "metadata": {},
   "outputs": [],
   "source": [
    "# lst, dicts\n",
    "\n",
    "lst=[1,2,33,4,54,5,65,6]\n",
    "\n",
    "def hola(*lst):\n",
    "    return sum(*lst)"
   ]
  },
  {
   "cell_type": "code",
   "execution_count": 11,
   "metadata": {},
   "outputs": [
    {
     "data": {
      "text/plain": [
       "170"
      ]
     },
     "execution_count": 11,
     "metadata": {},
     "output_type": "execute_result"
    }
   ],
   "source": [
    "hola(lst)"
   ]
  },
  {
   "cell_type": "code",
   "execution_count": 19,
   "metadata": {},
   "outputs": [
    {
     "name": "stdout",
     "output_type": "stream",
     "text": [
      "dict_keys(['a', 'b'])\n"
     ]
    }
   ],
   "source": [
    "d={'a':1, 'b':2}\n",
    "\n",
    "def hola2(**kw):\n",
    "    print(kw.keys())\n",
    "\n",
    "hola2(**d)"
   ]
  },
  {
   "cell_type": "code",
   "execution_count": null,
   "metadata": {},
   "outputs": [],
   "source": []
  },
  {
   "cell_type": "code",
   "execution_count": null,
   "metadata": {},
   "outputs": [],
   "source": []
  },
  {
   "cell_type": "code",
   "execution_count": null,
   "metadata": {},
   "outputs": [],
   "source": []
  },
  {
   "cell_type": "code",
   "execution_count": null,
   "metadata": {},
   "outputs": [],
   "source": []
  },
  {
   "cell_type": "code",
   "execution_count": null,
   "metadata": {},
   "outputs": [],
   "source": []
  },
  {
   "cell_type": "code",
   "execution_count": null,
   "metadata": {},
   "outputs": [],
   "source": []
  },
  {
   "cell_type": "code",
   "execution_count": null,
   "metadata": {},
   "outputs": [],
   "source": []
  },
  {
   "cell_type": "code",
   "execution_count": null,
   "metadata": {},
   "outputs": [],
   "source": []
  },
  {
   "cell_type": "code",
   "execution_count": null,
   "metadata": {},
   "outputs": [],
   "source": []
  }
 ],
 "metadata": {
  "kernelspec": {
   "display_name": "Python 3",
   "language": "python",
   "name": "python3"
  },
  "language_info": {
   "codemirror_mode": {
    "name": "ipython",
    "version": 3
   },
   "file_extension": ".py",
   "mimetype": "text/x-python",
   "name": "python",
   "nbconvert_exporter": "python",
   "pygments_lexer": "ipython3",
   "version": "3.7.5"
  }
 },
 "nbformat": 4,
 "nbformat_minor": 2
}
