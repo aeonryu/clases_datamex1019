{
 "cells": [
  {
   "cell_type": "code",
   "execution_count": 1,
   "metadata": {},
   "outputs": [],
   "source": [
    "# PCA (Analisis de componente principal)\n",
    "\n",
    "import pandas as pd\n",
    "import numpy as np\n",
    "from sklearn.preprocessing import StandardScaler, MinMaxScaler\n",
    "from sklearn.decomposition import PCA"
   ]
  },
  {
   "cell_type": "code",
   "execution_count": 3,
   "metadata": {},
   "outputs": [
    {
     "data": {
      "text/html": [
       "<div>\n",
       "<style scoped>\n",
       "    .dataframe tbody tr th:only-of-type {\n",
       "        vertical-align: middle;\n",
       "    }\n",
       "\n",
       "    .dataframe tbody tr th {\n",
       "        vertical-align: top;\n",
       "    }\n",
       "\n",
       "    .dataframe thead th {\n",
       "        text-align: right;\n",
       "    }\n",
       "</style>\n",
       "<table border=\"1\" class=\"dataframe\">\n",
       "  <thead>\n",
       "    <tr style=\"text-align: right;\">\n",
       "      <th></th>\n",
       "      <th>Mean of the integrated profile</th>\n",
       "      <th>Standard deviation of the integrated profile</th>\n",
       "      <th>Excess kurtosis of the integrated profile</th>\n",
       "      <th>Skewness of the integrated profile</th>\n",
       "      <th>Mean of the DM-SNR curve</th>\n",
       "      <th>Standard deviation of the DM-SNR curve</th>\n",
       "      <th>Excess kurtosis of the DM-SNR curve</th>\n",
       "      <th>Skewness of the DM-SNR curve</th>\n",
       "      <th>target_class</th>\n",
       "    </tr>\n",
       "  </thead>\n",
       "  <tbody>\n",
       "    <tr>\n",
       "      <td>0</td>\n",
       "      <td>140.562500</td>\n",
       "      <td>55.683782</td>\n",
       "      <td>-0.234571</td>\n",
       "      <td>-0.699648</td>\n",
       "      <td>3.199833</td>\n",
       "      <td>19.110426</td>\n",
       "      <td>7.975532</td>\n",
       "      <td>74.242225</td>\n",
       "      <td>0</td>\n",
       "    </tr>\n",
       "    <tr>\n",
       "      <td>1</td>\n",
       "      <td>102.507812</td>\n",
       "      <td>58.882430</td>\n",
       "      <td>0.465318</td>\n",
       "      <td>-0.515088</td>\n",
       "      <td>1.677258</td>\n",
       "      <td>14.860146</td>\n",
       "      <td>10.576487</td>\n",
       "      <td>127.393580</td>\n",
       "      <td>0</td>\n",
       "    </tr>\n",
       "    <tr>\n",
       "      <td>2</td>\n",
       "      <td>103.015625</td>\n",
       "      <td>39.341649</td>\n",
       "      <td>0.323328</td>\n",
       "      <td>1.051164</td>\n",
       "      <td>3.121237</td>\n",
       "      <td>21.744669</td>\n",
       "      <td>7.735822</td>\n",
       "      <td>63.171909</td>\n",
       "      <td>0</td>\n",
       "    </tr>\n",
       "    <tr>\n",
       "      <td>3</td>\n",
       "      <td>136.750000</td>\n",
       "      <td>57.178449</td>\n",
       "      <td>-0.068415</td>\n",
       "      <td>-0.636238</td>\n",
       "      <td>3.642977</td>\n",
       "      <td>20.959280</td>\n",
       "      <td>6.896499</td>\n",
       "      <td>53.593661</td>\n",
       "      <td>0</td>\n",
       "    </tr>\n",
       "    <tr>\n",
       "      <td>4</td>\n",
       "      <td>88.726562</td>\n",
       "      <td>40.672225</td>\n",
       "      <td>0.600866</td>\n",
       "      <td>1.123492</td>\n",
       "      <td>1.178930</td>\n",
       "      <td>11.468720</td>\n",
       "      <td>14.269573</td>\n",
       "      <td>252.567306</td>\n",
       "      <td>0</td>\n",
       "    </tr>\n",
       "  </tbody>\n",
       "</table>\n",
       "</div>"
      ],
      "text/plain": [
       "    Mean of the integrated profile  \\\n",
       "0                       140.562500   \n",
       "1                       102.507812   \n",
       "2                       103.015625   \n",
       "3                       136.750000   \n",
       "4                        88.726562   \n",
       "\n",
       "    Standard deviation of the integrated profile  \\\n",
       "0                                      55.683782   \n",
       "1                                      58.882430   \n",
       "2                                      39.341649   \n",
       "3                                      57.178449   \n",
       "4                                      40.672225   \n",
       "\n",
       "    Excess kurtosis of the integrated profile  \\\n",
       "0                                   -0.234571   \n",
       "1                                    0.465318   \n",
       "2                                    0.323328   \n",
       "3                                   -0.068415   \n",
       "4                                    0.600866   \n",
       "\n",
       "    Skewness of the integrated profile   Mean of the DM-SNR curve  \\\n",
       "0                            -0.699648                   3.199833   \n",
       "1                            -0.515088                   1.677258   \n",
       "2                             1.051164                   3.121237   \n",
       "3                            -0.636238                   3.642977   \n",
       "4                             1.123492                   1.178930   \n",
       "\n",
       "    Standard deviation of the DM-SNR curve  \\\n",
       "0                                19.110426   \n",
       "1                                14.860146   \n",
       "2                                21.744669   \n",
       "3                                20.959280   \n",
       "4                                11.468720   \n",
       "\n",
       "    Excess kurtosis of the DM-SNR curve   Skewness of the DM-SNR curve  \\\n",
       "0                              7.975532                      74.242225   \n",
       "1                             10.576487                     127.393580   \n",
       "2                              7.735822                      63.171909   \n",
       "3                              6.896499                      53.593661   \n",
       "4                             14.269573                     252.567306   \n",
       "\n",
       "   target_class  \n",
       "0             0  \n",
       "1             0  \n",
       "2             0  \n",
       "3             0  \n",
       "4             0  "
      ]
     },
     "execution_count": 3,
     "metadata": {},
     "output_type": "execute_result"
    }
   ],
   "source": [
    "data=pd.read_csv('data/pulsar_stars.csv')\n",
    "data.head()"
   ]
  },
  {
   "cell_type": "code",
   "execution_count": 5,
   "metadata": {},
   "outputs": [
    {
     "data": {
      "text/html": [
       "<div>\n",
       "<style scoped>\n",
       "    .dataframe tbody tr th:only-of-type {\n",
       "        vertical-align: middle;\n",
       "    }\n",
       "\n",
       "    .dataframe tbody tr th {\n",
       "        vertical-align: top;\n",
       "    }\n",
       "\n",
       "    .dataframe thead th {\n",
       "        text-align: right;\n",
       "    }\n",
       "</style>\n",
       "<table border=\"1\" class=\"dataframe\">\n",
       "  <thead>\n",
       "    <tr style=\"text-align: right;\">\n",
       "      <th></th>\n",
       "      <th>Mean of the integrated profile</th>\n",
       "      <th>Standard deviation of the integrated profile</th>\n",
       "      <th>Excess kurtosis of the integrated profile</th>\n",
       "      <th>Skewness of the integrated profile</th>\n",
       "      <th>Mean of the DM-SNR curve</th>\n",
       "      <th>Standard deviation of the DM-SNR curve</th>\n",
       "      <th>Excess kurtosis of the DM-SNR curve</th>\n",
       "      <th>Skewness of the DM-SNR curve</th>\n",
       "    </tr>\n",
       "  </thead>\n",
       "  <tbody>\n",
       "    <tr>\n",
       "      <td>0</td>\n",
       "      <td>140.562500</td>\n",
       "      <td>55.683782</td>\n",
       "      <td>-0.234571</td>\n",
       "      <td>-0.699648</td>\n",
       "      <td>3.199833</td>\n",
       "      <td>19.110426</td>\n",
       "      <td>7.975532</td>\n",
       "      <td>74.242225</td>\n",
       "    </tr>\n",
       "    <tr>\n",
       "      <td>1</td>\n",
       "      <td>102.507812</td>\n",
       "      <td>58.882430</td>\n",
       "      <td>0.465318</td>\n",
       "      <td>-0.515088</td>\n",
       "      <td>1.677258</td>\n",
       "      <td>14.860146</td>\n",
       "      <td>10.576487</td>\n",
       "      <td>127.393580</td>\n",
       "    </tr>\n",
       "    <tr>\n",
       "      <td>2</td>\n",
       "      <td>103.015625</td>\n",
       "      <td>39.341649</td>\n",
       "      <td>0.323328</td>\n",
       "      <td>1.051164</td>\n",
       "      <td>3.121237</td>\n",
       "      <td>21.744669</td>\n",
       "      <td>7.735822</td>\n",
       "      <td>63.171909</td>\n",
       "    </tr>\n",
       "    <tr>\n",
       "      <td>3</td>\n",
       "      <td>136.750000</td>\n",
       "      <td>57.178449</td>\n",
       "      <td>-0.068415</td>\n",
       "      <td>-0.636238</td>\n",
       "      <td>3.642977</td>\n",
       "      <td>20.959280</td>\n",
       "      <td>6.896499</td>\n",
       "      <td>53.593661</td>\n",
       "    </tr>\n",
       "    <tr>\n",
       "      <td>4</td>\n",
       "      <td>88.726562</td>\n",
       "      <td>40.672225</td>\n",
       "      <td>0.600866</td>\n",
       "      <td>1.123492</td>\n",
       "      <td>1.178930</td>\n",
       "      <td>11.468720</td>\n",
       "      <td>14.269573</td>\n",
       "      <td>252.567306</td>\n",
       "    </tr>\n",
       "  </tbody>\n",
       "</table>\n",
       "</div>"
      ],
      "text/plain": [
       "    Mean of the integrated profile  \\\n",
       "0                       140.562500   \n",
       "1                       102.507812   \n",
       "2                       103.015625   \n",
       "3                       136.750000   \n",
       "4                        88.726562   \n",
       "\n",
       "    Standard deviation of the integrated profile  \\\n",
       "0                                      55.683782   \n",
       "1                                      58.882430   \n",
       "2                                      39.341649   \n",
       "3                                      57.178449   \n",
       "4                                      40.672225   \n",
       "\n",
       "    Excess kurtosis of the integrated profile  \\\n",
       "0                                   -0.234571   \n",
       "1                                    0.465318   \n",
       "2                                    0.323328   \n",
       "3                                   -0.068415   \n",
       "4                                    0.600866   \n",
       "\n",
       "    Skewness of the integrated profile   Mean of the DM-SNR curve  \\\n",
       "0                            -0.699648                   3.199833   \n",
       "1                            -0.515088                   1.677258   \n",
       "2                             1.051164                   3.121237   \n",
       "3                            -0.636238                   3.642977   \n",
       "4                             1.123492                   1.178930   \n",
       "\n",
       "    Standard deviation of the DM-SNR curve  \\\n",
       "0                                19.110426   \n",
       "1                                14.860146   \n",
       "2                                21.744669   \n",
       "3                                20.959280   \n",
       "4                                11.468720   \n",
       "\n",
       "    Excess kurtosis of the DM-SNR curve   Skewness of the DM-SNR curve  \n",
       "0                              7.975532                      74.242225  \n",
       "1                             10.576487                     127.393580  \n",
       "2                              7.735822                      63.171909  \n",
       "3                              6.896499                      53.593661  \n",
       "4                             14.269573                     252.567306  "
      ]
     },
     "execution_count": 5,
     "metadata": {},
     "output_type": "execute_result"
    }
   ],
   "source": [
    "data=data[[e for e in data.columns if e!= 'target_class']]\n",
    "data.head()"
   ]
  },
  {
   "cell_type": "code",
   "execution_count": 7,
   "metadata": {},
   "outputs": [
    {
     "data": {
      "text/plain": [
       " Mean of the integrated profile                  0.000000e+00\n",
       " Standard deviation of the integrated profile    1.115067e-10\n",
       " Excess kurtosis of the integrated profile       3.456999e-11\n",
       " Skewness of the integrated profile              7.172045e-12\n",
       " Mean of the DM-SNR curve                       -1.174245e-11\n",
       " Standard deviation of the DM-SNR curve          9.144349e-11\n",
       " Excess kurtosis of the DM-SNR curve            -2.822222e-11\n",
       " Skewness of the DM-SNR curve                   -1.180685e-11\n",
       "dtype: float64"
      ]
     },
     "execution_count": 7,
     "metadata": {},
     "output_type": "execute_result"
    }
   ],
   "source": [
    "# normalizacion\n",
    "\n",
    "data_rescaled_mano=(data-np.mean(data))/np.std(data)\n",
    "data_rescaled=StandardScaler().fit_transform(data)\n",
    "\n",
    "np.sum(data_rescaled-data_rescaled_mano)"
   ]
  },
  {
   "cell_type": "code",
   "execution_count": 8,
   "metadata": {},
   "outputs": [
    {
     "data": {
      "text/plain": [
       " Mean of the integrated profile                 -1.568736e-13\n",
       " Standard deviation of the integrated profile   -5.605374e-14\n",
       " Excess kurtosis of the integrated profile      -1.882314e-13\n",
       " Skewness of the integrated profile             -2.829209e-14\n",
       " Mean of the DM-SNR curve                       -1.212409e-13\n",
       " Standard deviation of the DM-SNR curve         -4.598752e-14\n",
       " Excess kurtosis of the DM-SNR curve             2.881462e-13\n",
       " Skewness of the DM-SNR curve                   -6.918713e-14\n",
       "dtype: float64"
      ]
     },
     "execution_count": 8,
     "metadata": {},
     "output_type": "execute_result"
    }
   ],
   "source": [
    "data_rescaled_mano=(data-np.min(data))/(np.max(data)-np.min(data))\n",
    "data_rescaled=MinMaxScaler().fit_transform(data)\n",
    "\n",
    "np.sum(data_rescaled-data_rescaled_mano)"
   ]
  },
  {
   "cell_type": "code",
   "execution_count": 9,
   "metadata": {},
   "outputs": [],
   "source": [
    "data_rescaled=StandardScaler().fit_transform(data)"
   ]
  },
  {
   "cell_type": "code",
   "execution_count": 13,
   "metadata": {},
   "outputs": [
    {
     "data": {
      "text/plain": [
       "array([0.51675584, 0.26807564, 0.10116862, 0.0571781 , 0.03227836,\n",
       "       0.01998491, 0.00255524, 0.00200328])"
      ]
     },
     "execution_count": 13,
     "metadata": {},
     "output_type": "execute_result"
    }
   ],
   "source": [
    "pca=PCA()\n",
    "pca.fit(data_rescaled)\n",
    "pca.explained_variance_ratio_"
   ]
  },
  {
   "cell_type": "code",
   "execution_count": 11,
   "metadata": {},
   "outputs": [
    {
     "data": {
      "image/png": "[encoded data removed]",
      "text/plain": [
       "<Figure size 720x576 with 1 Axes>"
      ]
     },
     "metadata": {
      "needs_background": "light"
     },
     "output_type": "display_data"
    }
   ],
   "source": [
    "import matplotlib.pyplot as plt\n",
    "%matplotlib inline\n",
    "plt.figure(figsize=(10,8))\n",
    "plt.plot(np.cumsum(pca.explained_variance_ratio_))\n",
    "plt.xlabel('Numero de componentes')\n",
    "plt.ylabel('% de varianza')\n",
    "plt.ylim([0,1])\n",
    "plt.show();"
   ]
  },
  {
   "cell_type": "code",
   "execution_count": 23,
   "metadata": {},
   "outputs": [
    {
     "data": {
      "text/html": [
       "<div>\n",
       "<style scoped>\n",
       "    .dataframe tbody tr th:only-of-type {\n",
       "        vertical-align: middle;\n",
       "    }\n",
       "\n",
       "    .dataframe tbody tr th {\n",
       "        vertical-align: top;\n",
       "    }\n",
       "\n",
       "    .dataframe thead th {\n",
       "        text-align: right;\n",
       "    }\n",
       "</style>\n",
       "<table border=\"1\" class=\"dataframe\">\n",
       "  <thead>\n",
       "    <tr style=\"text-align: right;\">\n",
       "      <th></th>\n",
       "      <th>0</th>\n",
       "      <th>1</th>\n",
       "      <th>2</th>\n",
       "      <th>3</th>\n",
       "      <th>4</th>\n",
       "    </tr>\n",
       "  </thead>\n",
       "  <tbody>\n",
       "    <tr>\n",
       "      <td>0</td>\n",
       "      <td>-1.278849</td>\n",
       "      <td>-1.273133</td>\n",
       "      <td>0.016213</td>\n",
       "      <td>0.662102</td>\n",
       "      <td>0.577362</td>\n",
       "    </tr>\n",
       "    <tr>\n",
       "      <td>1</td>\n",
       "      <td>-1.020553</td>\n",
       "      <td>-0.201162</td>\n",
       "      <td>0.670478</td>\n",
       "      <td>1.605779</td>\n",
       "      <td>-0.390326</td>\n",
       "    </tr>\n",
       "    <tr>\n",
       "      <td>2</td>\n",
       "      <td>0.188289</td>\n",
       "      <td>0.432114</td>\n",
       "      <td>-0.979766</td>\n",
       "      <td>-0.519232</td>\n",
       "      <td>-0.305346</td>\n",
       "    </tr>\n",
       "    <tr>\n",
       "      <td>3</td>\n",
       "      <td>-1.015466</td>\n",
       "      <td>-1.469881</td>\n",
       "      <td>-0.018832</td>\n",
       "      <td>0.938386</td>\n",
       "      <td>0.495189</td>\n",
       "    </tr>\n",
       "    <tr>\n",
       "      <td>4</td>\n",
       "      <td>-0.822626</td>\n",
       "      <td>2.123651</td>\n",
       "      <td>0.407953</td>\n",
       "      <td>-0.380922</td>\n",
       "      <td>-0.654083</td>\n",
       "    </tr>\n",
       "  </tbody>\n",
       "</table>\n",
       "</div>"
      ],
      "text/plain": [
       "          0         1         2         3         4\n",
       "0 -1.278849 -1.273133  0.016213  0.662102  0.577362\n",
       "1 -1.020553 -0.201162  0.670478  1.605779 -0.390326\n",
       "2  0.188289  0.432114 -0.979766 -0.519232 -0.305346\n",
       "3 -1.015466 -1.469881 -0.018832  0.938386  0.495189\n",
       "4 -0.822626  2.123651  0.407953 -0.380922 -0.654083"
      ]
     },
     "execution_count": 23,
     "metadata": {},
     "output_type": "execute_result"
    }
   ],
   "source": [
    "pca=PCA(n_components=5)\n",
    "df=pd.DataFrame(pca.fit_transform(data_rescaled))\n",
    "df.head()"
   ]
  },
  {
   "cell_type": "code",
   "execution_count": 24,
   "metadata": {},
   "outputs": [
    {
     "data": {
      "text/html": [
       "<div>\n",
       "<style scoped>\n",
       "    .dataframe tbody tr th:only-of-type {\n",
       "        vertical-align: middle;\n",
       "    }\n",
       "\n",
       "    .dataframe tbody tr th {\n",
       "        vertical-align: top;\n",
       "    }\n",
       "\n",
       "    .dataframe thead th {\n",
       "        text-align: right;\n",
       "    }\n",
       "</style>\n",
       "<table border=\"1\" class=\"dataframe\">\n",
       "  <thead>\n",
       "    <tr style=\"text-align: right;\">\n",
       "      <th></th>\n",
       "      <th>0</th>\n",
       "      <th>1</th>\n",
       "      <th>2</th>\n",
       "      <th>3</th>\n",
       "      <th>4</th>\n",
       "      <th>5</th>\n",
       "      <th>6</th>\n",
       "      <th>7</th>\n",
       "    </tr>\n",
       "  </thead>\n",
       "  <tbody>\n",
       "    <tr>\n",
       "      <td>0</td>\n",
       "      <td>1.149317</td>\n",
       "      <td>1.334832</td>\n",
       "      <td>-0.669570</td>\n",
       "      <td>-0.400459</td>\n",
       "      <td>-0.319440</td>\n",
       "      <td>-0.370625</td>\n",
       "      <td>-0.072798</td>\n",
       "      <td>-0.287438</td>\n",
       "    </tr>\n",
       "    <tr>\n",
       "      <td>1</td>\n",
       "      <td>-0.334168</td>\n",
       "      <td>1.802265</td>\n",
       "      <td>-0.011785</td>\n",
       "      <td>-0.370535</td>\n",
       "      <td>-0.371102</td>\n",
       "      <td>-0.588924</td>\n",
       "      <td>0.504427</td>\n",
       "      <td>0.211581</td>\n",
       "    </tr>\n",
       "    <tr>\n",
       "      <td>2</td>\n",
       "      <td>-0.314372</td>\n",
       "      <td>-1.053322</td>\n",
       "      <td>-0.145233</td>\n",
       "      <td>-0.116593</td>\n",
       "      <td>-0.322107</td>\n",
       "      <td>-0.235328</td>\n",
       "      <td>-0.125996</td>\n",
       "      <td>-0.391373</td>\n",
       "    </tr>\n",
       "    <tr>\n",
       "      <td>3</td>\n",
       "      <td>1.000694</td>\n",
       "      <td>1.553254</td>\n",
       "      <td>-0.513409</td>\n",
       "      <td>-0.390178</td>\n",
       "      <td>-0.304404</td>\n",
       "      <td>-0.275666</td>\n",
       "      <td>-0.312265</td>\n",
       "      <td>-0.481300</td>\n",
       "    </tr>\n",
       "    <tr>\n",
       "      <td>4</td>\n",
       "      <td>-0.871402</td>\n",
       "      <td>-0.858879</td>\n",
       "      <td>0.115609</td>\n",
       "      <td>-0.104866</td>\n",
       "      <td>-0.388010</td>\n",
       "      <td>-0.763111</td>\n",
       "      <td>1.324026</td>\n",
       "      <td>1.386794</td>\n",
       "    </tr>\n",
       "  </tbody>\n",
       "</table>\n",
       "</div>"
      ],
      "text/plain": [
       "          0         1         2         3         4         5         6  \\\n",
       "0  1.149317  1.334832 -0.669570 -0.400459 -0.319440 -0.370625 -0.072798   \n",
       "1 -0.334168  1.802265 -0.011785 -0.370535 -0.371102 -0.588924  0.504427   \n",
       "2 -0.314372 -1.053322 -0.145233 -0.116593 -0.322107 -0.235328 -0.125996   \n",
       "3  1.000694  1.553254 -0.513409 -0.390178 -0.304404 -0.275666 -0.312265   \n",
       "4 -0.871402 -0.858879  0.115609 -0.104866 -0.388010 -0.763111  1.324026   \n",
       "\n",
       "          7  \n",
       "0 -0.287438  \n",
       "1  0.211581  \n",
       "2 -0.391373  \n",
       "3 -0.481300  \n",
       "4  1.386794  "
      ]
     },
     "execution_count": 24,
     "metadata": {},
     "output_type": "execute_result"
    }
   ],
   "source": [
    "pd.DataFrame(data_rescaled).head()"
   ]
  },
  {
   "cell_type": "code",
   "execution_count": 25,
   "metadata": {},
   "outputs": [
    {
     "data": {
      "text/html": [
       "<div>\n",
       "<style scoped>\n",
       "    .dataframe tbody tr th:only-of-type {\n",
       "        vertical-align: middle;\n",
       "    }\n",
       "\n",
       "    .dataframe tbody tr th {\n",
       "        vertical-align: top;\n",
       "    }\n",
       "\n",
       "    .dataframe thead th {\n",
       "        text-align: right;\n",
       "    }\n",
       "</style>\n",
       "<table border=\"1\" class=\"dataframe\">\n",
       "  <thead>\n",
       "    <tr style=\"text-align: right;\">\n",
       "      <th></th>\n",
       "      <th>0</th>\n",
       "      <th>1</th>\n",
       "      <th>2</th>\n",
       "      <th>3</th>\n",
       "      <th>4</th>\n",
       "      <th>5</th>\n",
       "      <th>6</th>\n",
       "      <th>7</th>\n",
       "    </tr>\n",
       "  </thead>\n",
       "  <tbody>\n",
       "    <tr>\n",
       "      <td>0</td>\n",
       "      <td>1.156722</td>\n",
       "      <td>1.338373</td>\n",
       "      <td>-0.650692</td>\n",
       "      <td>-0.411991</td>\n",
       "      <td>-0.379564</td>\n",
       "      <td>-0.295096</td>\n",
       "      <td>-0.068565</td>\n",
       "      <td>-0.264716</td>\n",
       "    </tr>\n",
       "    <tr>\n",
       "      <td>1</td>\n",
       "      <td>-0.328871</td>\n",
       "      <td>1.803710</td>\n",
       "      <td>0.002397</td>\n",
       "      <td>-0.380840</td>\n",
       "      <td>-0.425600</td>\n",
       "      <td>-0.561543</td>\n",
       "      <td>0.416077</td>\n",
       "      <td>0.293707</td>\n",
       "    </tr>\n",
       "    <tr>\n",
       "      <td>2</td>\n",
       "      <td>-0.286647</td>\n",
       "      <td>-1.052225</td>\n",
       "      <td>-0.076029</td>\n",
       "      <td>-0.162948</td>\n",
       "      <td>-0.405896</td>\n",
       "      <td>-0.139841</td>\n",
       "      <td>-0.141241</td>\n",
       "      <td>-0.344996</td>\n",
       "    </tr>\n",
       "    <tr>\n",
       "      <td>3</td>\n",
       "      <td>0.991747</td>\n",
       "      <td>1.559323</td>\n",
       "      <td>-0.535180</td>\n",
       "      <td>-0.373068</td>\n",
       "      <td>-0.345561</td>\n",
       "      <td>-0.204928</td>\n",
       "      <td>-0.267297</td>\n",
       "      <td>-0.494321</td>\n",
       "    </tr>\n",
       "    <tr>\n",
       "      <td>4</td>\n",
       "      <td>-0.853596</td>\n",
       "      <td>-0.861573</td>\n",
       "      <td>0.159683</td>\n",
       "      <td>-0.135614</td>\n",
       "      <td>-0.403524</td>\n",
       "      <td>-0.754626</td>\n",
       "      <td>1.301144</td>\n",
       "      <td>1.409208</td>\n",
       "    </tr>\n",
       "  </tbody>\n",
       "</table>\n",
       "</div>"
      ],
      "text/plain": [
       "          0         1         2         3         4         5         6  \\\n",
       "0  1.156722  1.338373 -0.650692 -0.411991 -0.379564 -0.295096 -0.068565   \n",
       "1 -0.328871  1.803710  0.002397 -0.380840 -0.425600 -0.561543  0.416077   \n",
       "2 -0.286647 -1.052225 -0.076029 -0.162948 -0.405896 -0.139841 -0.141241   \n",
       "3  0.991747  1.559323 -0.535180 -0.373068 -0.345561 -0.204928 -0.267297   \n",
       "4 -0.853596 -0.861573  0.159683 -0.135614 -0.403524 -0.754626  1.301144   \n",
       "\n",
       "          7  \n",
       "0 -0.264716  \n",
       "1  0.293707  \n",
       "2 -0.344996  \n",
       "3 -0.494321  \n",
       "4  1.409208  "
      ]
     },
     "execution_count": 25,
     "metadata": {},
     "output_type": "execute_result"
    }
   ],
   "source": [
    "pd.DataFrame(pca.inverse_transform(df)).head()"
   ]
  },
  {
   "cell_type": "code",
   "execution_count": 26,
   "metadata": {},
   "outputs": [],
   "source": [
    "# ICA (Analisis de componente independiente)\n",
    "\n",
    "# Problema de la fiesta\n",
    "\n",
    "from scipy import signal\n",
    "from sklearn.decomposition import FastICA"
   ]
  },
  {
   "cell_type": "code",
   "execution_count": 27,
   "metadata": {},
   "outputs": [],
   "source": [
    "time=np.linspace(0,8, 2000)\n",
    "\n",
    "s1=np.sin(2*time)  # señal 1 - seno\n",
    "s2=np.sign(np.sin(3*time)) # señal 2 - onda cuadrada\n",
    "s3=signal.sawtooth(2*np.pi*time) # señal 3 - dientes de sierra"
   ]
  },
  {
   "cell_type": "code",
   "execution_count": 39,
   "metadata": {},
   "outputs": [],
   "source": [
    "S=np.c_[s1,s2,s3]\n",
    "#S+=0.2*np.random.normal(size=S.shape)\n",
    "#S/=S.std(axis=0)"
   ]
  },
  {
   "cell_type": "code",
   "execution_count": 40,
   "metadata": {},
   "outputs": [],
   "source": [
    "A=np.array([[1,1,1], [0.5, 2, 1.0], [1.5, 1.0, 2.0]])\n",
    "X=np.dot(S, A.T)   # observaciones"
   ]
  },
  {
   "cell_type": "code",
   "execution_count": 41,
   "metadata": {},
   "outputs": [],
   "source": [
    "ica=FastICA(n_components=3)\n",
    "S_ica=ica.fit_transform(X) # reconstruye las señales\n",
    "A_ica=ica.mixing_"
   ]
  },
  {
   "cell_type": "code",
   "execution_count": 42,
   "metadata": {},
   "outputs": [],
   "source": [
    "pca=PCA(n_components=3)\n",
    "S_pca=pca.fit_transform(X)"
   ]
  },
  {
   "cell_type": "code",
   "execution_count": 43,
   "metadata": {},
   "outputs": [
    {
     "data": {
      "image/png": "[encoded data removed]",
      "text/plain": [
       "<Figure size 720x576 with 4 Axes>"
      ]
     },
     "metadata": {
      "needs_background": "light"
     },
     "output_type": "display_data"
    }
   ],
   "source": [
    "# plots\n",
    "plt.figure(figsize=(10,8))\n",
    "modelos=[X, S, S_ica, S_pca]\n",
    "nombres=['Observaciones (señlal mezclada)', 'Fuentes verdaderas', 'ICA', 'PCA']\n",
    "colores=['red', 'steelblue', 'orange']\n",
    "\n",
    "for i,(m,n) in enumerate(zip(modelos, nombres)):\n",
    "    plt.subplot(4,1,i+1)\n",
    "    plt.title(n)\n",
    "    for sig,c in zip(m.T, colores):\n",
    "        plt.plot(sig, color=c)\n",
    "\n",
    "plt.subplots_adjust(0.09, 0.04, 0.94, 0.94, 0.26, 0.46)\n",
    "plt.show();"
   ]
  },
  {
   "cell_type": "code",
   "execution_count": 44,
   "metadata": {},
   "outputs": [],
   "source": [
    "# UMAP (Uniform Manifold Aprox and Projection)\n",
    "\n",
    "import umap\n",
    "import seaborn as sns\n",
    "from sklearn.datasets import load_iris"
   ]
  },
  {
   "cell_type": "code",
   "execution_count": 45,
   "metadata": {},
   "outputs": [
    {
     "data": {
      "text/plain": [
       "(150, 4)"
      ]
     },
     "execution_count": 45,
     "metadata": {},
     "output_type": "execute_result"
    }
   ],
   "source": [
    "load_iris().data.shape"
   ]
  },
  {
   "cell_type": "code",
   "execution_count": 47,
   "metadata": {},
   "outputs": [
    {
     "name": "stderr",
     "output_type": "stream",
     "text": [
      "/Users/data/Library/Python/3.7/lib/python/site-packages/umap/spectral.py:229: UserWarning: Embedding a total of 2 separate connected components using meta-embedding (experimental)\n",
      "  n_components\n"
     ]
    },
    {
     "data": {
      "text/plain": [
       "(150, 2)"
      ]
     },
     "execution_count": 47,
     "metadata": {},
     "output_type": "execute_result"
    }
   ],
   "source": [
    "redu=umap.UMAP(n_components=2).fit_transform(load_iris().data)\n",
    "redu.shape"
   ]
  },
  {
   "cell_type": "code",
   "execution_count": 51,
   "metadata": {},
   "outputs": [
    {
     "data": {
      "image/png": "[encoded data removed]",
      "text/plain": [
       "<Figure size 432x288 with 1 Axes>"
      ]
     },
     "metadata": {
      "needs_background": "light"
     },
     "output_type": "display_data"
    }
   ],
   "source": [
    "plt.scatter(redu[:,0], redu[:,1], c=[sns.color_palette()[x] for x in load_iris().target])\n",
    "plt.gca().set_aspect('equal', 'datalim')\n",
    "plt.title('Proyaccion UMAP')\n",
    "plt.show();"
   ]
  },
  {
   "cell_type": "code",
   "execution_count": 52,
   "metadata": {},
   "outputs": [],
   "source": [
    "# load_iris()"
   ]
  },
  {
   "cell_type": "code",
   "execution_count": 53,
   "metadata": {},
   "outputs": [
    {
     "data": {
      "text/html": [
       "<div>\n",
       "<style scoped>\n",
       "    .dataframe tbody tr th:only-of-type {\n",
       "        vertical-align: middle;\n",
       "    }\n",
       "\n",
       "    .dataframe tbody tr th {\n",
       "        vertical-align: top;\n",
       "    }\n",
       "\n",
       "    .dataframe thead th {\n",
       "        text-align: right;\n",
       "    }\n",
       "</style>\n",
       "<table border=\"1\" class=\"dataframe\">\n",
       "  <thead>\n",
       "    <tr style=\"text-align: right;\">\n",
       "      <th></th>\n",
       "      <th>date</th>\n",
       "      <th>Temperature</th>\n",
       "      <th>Humidity</th>\n",
       "      <th>Light</th>\n",
       "      <th>CO2</th>\n",
       "      <th>HumidityRatio</th>\n",
       "      <th>Occupancy</th>\n",
       "    </tr>\n",
       "  </thead>\n",
       "  <tbody>\n",
       "    <tr>\n",
       "      <td>0</td>\n",
       "      <td>2/2/2015 14:00</td>\n",
       "      <td>23.7000</td>\n",
       "      <td>26.272</td>\n",
       "      <td>585.200000</td>\n",
       "      <td>749.200000</td>\n",
       "      <td>0.004764</td>\n",
       "      <td>1</td>\n",
       "    </tr>\n",
       "    <tr>\n",
       "      <td>1</td>\n",
       "      <td>2/2/2015 15:00</td>\n",
       "      <td>23.7180</td>\n",
       "      <td>26.290</td>\n",
       "      <td>578.400000</td>\n",
       "      <td>760.400000</td>\n",
       "      <td>0.004773</td>\n",
       "      <td>1</td>\n",
       "    </tr>\n",
       "    <tr>\n",
       "      <td>2</td>\n",
       "      <td>2/2/2015 16:00</td>\n",
       "      <td>23.7300</td>\n",
       "      <td>26.230</td>\n",
       "      <td>572.666667</td>\n",
       "      <td>769.666667</td>\n",
       "      <td>0.004765</td>\n",
       "      <td>1</td>\n",
       "    </tr>\n",
       "    <tr>\n",
       "      <td>3</td>\n",
       "      <td>2/2/2015 17:00</td>\n",
       "      <td>23.7225</td>\n",
       "      <td>26.125</td>\n",
       "      <td>493.750000</td>\n",
       "      <td>774.750000</td>\n",
       "      <td>0.004744</td>\n",
       "      <td>1</td>\n",
       "    </tr>\n",
       "    <tr>\n",
       "      <td>4</td>\n",
       "      <td>2/2/2015 18:00</td>\n",
       "      <td>23.7540</td>\n",
       "      <td>26.200</td>\n",
       "      <td>488.600000</td>\n",
       "      <td>779.000000</td>\n",
       "      <td>0.004767</td>\n",
       "      <td>1</td>\n",
       "    </tr>\n",
       "  </tbody>\n",
       "</table>\n",
       "</div>"
      ],
      "text/plain": [
       "             date  Temperature  Humidity       Light         CO2  \\\n",
       "0  2/2/2015 14:00      23.7000    26.272  585.200000  749.200000   \n",
       "1  2/2/2015 15:00      23.7180    26.290  578.400000  760.400000   \n",
       "2  2/2/2015 16:00      23.7300    26.230  572.666667  769.666667   \n",
       "3  2/2/2015 17:00      23.7225    26.125  493.750000  774.750000   \n",
       "4  2/2/2015 18:00      23.7540    26.200  488.600000  779.000000   \n",
       "\n",
       "   HumidityRatio  Occupancy  \n",
       "0       0.004764          1  \n",
       "1       0.004773          1  \n",
       "2       0.004765          1  \n",
       "3       0.004744          1  \n",
       "4       0.004767          1  "
      ]
     },
     "execution_count": 53,
     "metadata": {},
     "output_type": "execute_result"
    }
   ],
   "source": [
    "# Time Series\n",
    "\n",
    "df=pd.read_csv('data/occupancy.csv')\n",
    "df.head()"
   ]
  },
  {
   "cell_type": "code",
   "execution_count": 54,
   "metadata": {},
   "outputs": [
    {
     "data": {
      "text/html": [
       "<div>\n",
       "<style scoped>\n",
       "    .dataframe tbody tr th:only-of-type {\n",
       "        vertical-align: middle;\n",
       "    }\n",
       "\n",
       "    .dataframe tbody tr th {\n",
       "        vertical-align: top;\n",
       "    }\n",
       "\n",
       "    .dataframe thead th {\n",
       "        text-align: right;\n",
       "    }\n",
       "</style>\n",
       "<table border=\"1\" class=\"dataframe\">\n",
       "  <thead>\n",
       "    <tr style=\"text-align: right;\">\n",
       "      <th></th>\n",
       "      <th>Temperature</th>\n",
       "      <th>Humidity</th>\n",
       "      <th>Light</th>\n",
       "      <th>CO2</th>\n",
       "      <th>HumidityRatio</th>\n",
       "      <th>Occupancy</th>\n",
       "      <th>datetime</th>\n",
       "    </tr>\n",
       "    <tr>\n",
       "      <th>datetime</th>\n",
       "      <th></th>\n",
       "      <th></th>\n",
       "      <th></th>\n",
       "      <th></th>\n",
       "      <th></th>\n",
       "      <th></th>\n",
       "      <th></th>\n",
       "    </tr>\n",
       "  </thead>\n",
       "  <tbody>\n",
       "    <tr>\n",
       "      <td>2015-02-02 14:00:00</td>\n",
       "      <td>23.7000</td>\n",
       "      <td>26.272</td>\n",
       "      <td>585.200000</td>\n",
       "      <td>749.200000</td>\n",
       "      <td>0.004764</td>\n",
       "      <td>1</td>\n",
       "      <td>2015-02-02 14:00:00</td>\n",
       "    </tr>\n",
       "    <tr>\n",
       "      <td>2015-02-02 15:00:00</td>\n",
       "      <td>23.7180</td>\n",
       "      <td>26.290</td>\n",
       "      <td>578.400000</td>\n",
       "      <td>760.400000</td>\n",
       "      <td>0.004773</td>\n",
       "      <td>1</td>\n",
       "      <td>2015-02-02 15:00:00</td>\n",
       "    </tr>\n",
       "    <tr>\n",
       "      <td>2015-02-02 16:00:00</td>\n",
       "      <td>23.7300</td>\n",
       "      <td>26.230</td>\n",
       "      <td>572.666667</td>\n",
       "      <td>769.666667</td>\n",
       "      <td>0.004765</td>\n",
       "      <td>1</td>\n",
       "      <td>2015-02-02 16:00:00</td>\n",
       "    </tr>\n",
       "    <tr>\n",
       "      <td>2015-02-02 17:00:00</td>\n",
       "      <td>23.7225</td>\n",
       "      <td>26.125</td>\n",
       "      <td>493.750000</td>\n",
       "      <td>774.750000</td>\n",
       "      <td>0.004744</td>\n",
       "      <td>1</td>\n",
       "      <td>2015-02-02 17:00:00</td>\n",
       "    </tr>\n",
       "    <tr>\n",
       "      <td>2015-02-02 18:00:00</td>\n",
       "      <td>23.7540</td>\n",
       "      <td>26.200</td>\n",
       "      <td>488.600000</td>\n",
       "      <td>779.000000</td>\n",
       "      <td>0.004767</td>\n",
       "      <td>1</td>\n",
       "      <td>2015-02-02 18:00:00</td>\n",
       "    </tr>\n",
       "  </tbody>\n",
       "</table>\n",
       "</div>"
      ],
      "text/plain": [
       "                     Temperature  Humidity       Light         CO2  \\\n",
       "datetime                                                             \n",
       "2015-02-02 14:00:00      23.7000    26.272  585.200000  749.200000   \n",
       "2015-02-02 15:00:00      23.7180    26.290  578.400000  760.400000   \n",
       "2015-02-02 16:00:00      23.7300    26.230  572.666667  769.666667   \n",
       "2015-02-02 17:00:00      23.7225    26.125  493.750000  774.750000   \n",
       "2015-02-02 18:00:00      23.7540    26.200  488.600000  779.000000   \n",
       "\n",
       "                     HumidityRatio  Occupancy            datetime  \n",
       "datetime                                                           \n",
       "2015-02-02 14:00:00       0.004764          1 2015-02-02 14:00:00  \n",
       "2015-02-02 15:00:00       0.004773          1 2015-02-02 15:00:00  \n",
       "2015-02-02 16:00:00       0.004765          1 2015-02-02 16:00:00  \n",
       "2015-02-02 17:00:00       0.004744          1 2015-02-02 17:00:00  \n",
       "2015-02-02 18:00:00       0.004767          1 2015-02-02 18:00:00  "
      ]
     },
     "execution_count": 54,
     "metadata": {},
     "output_type": "execute_result"
    }
   ],
   "source": [
    "df['datetime']=pd.to_datetime(df.date)\n",
    "df=df.set_index(df.datetime)\n",
    "df.drop(columns=['date'], inplace=True)\n",
    "df.head()"
   ]
  },
  {
   "cell_type": "code",
   "execution_count": 56,
   "metadata": {},
   "outputs": [
    {
     "data": {
      "image/png": "[encoded data removed]",
      "text/plain": [
       "<Figure size 432x288 with 1 Axes>"
      ]
     },
     "metadata": {
      "needs_background": "light"
     },
     "output_type": "display_data"
    }
   ],
   "source": [
    "df.CO2.plot();"
   ]
  },
  {
   "cell_type": "code",
   "execution_count": 57,
   "metadata": {},
   "outputs": [
    {
     "data": {
      "image/png": "[encoded data removed]",
      "text/plain": [
       "<Figure size 432x288 with 1 Axes>"
      ]
     },
     "metadata": {
      "needs_background": "light"
     },
     "output_type": "display_data"
    }
   ],
   "source": [
    "df.Light.plot();"
   ]
  },
  {
   "cell_type": "code",
   "execution_count": 58,
   "metadata": {},
   "outputs": [
    {
     "data": {
      "image/png": "[encoded data removed]",
      "text/plain": [
       "<Figure size 432x288 with 1 Axes>"
      ]
     },
     "metadata": {
      "needs_background": "light"
     },
     "output_type": "display_data"
    }
   ],
   "source": [
    "df.Temperature.plot();"
   ]
  },
  {
   "cell_type": "code",
   "execution_count": 63,
   "metadata": {},
   "outputs": [
    {
     "data": {
      "image/png": "[encoded data removed]",
      "text/plain": [
       "<Figure size 432x288 with 1 Axes>"
      ]
     },
     "metadata": {
      "needs_background": "light"
     },
     "output_type": "display_data"
    }
   ],
   "source": [
    "import statsmodels.api as sm\n",
    "dias=df.CO2.loc['2015-4-1': '2015-4-15']\n",
    "dias.plot();"
   ]
  },
  {
   "cell_type": "code",
   "execution_count": 68,
   "metadata": {},
   "outputs": [
    {
     "data": {
      "image/png": "[encoded data removed]",
      "text/plain": [
       "<Figure size 432x288 with 4 Axes>"
      ]
     },
     "metadata": {
      "needs_background": "light"
     },
     "output_type": "display_data"
    }
   ],
   "source": [
    "res=sm.tsa.seasonal_decompose(dias)\n",
    "resplot=res.plot()"
   ]
  },
  {
   "cell_type": "code",
   "execution_count": 69,
   "metadata": {},
   "outputs": [
    {
     "data": {
      "text/plain": [
       "<matplotlib.axes._subplots.AxesSubplot at 0x13c1a8dd0>"
      ]
     },
     "execution_count": 69,
     "metadata": {},
     "output_type": "execute_result"
    },
    {
     "data": {
      "image/png": "[encoded data removed]",
      "text/plain": [
       "<Figure size 432x288 with 1 Axes>"
      ]
     },
     "metadata": {
      "needs_background": "light"
     },
     "output_type": "display_data"
    }
   ],
   "source": [
    "V=dias.copy()\n",
    "dV=V[:-1].reset_index(drop=True)-V[1:].reset_index(drop=True)\n",
    "dV.plot()"
   ]
  },
  {
   "cell_type": "code",
   "execution_count": 70,
   "metadata": {},
   "outputs": [],
   "source": [
    "# https://es.wikipedia.org/wiki/Diferencia_finita\n",
    "\n",
    "def derivada(data):\n",
    "    data=pd.Series(data)\n",
    "    return pd.Series((data[1:].values)-(data[:-1].values))"
   ]
  },
  {
   "cell_type": "code",
   "execution_count": 71,
   "metadata": {},
   "outputs": [
    {
     "data": {
      "image/png": "[encoded data removed]",
      "text/plain": [
       "<Figure size 432x288 with 1 Axes>"
      ]
     },
     "metadata": {
      "needs_background": "light"
     },
     "output_type": "display_data"
    }
   ],
   "source": [
    "x=np.linspace(-1,1,1000)\n",
    "y=x**3\n",
    "\n",
    "plt.plot(x, y)\n",
    "plt.plot(x[1:], derivada(y)*1000)\n",
    "plt.ylim(-1,1)\n",
    "plt.show()"
   ]
  },
  {
   "cell_type": "code",
   "execution_count": 72,
   "metadata": {},
   "outputs": [
    {
     "data": {
      "image/png": "[encoded data removed]",
      "text/plain": [
       "<Figure size 432x288 with 1 Axes>"
      ]
     },
     "metadata": {
      "needs_background": "light"
     },
     "output_type": "display_data"
    }
   ],
   "source": [
    "# lagplot\n",
    "\n",
    "from pandas.plotting import lag_plot\n",
    "lag_plot(df.CO2);"
   ]
  },
  {
   "cell_type": "code",
   "execution_count": 74,
   "metadata": {},
   "outputs": [
    {
     "data": {
      "image/png": "[encoded data removed]",
      "text/plain": [
       "<Figure size 432x288 with 1 Axes>"
      ]
     },
     "metadata": {
      "needs_background": "light"
     },
     "output_type": "display_data"
    }
   ],
   "source": [
    "lag_plot(pd.Series(np.random.random(1000)));"
   ]
  },
  {
   "cell_type": "code",
   "execution_count": 75,
   "metadata": {},
   "outputs": [
    {
     "data": {
      "text/plain": [
       "datetime\n",
       "2015-02-02 14:00:00    749.200000\n",
       "2015-02-02 15:00:00    760.400000\n",
       "2015-02-02 16:00:00    769.666667\n",
       "2015-02-02 17:00:00    774.750000\n",
       "2015-02-02 18:00:00    779.000000\n",
       "Name: CO2, dtype: float64"
      ]
     },
     "execution_count": 75,
     "metadata": {},
     "output_type": "execute_result"
    }
   ],
   "source": [
    "df.CO2.head()"
   ]
  },
  {
   "cell_type": "code",
   "execution_count": 87,
   "metadata": {},
   "outputs": [
    {
     "name": "stdout",
     "output_type": "stream",
     "text": [
      "Cota de error : 15.945951493728057\n"
     ]
    },
    {
     "data": {
      "text/html": [
       "<div>\n",
       "<style scoped>\n",
       "    .dataframe tbody tr th:only-of-type {\n",
       "        vertical-align: middle;\n",
       "    }\n",
       "\n",
       "    .dataframe tbody tr th {\n",
       "        vertical-align: top;\n",
       "    }\n",
       "\n",
       "    .dataframe thead th {\n",
       "        text-align: right;\n",
       "    }\n",
       "</style>\n",
       "<table border=\"1\" class=\"dataframe\">\n",
       "  <thead>\n",
       "    <tr style=\"text-align: right;\">\n",
       "      <th></th>\n",
       "      <th>real</th>\n",
       "      <th>pred</th>\n",
       "      <th>diff</th>\n",
       "    </tr>\n",
       "  </thead>\n",
       "  <tbody>\n",
       "    <tr>\n",
       "      <td>2015-05-24 04:00:00</td>\n",
       "      <td>1153.250000</td>\n",
       "      <td>1152.958812</td>\n",
       "      <td>-0.291188</td>\n",
       "    </tr>\n",
       "    <tr>\n",
       "      <td>2015-05-24 05:00:00</td>\n",
       "      <td>1152.400000</td>\n",
       "      <td>1152.627357</td>\n",
       "      <td>0.227357</td>\n",
       "    </tr>\n",
       "    <tr>\n",
       "      <td>2015-05-24 06:00:00</td>\n",
       "      <td>1146.166667</td>\n",
       "      <td>1153.235932</td>\n",
       "      <td>7.069265</td>\n",
       "    </tr>\n",
       "    <tr>\n",
       "      <td>2015-05-24 07:00:00</td>\n",
       "      <td>1145.400000</td>\n",
       "      <td>1154.050327</td>\n",
       "      <td>8.650327</td>\n",
       "    </tr>\n",
       "    <tr>\n",
       "      <td>2015-05-24 08:00:00</td>\n",
       "      <td>1140.800000</td>\n",
       "      <td>1154.395504</td>\n",
       "      <td>13.595504</td>\n",
       "    </tr>\n",
       "    <tr>\n",
       "      <td>2015-05-24 09:00:00</td>\n",
       "      <td>1150.250000</td>\n",
       "      <td>1154.473304</td>\n",
       "      <td>4.223304</td>\n",
       "    </tr>\n",
       "    <tr>\n",
       "      <td>2015-05-24 10:00:00</td>\n",
       "      <td>1129.200000</td>\n",
       "      <td>1156.070730</td>\n",
       "      <td>26.870730</td>\n",
       "    </tr>\n",
       "    <tr>\n",
       "      <td>2015-05-24 11:00:00</td>\n",
       "      <td>1125.800000</td>\n",
       "      <td>1157.665545</td>\n",
       "      <td>31.865545</td>\n",
       "    </tr>\n",
       "    <tr>\n",
       "      <td>2015-05-24 12:00:00</td>\n",
       "      <td>1123.000000</td>\n",
       "      <td>1157.195279</td>\n",
       "      <td>34.195279</td>\n",
       "    </tr>\n",
       "    <tr>\n",
       "      <td>2015-05-24 13:00:00</td>\n",
       "      <td>1124.000000</td>\n",
       "      <td>1156.471016</td>\n",
       "      <td>32.471016</td>\n",
       "    </tr>\n",
       "  </tbody>\n",
       "</table>\n",
       "</div>"
      ],
      "text/plain": [
       "                            real         pred       diff\n",
       "2015-05-24 04:00:00  1153.250000  1152.958812  -0.291188\n",
       "2015-05-24 05:00:00  1152.400000  1152.627357   0.227357\n",
       "2015-05-24 06:00:00  1146.166667  1153.235932   7.069265\n",
       "2015-05-24 07:00:00  1145.400000  1154.050327   8.650327\n",
       "2015-05-24 08:00:00  1140.800000  1154.395504  13.595504\n",
       "2015-05-24 09:00:00  1150.250000  1154.473304   4.223304\n",
       "2015-05-24 10:00:00  1129.200000  1156.070730  26.870730\n",
       "2015-05-24 11:00:00  1125.800000  1157.665545  31.865545\n",
       "2015-05-24 12:00:00  1123.000000  1157.195279  34.195279\n",
       "2015-05-24 13:00:00  1124.000000  1156.471016  32.471016"
      ]
     },
     "execution_count": 87,
     "metadata": {},
     "output_type": "execute_result"
    }
   ],
   "source": [
    "# AR\n",
    "import warnings\n",
    "warnings.simplefilter('ignore')\n",
    "\n",
    "from statsmodels.tsa.ar_model import AR\n",
    "\n",
    "train, test=df.CO2[:-10], df.CO2[-10:]\n",
    "modelo=AR(train).fit()\n",
    "pred=modelo.predict(len(train), len(df.CO2)-1)\n",
    "error=(pred-test).abs().sum()/len(pred)  # mae\n",
    "print ('Cota de error : {}'.format(error))\n",
    "\n",
    "res=pd.DataFrame({'real':test, 'pred':pred, 'diff':pred-test})\n",
    "res"
   ]
  },
  {
   "cell_type": "code",
   "execution_count": 93,
   "metadata": {},
   "outputs": [
    {
     "name": "stdout",
     "output_type": "stream",
     "text": [
      "Cota de error : 15.016314895082996 lags:  1\n",
      "Cota de error : 15.671845543327482 lags:  2\n",
      "Cota de error : 15.965939360431548 lags:  3\n",
      "Cota de error : 17.610677870206292 lags:  4\n",
      "Cota de error : 19.218907987275408 lags:  5\n",
      "Cota de error : 17.037163792618436 lags:  6\n",
      "Cota de error : 15.554671590315479 lags:  7\n",
      "Cota de error : 11.739144011618965 lags:  8\n",
      "Cota de error : 9.474424179621632 lags:  9\n",
      "Cota de error : 8.5088715235642 lags:  10\n",
      "Cota de error : 7.62305791780957 lags:  11\n",
      "Cota de error : 7.167227874348692 lags:  12\n",
      "Cota de error : 6.4012710097818175 lags:  13\n",
      "Cota de error : 5.262625596524868 lags:  14\n",
      "Cota de error : 4.994674385258532 lags:  15\n",
      "Cota de error : 4.97313474455018 lags:  16\n",
      "Cota de error : 5.648775616965918 lags:  17\n",
      "Cota de error : 6.504834015333654 lags:  18\n",
      "Cota de error : 7.298557479297505 lags:  19\n",
      "Cota de error : 7.7277246585661485 lags:  20\n",
      "Cota de error : 9.742344952804956 lags:  21\n",
      "Cota de error : 11.378984920719905 lags:  22\n",
      "Cota de error : 12.987173157153142 lags:  23\n",
      "Cota de error : 13.485777604151485 lags:  24\n",
      "Cota de error : 14.611895472172023 lags:  25\n",
      "Cota de error : 16.24058413527291 lags:  26\n",
      "Cota de error : 15.945951493728057 lags:  27\n",
      "Cota de error : 15.67233157703422 lags:  28\n",
      "Cota de error : 15.281612841823858 lags:  29\n",
      "Cota de error : 15.735647530724213 lags:  30\n",
      "Cota de error : 15.087661037050385 lags:  31\n",
      "Cota de error : 15.368758098383296 lags:  32\n",
      "Cota de error : 15.044371281479926 lags:  33\n",
      "Cota de error : 15.081661359685176 lags:  34\n",
      "Cota de error : 15.340252890362922 lags:  35\n",
      "Cota de error : 15.32488396431197 lags:  36\n",
      "Cota de error : 15.406044601322197 lags:  37\n",
      "Cota de error : 15.4081061828997 lags:  38\n",
      "Cota de error : 15.29659893785606 lags:  39\n",
      "Cota de error : 15.372738635757377 lags:  40\n",
      "Cota de error : 15.348752082566966 lags:  41\n",
      "Cota de error : 15.243969686317723 lags:  42\n",
      "Cota de error : 15.672683092015745 lags:  43\n",
      "Cota de error : 15.73071225099452 lags:  44\n",
      "Cota de error : 15.664668145860379 lags:  45\n",
      "Cota de error : 15.124525664378826 lags:  46\n",
      "Cota de error : 15.460141189255841 lags:  47\n",
      "Cota de error : 15.328074643978676 lags:  48\n",
      "Cota de error : 15.479531326488132 lags:  49\n",
      "Cota de error : 15.35885667994096 lags:  50\n",
      "Cota de error : 15.457622069433137 lags:  51\n",
      "Cota de error : 14.68606627682318 lags:  52\n",
      "Cota de error : 13.784730605968047 lags:  53\n",
      "Cota de error : 14.060521589781706 lags:  54\n",
      "Cota de error : 13.937362494691069 lags:  55\n",
      "Cota de error : 13.960487948274158 lags:  56\n",
      "Cota de error : 13.531269602878819 lags:  57\n",
      "Cota de error : 13.610147544372989 lags:  58\n",
      "Cota de error : 13.511150456809878 lags:  59\n",
      "Cota de error : 13.369498982395408 lags:  60\n",
      "Cota de error : 13.623297355130967 lags:  61\n",
      "Cota de error : 13.270134155330766 lags:  62\n",
      "Cota de error : 13.313702322657104 lags:  63\n",
      "Cota de error : 13.188683767117913 lags:  64\n",
      "Cota de error : 13.075086217982085 lags:  65\n",
      "Cota de error : 12.42426651982512 lags:  66\n",
      "Cota de error : 12.455607140181565 lags:  67\n",
      "Cota de error : 12.638885946120308 lags:  68\n",
      "Cota de error : 12.653458174440948 lags:  69\n",
      "Cota de error : 12.638355023491409 lags:  70\n",
      "Cota de error : 12.728207417604995 lags:  71\n",
      "Cota de error : 12.748148323873533 lags:  72\n",
      "Cota de error : 12.77371553915857 lags:  73\n",
      "Cota de error : 12.770153321089605 lags:  74\n",
      "Cota de error : 12.773826707778289 lags:  75\n",
      "Cota de error : 12.9019628301098 lags:  76\n",
      "Cota de error : 12.67668830574728 lags:  77\n",
      "Cota de error : 12.417971228572402 lags:  78\n",
      "Cota de error : 12.296755687059385 lags:  79\n",
      "Cota de error : 12.414419513237657 lags:  80\n",
      "Cota de error : 11.968473297218452 lags:  81\n",
      "Cota de error : 11.120864783463594 lags:  82\n",
      "Cota de error : 11.818425146825097 lags:  83\n",
      "Cota de error : 11.610768040429912 lags:  84\n",
      "Cota de error : 11.943408778975117 lags:  85\n",
      "Cota de error : 12.305640924354156 lags:  86\n",
      "Cota de error : 11.450485043620438 lags:  87\n",
      "Cota de error : 12.23312235051019 lags:  88\n",
      "Cota de error : 13.047432443398156 lags:  89\n",
      "Cota de error : 13.34218275783071 lags:  90\n",
      "Cota de error : 13.542909149514866 lags:  91\n",
      "Cota de error : 13.268564643373542 lags:  92\n",
      "Cota de error : 13.291540441383768 lags:  93\n",
      "Cota de error : 13.777065250208375 lags:  94\n",
      "Cota de error : 13.39178840456982 lags:  95\n",
      "Cota de error : 13.449283552884527 lags:  96\n",
      "Cota de error : 14.226690598556093 lags:  97\n",
      "Cota de error : 14.518640710287219 lags:  98\n",
      "Cota de error : 17.067572956040543 lags:  99\n"
     ]
    }
   ],
   "source": [
    "for i in range(1, 100, 1):\n",
    "    modelo=AR(train).fit(maxlag=i)\n",
    "    pred=modelo.predict(len(train), len(df.CO2)-1)\n",
    "    error=(pred-test).abs().sum()/len(pred)  # mae\n",
    "    print ('Cota de error : {}'.format(error), 'lags: ', i)"
   ]
  },
  {
   "cell_type": "code",
   "execution_count": 91,
   "metadata": {},
   "outputs": [
    {
     "name": "stdout",
     "output_type": "stream",
     "text": [
      "Cota de error : 15.777693717671559\n"
     ]
    },
    {
     "data": {
      "text/html": [
       "<div>\n",
       "<style scoped>\n",
       "    .dataframe tbody tr th:only-of-type {\n",
       "        vertical-align: middle;\n",
       "    }\n",
       "\n",
       "    .dataframe tbody tr th {\n",
       "        vertical-align: top;\n",
       "    }\n",
       "\n",
       "    .dataframe thead th {\n",
       "        text-align: right;\n",
       "    }\n",
       "</style>\n",
       "<table border=\"1\" class=\"dataframe\">\n",
       "  <thead>\n",
       "    <tr style=\"text-align: right;\">\n",
       "      <th></th>\n",
       "      <th>real</th>\n",
       "      <th>pred</th>\n",
       "      <th>diff</th>\n",
       "    </tr>\n",
       "  </thead>\n",
       "  <tbody>\n",
       "    <tr>\n",
       "      <td>2015-05-24 04:00:00</td>\n",
       "      <td>1153.250000</td>\n",
       "      <td>1152.952313</td>\n",
       "      <td>-0.297687</td>\n",
       "    </tr>\n",
       "    <tr>\n",
       "      <td>2015-05-24 05:00:00</td>\n",
       "      <td>1152.400000</td>\n",
       "      <td>1152.868154</td>\n",
       "      <td>0.468154</td>\n",
       "    </tr>\n",
       "    <tr>\n",
       "      <td>2015-05-24 06:00:00</td>\n",
       "      <td>1146.166667</td>\n",
       "      <td>1152.659835</td>\n",
       "      <td>6.493168</td>\n",
       "    </tr>\n",
       "    <tr>\n",
       "      <td>2015-05-24 07:00:00</td>\n",
       "      <td>1145.400000</td>\n",
       "      <td>1154.051068</td>\n",
       "      <td>8.651068</td>\n",
       "    </tr>\n",
       "    <tr>\n",
       "      <td>2015-05-24 08:00:00</td>\n",
       "      <td>1140.800000</td>\n",
       "      <td>1153.974257</td>\n",
       "      <td>13.174257</td>\n",
       "    </tr>\n",
       "    <tr>\n",
       "      <td>2015-05-24 09:00:00</td>\n",
       "      <td>1150.250000</td>\n",
       "      <td>1154.088734</td>\n",
       "      <td>3.838734</td>\n",
       "    </tr>\n",
       "    <tr>\n",
       "      <td>2015-05-24 10:00:00</td>\n",
       "      <td>1129.200000</td>\n",
       "      <td>1155.726933</td>\n",
       "      <td>26.526933</td>\n",
       "    </tr>\n",
       "    <tr>\n",
       "      <td>2015-05-24 11:00:00</td>\n",
       "      <td>1125.800000</td>\n",
       "      <td>1157.205316</td>\n",
       "      <td>31.405316</td>\n",
       "    </tr>\n",
       "    <tr>\n",
       "      <td>2015-05-24 12:00:00</td>\n",
       "      <td>1123.000000</td>\n",
       "      <td>1156.981241</td>\n",
       "      <td>33.981241</td>\n",
       "    </tr>\n",
       "    <tr>\n",
       "      <td>2015-05-24 13:00:00</td>\n",
       "      <td>1124.000000</td>\n",
       "      <td>1156.940379</td>\n",
       "      <td>32.940379</td>\n",
       "    </tr>\n",
       "  </tbody>\n",
       "</table>\n",
       "</div>"
      ],
      "text/plain": [
       "                            real         pred       diff\n",
       "2015-05-24 04:00:00  1153.250000  1152.952313  -0.297687\n",
       "2015-05-24 05:00:00  1152.400000  1152.868154   0.468154\n",
       "2015-05-24 06:00:00  1146.166667  1152.659835   6.493168\n",
       "2015-05-24 07:00:00  1145.400000  1154.051068   8.651068\n",
       "2015-05-24 08:00:00  1140.800000  1153.974257  13.174257\n",
       "2015-05-24 09:00:00  1150.250000  1154.088734   3.838734\n",
       "2015-05-24 10:00:00  1129.200000  1155.726933  26.526933\n",
       "2015-05-24 11:00:00  1125.800000  1157.205316  31.405316\n",
       "2015-05-24 12:00:00  1123.000000  1156.981241  33.981241\n",
       "2015-05-24 13:00:00  1124.000000  1156.940379  32.940379"
      ]
     },
     "execution_count": 91,
     "metadata": {},
     "output_type": "execute_result"
    }
   ],
   "source": [
    "# ARMA\n",
    "\n",
    "from statsmodels.tsa.arima_model import ARMA\n",
    "\n",
    "modelo=ARMA(train, order=(16, 2)).fit()   #p=>AR, q=>MA\n",
    "pred=modelo.predict(len(train), len(df.CO2)-1)\n",
    "error=(pred-test).abs().sum()/len(pred)  # mae\n",
    "print ('Cota de error : {}'.format(error))\n",
    "\n",
    "res=pd.DataFrame({'real':test, 'pred':pred, 'diff':pred-test})\n",
    "res"
   ]
  },
  {
   "cell_type": "code",
   "execution_count": 95,
   "metadata": {},
   "outputs": [
    {
     "name": "stdout",
     "output_type": "stream",
     "text": [
      "Cota de error : 1139.2096043623574\n"
     ]
    },
    {
     "data": {
      "text/html": [
       "<div>\n",
       "<style scoped>\n",
       "    .dataframe tbody tr th:only-of-type {\n",
       "        vertical-align: middle;\n",
       "    }\n",
       "\n",
       "    .dataframe tbody tr th {\n",
       "        vertical-align: top;\n",
       "    }\n",
       "\n",
       "    .dataframe thead th {\n",
       "        text-align: right;\n",
       "    }\n",
       "</style>\n",
       "<table border=\"1\" class=\"dataframe\">\n",
       "  <thead>\n",
       "    <tr style=\"text-align: right;\">\n",
       "      <th></th>\n",
       "      <th>real</th>\n",
       "      <th>pred</th>\n",
       "      <th>diff</th>\n",
       "    </tr>\n",
       "  </thead>\n",
       "  <tbody>\n",
       "    <tr>\n",
       "      <td>2015-05-24 04:00:00</td>\n",
       "      <td>1153.250000</td>\n",
       "      <td>-2.288582</td>\n",
       "      <td>-1155.538582</td>\n",
       "    </tr>\n",
       "    <tr>\n",
       "      <td>2015-05-24 05:00:00</td>\n",
       "      <td>1152.400000</td>\n",
       "      <td>-0.264609</td>\n",
       "      <td>-1152.664609</td>\n",
       "    </tr>\n",
       "    <tr>\n",
       "      <td>2015-05-24 06:00:00</td>\n",
       "      <td>1146.166667</td>\n",
       "      <td>0.420967</td>\n",
       "      <td>-1145.745700</td>\n",
       "    </tr>\n",
       "    <tr>\n",
       "      <td>2015-05-24 07:00:00</td>\n",
       "      <td>1145.400000</td>\n",
       "      <td>1.340260</td>\n",
       "      <td>-1144.059740</td>\n",
       "    </tr>\n",
       "    <tr>\n",
       "      <td>2015-05-24 08:00:00</td>\n",
       "      <td>1140.800000</td>\n",
       "      <td>-0.745891</td>\n",
       "      <td>-1141.545891</td>\n",
       "    </tr>\n",
       "    <tr>\n",
       "      <td>2015-05-24 09:00:00</td>\n",
       "      <td>1150.250000</td>\n",
       "      <td>-0.901691</td>\n",
       "      <td>-1151.151691</td>\n",
       "    </tr>\n",
       "    <tr>\n",
       "      <td>2015-05-24 10:00:00</td>\n",
       "      <td>1129.200000</td>\n",
       "      <td>2.525164</td>\n",
       "      <td>-1126.674836</td>\n",
       "    </tr>\n",
       "    <tr>\n",
       "      <td>2015-05-24 11:00:00</td>\n",
       "      <td>1125.800000</td>\n",
       "      <td>-0.067882</td>\n",
       "      <td>-1125.867882</td>\n",
       "    </tr>\n",
       "    <tr>\n",
       "      <td>2015-05-24 12:00:00</td>\n",
       "      <td>1123.000000</td>\n",
       "      <td>-1.674338</td>\n",
       "      <td>-1124.674338</td>\n",
       "    </tr>\n",
       "    <tr>\n",
       "      <td>2015-05-24 13:00:00</td>\n",
       "      <td>1124.000000</td>\n",
       "      <td>-0.172775</td>\n",
       "      <td>-1124.172775</td>\n",
       "    </tr>\n",
       "  </tbody>\n",
       "</table>\n",
       "</div>"
      ],
      "text/plain": [
       "                            real      pred         diff\n",
       "2015-05-24 04:00:00  1153.250000 -2.288582 -1155.538582\n",
       "2015-05-24 05:00:00  1152.400000 -0.264609 -1152.664609\n",
       "2015-05-24 06:00:00  1146.166667  0.420967 -1145.745700\n",
       "2015-05-24 07:00:00  1145.400000  1.340260 -1144.059740\n",
       "2015-05-24 08:00:00  1140.800000 -0.745891 -1141.545891\n",
       "2015-05-24 09:00:00  1150.250000 -0.901691 -1151.151691\n",
       "2015-05-24 10:00:00  1129.200000  2.525164 -1126.674836\n",
       "2015-05-24 11:00:00  1125.800000 -0.067882 -1125.867882\n",
       "2015-05-24 12:00:00  1123.000000 -1.674338 -1124.674338\n",
       "2015-05-24 13:00:00  1124.000000 -0.172775 -1124.172775"
      ]
     },
     "execution_count": 95,
     "metadata": {},
     "output_type": "execute_result"
    }
   ],
   "source": [
    "# ARIMA\n",
    "\n",
    "# ADF-test (mirar si se quiere)\n",
    "# https://www.statsmodels.org/dev/generated/statsmodels.tsa.stattools.adfuller.html\n",
    "\n",
    "\n",
    "from statsmodels.tsa.arima_model import ARIMA\n",
    "\n",
    "modelo=ARIMA(train, order=(16, 2, 2)).fit(disp=False)\n",
    "pred=modelo.predict(len(train), len(df.CO2)-1)\n",
    "error=(pred-test).abs().sum()/len(pred)  # mae\n",
    "print ('Cota de error : {}'.format(error))\n",
    "\n",
    "res=pd.DataFrame({'real':test, 'pred':pred, 'diff':pred-test})\n",
    "res"
   ]
  },
  {
   "cell_type": "code",
   "execution_count": 99,
   "metadata": {},
   "outputs": [
    {
     "name": "stdout",
     "output_type": "stream",
     "text": [
      "Cota de error : 20.934500627596936\n"
     ]
    },
    {
     "data": {
      "text/html": [
       "<div>\n",
       "<style scoped>\n",
       "    .dataframe tbody tr th:only-of-type {\n",
       "        vertical-align: middle;\n",
       "    }\n",
       "\n",
       "    .dataframe tbody tr th {\n",
       "        vertical-align: top;\n",
       "    }\n",
       "\n",
       "    .dataframe thead th {\n",
       "        text-align: right;\n",
       "    }\n",
       "</style>\n",
       "<table border=\"1\" class=\"dataframe\">\n",
       "  <thead>\n",
       "    <tr style=\"text-align: right;\">\n",
       "      <th></th>\n",
       "      <th>real</th>\n",
       "      <th>pred</th>\n",
       "      <th>diff</th>\n",
       "    </tr>\n",
       "  </thead>\n",
       "  <tbody>\n",
       "    <tr>\n",
       "      <td>2015-05-24 04:00:00</td>\n",
       "      <td>1153.250000</td>\n",
       "      <td>1153.917823</td>\n",
       "      <td>0.667823</td>\n",
       "    </tr>\n",
       "    <tr>\n",
       "      <td>2015-05-24 05:00:00</td>\n",
       "      <td>1152.400000</td>\n",
       "      <td>1155.278725</td>\n",
       "      <td>2.878725</td>\n",
       "    </tr>\n",
       "    <tr>\n",
       "      <td>2015-05-24 06:00:00</td>\n",
       "      <td>1146.166667</td>\n",
       "      <td>1156.646314</td>\n",
       "      <td>10.479647</td>\n",
       "    </tr>\n",
       "    <tr>\n",
       "      <td>2015-05-24 07:00:00</td>\n",
       "      <td>1145.400000</td>\n",
       "      <td>1157.996276</td>\n",
       "      <td>12.596276</td>\n",
       "    </tr>\n",
       "    <tr>\n",
       "      <td>2015-05-24 08:00:00</td>\n",
       "      <td>1140.800000</td>\n",
       "      <td>1159.338071</td>\n",
       "      <td>18.538071</td>\n",
       "    </tr>\n",
       "    <tr>\n",
       "      <td>2015-05-24 09:00:00</td>\n",
       "      <td>1150.250000</td>\n",
       "      <td>1160.668184</td>\n",
       "      <td>10.418184</td>\n",
       "    </tr>\n",
       "    <tr>\n",
       "      <td>2015-05-24 10:00:00</td>\n",
       "      <td>1129.200000</td>\n",
       "      <td>1161.988083</td>\n",
       "      <td>32.788083</td>\n",
       "    </tr>\n",
       "    <tr>\n",
       "      <td>2015-05-24 11:00:00</td>\n",
       "      <td>1125.800000</td>\n",
       "      <td>1163.297322</td>\n",
       "      <td>37.497322</td>\n",
       "    </tr>\n",
       "    <tr>\n",
       "      <td>2015-05-24 12:00:00</td>\n",
       "      <td>1123.000000</td>\n",
       "      <td>1164.596188</td>\n",
       "      <td>41.596188</td>\n",
       "    </tr>\n",
       "    <tr>\n",
       "      <td>2015-05-24 13:00:00</td>\n",
       "      <td>1124.000000</td>\n",
       "      <td>1165.884685</td>\n",
       "      <td>41.884685</td>\n",
       "    </tr>\n",
       "  </tbody>\n",
       "</table>\n",
       "</div>"
      ],
      "text/plain": [
       "                            real         pred       diff\n",
       "2015-05-24 04:00:00  1153.250000  1153.917823   0.667823\n",
       "2015-05-24 05:00:00  1152.400000  1155.278725   2.878725\n",
       "2015-05-24 06:00:00  1146.166667  1156.646314  10.479647\n",
       "2015-05-24 07:00:00  1145.400000  1157.996276  12.596276\n",
       "2015-05-24 08:00:00  1140.800000  1159.338071  18.538071\n",
       "2015-05-24 09:00:00  1150.250000  1160.668184  10.418184\n",
       "2015-05-24 10:00:00  1129.200000  1161.988083  32.788083\n",
       "2015-05-24 11:00:00  1125.800000  1163.297322  37.497322\n",
       "2015-05-24 12:00:00  1123.000000  1164.596188  41.596188\n",
       "2015-05-24 13:00:00  1124.000000  1165.884685  41.884685"
      ]
     },
     "execution_count": 99,
     "metadata": {},
     "output_type": "execute_result"
    }
   ],
   "source": [
    "# SARIMA-SARIMAX\n",
    "\n",
    "from statsmodels.tsa.statespace.sarimax import SARIMAX\n",
    "\n",
    "modelo=SARIMAX(train, order=(2, 1, 2, 2)).fit()\n",
    "pred=modelo.predict(len(train), len(df.CO2)-1)\n",
    "error=(pred-test).abs().sum()/len(pred)  # mae\n",
    "print ('Cota de error : {}'.format(error))\n",
    "\n",
    "res=pd.DataFrame({'real':test, 'pred':pred, 'diff':pred-test})\n",
    "res"
   ]
  },
  {
   "cell_type": "code",
   "execution_count": null,
   "metadata": {},
   "outputs": [],
   "source": []
  }
 ],
 "metadata": {
  "kernelspec": {
   "display_name": "Python 3",
   "language": "python",
   "name": "python3"
  },
  "language_info": {
   "codemirror_mode": {
    "name": "ipython",
    "version": 3
   },
   "file_extension": ".py",
   "mimetype": "text/x-python",
   "name": "python",
   "nbconvert_exporter": "python",
   "pygments_lexer": "ipython3",
   "version": "3.7.5"
  }
 },
 "nbformat": 4,
 "nbformat_minor": 2
}
